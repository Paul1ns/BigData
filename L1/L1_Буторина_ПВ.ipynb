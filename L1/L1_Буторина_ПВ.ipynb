{
  "nbformat": 4,
  "nbformat_minor": 0,
  "metadata": {
    "colab": {
      "provenance": []
    },
    "kernelspec": {
      "name": "python3",
      "display_name": "Python 3"
    },
    "language_info": {
      "name": "python"
    }
  },
  "cells": [
    {
      "cell_type": "code",
      "execution_count": null,
      "metadata": {
        "id": "l2QmORb4dlZM"
      },
      "outputs": [],
      "source": [
        "from pyspark.sql import SparkSession\n",
        "import pyspark.sql.functions as F\n",
        "import pyspark.sql.types as t\n",
        "from geopy.distance import geodesic\n",
        "from math import sqrt\n",
        "import pandas as pd"
      ]
    },
    {
      "cell_type": "code",
      "source": [
        "spark = SparkSession.builder.getOrCreate()\n",
        "spark"
      ],
      "metadata": {
        "colab": {
          "base_uri": "https://localhost:8080/",
          "height": 222
        },
        "id": "VhW3j6VgEAgQ",
        "outputId": "9b3dcff5-ad59-4224-966b-34716d09bb94"
      },
      "execution_count": null,
      "outputs": [
        {
          "output_type": "execute_result",
          "data": {
            "text/plain": [
              "<pyspark.sql.session.SparkSession at 0x793e85b64c90>"
            ],
            "text/html": [
              "\n",
              "            <div>\n",
              "                <p><b>SparkSession - in-memory</b></p>\n",
              "                \n",
              "        <div>\n",
              "            <p><b>SparkContext</b></p>\n",
              "\n",
              "            <p><a href=\"http://22d8cc2ffbfa:4040\">Spark UI</a></p>\n",
              "\n",
              "            <dl>\n",
              "              <dt>Version</dt>\n",
              "                <dd><code>v3.5.5</code></dd>\n",
              "              <dt>Master</dt>\n",
              "                <dd><code>local[*]</code></dd>\n",
              "              <dt>AppName</dt>\n",
              "                <dd><code>pyspark-shell</code></dd>\n",
              "            </dl>\n",
              "        </div>\n",
              "        \n",
              "            </div>\n",
              "        "
            ]
          },
          "metadata": {},
          "execution_count": 2
        }
      ]
    },
    {
      "cell_type": "code",
      "source": [
        "trips = spark.read.format('csv').option('header', 'true').load(\"/content/trips.csv\")\n",
        "print(\"Trips\", trips)\n"
      ],
      "metadata": {
        "colab": {
          "base_uri": "https://localhost:8080/"
        },
        "id": "B3XUI0d5I64K",
        "outputId": "d6a28549-3a86-44f6-acd1-a03cbcdae332"
      },
      "execution_count": null,
      "outputs": [
        {
          "output_type": "stream",
          "name": "stdout",
          "text": [
            "Trips DataFrame[id: string, duration: string, start_date: string, start_station_name: string, start_station_id: string, end_date: string, end_station_name: string, end_station_id: string, bike_id: string, subscription_type: string, zip_code: string]\n"
          ]
        }
      ]
    },
    {
      "cell_type": "code",
      "source": [
        "stations = spark.read.format('csv').option('header', 'true').load(\"/content/stations.csv\")\n",
        "print(\"Stations\", stations)"
      ],
      "metadata": {
        "colab": {
          "base_uri": "https://localhost:8080/"
        },
        "id": "SdxFn_DTagrY",
        "outputId": "a02c60cf-425e-4ead-dd36-61a9542e0c6b"
      },
      "execution_count": null,
      "outputs": [
        {
          "output_type": "stream",
          "name": "stdout",
          "text": [
            "Stations DataFrame[id: string, name: string, lat: string, long: string, dock_count: string, city: string, installation_date: string]\n"
          ]
        }
      ]
    },
    {
      "cell_type": "markdown",
      "source": [
        "## **№1  Найти велосипед с максимальным временем пробега.**"
      ],
      "metadata": {
        "id": "Qm3pS585JWYW"
      }
    },
    {
      "cell_type": "code",
      "source": [
        "#чтобы найти велосипед с самым большим временем поездки на нем\n",
        "max_trip = (\n",
        "    trips.groupBy('bike_id')  #группируем по идентификатору велика\n",
        "    .agg(F.max(F.col(\"duration\").cast(t.IntegerType())).alias(\"duration\"))  #ищем масимальное время поездки для каждого велосипеда\n",
        "    .orderBy(F.col('duration').desc())  #сортировка по убыванию\n",
        "    .limit(1)  #выводим первую строку, которая содержит самое большое время\n",
        ")\n",
        "\n",
        "max_trip.show()"
      ],
      "metadata": {
        "colab": {
          "base_uri": "https://localhost:8080/"
        },
        "id": "xTFz82EgJjCx",
        "outputId": "a0cbc2c4-507b-4a9a-a98f-ceba655511cb"
      },
      "execution_count": null,
      "outputs": [
        {
          "output_type": "stream",
          "name": "stdout",
          "text": [
            "+-------+--------+\n",
            "|bike_id|duration|\n",
            "+-------+--------+\n",
            "|    535|17270400|\n",
            "+-------+--------+\n",
            "\n"
          ]
        }
      ]
    },
    {
      "cell_type": "markdown",
      "source": [
        "## **№2  Найти наибольшее геодезическое расстояние между станциями.**"
      ],
      "metadata": {
        "id": "0ne6W22JM3Dh"
      }
    },
    {
      "cell_type": "code",
      "source": [
        "\n",
        "#выбираем нужные столбцы из stations\n",
        "stations_data = stations.select(\"id\", \"lat\", \"long\")\n",
        "stations_data.show(10)\n",
        "#получаем все возможные пары станций с фильтром, чтоб не было пар самим с собой\n",
        "combo = stations_data.alias(\"A\").crossJoin(stations_data.alias(\"B\")).filter(\"A.id != B.id\")\n",
        "\n",
        "distance_dif = combo.withColumn(#вычисляем расстояние между парами станций\n",
        "    \"distance\",\n",
        "    F.sqrt(\n",
        "        F.pow(F.col(\"A.lat\") - F.col(\"B.lat\"), 2) +\n",
        "        F.pow(F.col(\"A.long\") - F.col(\"B.long\"), 2)\n",
        "    )\n",
        ")\n",
        "#сортируем по убыванию и оставляем только первую строку\n",
        "max_distance = distance_dif.orderBy(F.desc(\"distance\")).select(\"A.id\", \"B.id\", \"distance\").first()\n",
        "print(max_distance)\n"
      ],
      "metadata": {
        "colab": {
          "base_uri": "https://localhost:8080/"
        },
        "id": "kN1nXuPzOgVb",
        "outputId": "932f06bf-12af-4351-e5ed-9a3ac48c3ed0"
      },
      "execution_count": null,
      "outputs": [
        {
          "output_type": "stream",
          "name": "stdout",
          "text": [
            "+---+------------------+-------------------+\n",
            "| id|               lat|               long|\n",
            "+---+------------------+-------------------+\n",
            "|  2|         37.329732|-121.90178200000001|\n",
            "|  3|         37.330698|        -121.888979|\n",
            "|  4|         37.333988|        -121.894902|\n",
            "|  5|         37.331415|          -121.8932|\n",
            "|  6|37.336721000000004|        -121.894074|\n",
            "|  7|         37.333798|-121.88694299999999|\n",
            "|  8|         37.330165|-121.88583100000001|\n",
            "|  9|         37.348742|-121.89471499999999|\n",
            "| 10|         37.337391|        -121.886995|\n",
            "| 11|         37.335885|-121.88566000000002|\n",
            "+---+------------------+-------------------+\n",
            "only showing top 10 rows\n",
            "\n",
            "Row(id='16', id='60', distance=0.7058482821754397)\n"
          ]
        }
      ]
    },
    {
      "cell_type": "markdown",
      "source": [
        "## **№3  Найти путь велосипеда с максимальным временем пробега через станции.**"
      ],
      "metadata": {
        "id": "ifz6g5O0Szg7"
      }
    },
    {
      "cell_type": "code",
      "source": [
        "bike_longest_trip = max_trip.select(\"bike_id\").first()[0]#используя первое задание, находим индетификатор велика с макс.временем пробега\n",
        "\n",
        "# Фильтруем поездки для найденного велосипеда\n",
        "filtered_trips = (\n",
        "    trips.filter(F.col(\"bike_id\") == bike_longest_trip)#фильтруем по найденному id\n",
        "    .select(\"id\", \"bike_id\", \"start_station_id\", \"end_station_id\")\n",
        "    .orderBy(F.col(\"id\").cast(t.IntegerType()))\n",
        ")\n",
        "\n",
        "# Выводим данные\n",
        "filtered_trips.show()"
      ],
      "metadata": {
        "colab": {
          "base_uri": "https://localhost:8080/"
        },
        "id": "dLqOFwdSS-98",
        "outputId": "90c5c78d-d250-450c-ad37-ab7e71be8181"
      },
      "execution_count": null,
      "outputs": [
        {
          "output_type": "stream",
          "name": "stdout",
          "text": [
            "+-----+-------+----------------+--------------+\n",
            "|   id|bike_id|start_station_id|end_station_id|\n",
            "+-----+-------+----------------+--------------+\n",
            "| 4966|    535|              47|            70|\n",
            "| 5067|    535|              70|            69|\n",
            "| 5179|    535|              69|            77|\n",
            "| 5199|    535|              77|            64|\n",
            "| 7806|    535|              61|            42|\n",
            "|11422|    535|              58|            72|\n",
            "|12245|    535|              72|            47|\n",
            "|12485|    535|              47|            60|\n",
            "|12558|    535|              60|            46|\n",
            "|13107|    535|              46|            77|\n",
            "|13423|    535|              77|            77|\n",
            "|14380|    535|              77|            62|\n",
            "|14581|    535|              62|            61|\n",
            "|15231|    535|              55|            61|\n",
            "|15242|    535|              61|            60|\n",
            "|15347|    535|              60|            41|\n",
            "|15605|    535|              41|            50|\n",
            "|15611|    535|              50|            41|\n",
            "|15770|    535|              41|            70|\n",
            "|16294|    535|              70|            74|\n",
            "+-----+-------+----------------+--------------+\n",
            "only showing top 20 rows\n",
            "\n"
          ]
        }
      ]
    },
    {
      "cell_type": "markdown",
      "source": [
        "## **№4  Найти количество велосипедов в системе.**"
      ],
      "metadata": {
        "id": "7pgFaohhWF-H"
      }
    },
    {
      "cell_type": "code",
      "source": [
        "#считаем количество уникальных велосипедов по id\n",
        "bikes_count = trips.select(\"bike_id\").distinct().count()\n",
        "\n",
        "print(f\"Количество байков в системе: {bikes_count}\")\n"
      ],
      "metadata": {
        "colab": {
          "base_uri": "https://localhost:8080/"
        },
        "id": "vnneuoyzWMYn",
        "outputId": "76d4baef-f7c1-4e58-8165-770cfdfcda51"
      },
      "execution_count": null,
      "outputs": [
        {
          "output_type": "stream",
          "name": "stdout",
          "text": [
            "Количество байков в системе: 700\n"
          ]
        }
      ]
    },
    {
      "cell_type": "markdown",
      "source": [
        "## **№5  Найти пользователей потративших на поездки более 3 часов.**"
      ],
      "metadata": {
        "id": "0mW_Q1UgXSgA"
      }
    },
    {
      "cell_type": "code",
      "source": [
        "#фильтруем поездки, продолжительность которых >= 10800 секунд (3 часа)\n",
        "long_trips = trips.filter(F.col(\"duration\").cast(t.IntegerType()) >= 10800)\n",
        "print(f\"Количество поездок, длительность которых больше 3 часов: {long_trips.count()}\")\n",
        "\n",
        "output_filtered = long_trips.groupBy(\"zip_code\").agg(\n",
        "    F.max(F.col(\"duration\").cast(t.IntegerType())).alias(\"max_duration\")  #находим максимальную длительность для каждой группы\n",
        ")\n",
        "\n",
        "# Выводим результат\n",
        "output_filtered.show()\n"
      ],
      "metadata": {
        "colab": {
          "base_uri": "https://localhost:8080/"
        },
        "id": "cRSq-kEQXY2j",
        "outputId": "f055fbfa-b79f-477e-eee2-c4c6570cf5ca"
      },
      "execution_count": null,
      "outputs": [
        {
          "output_type": "stream",
          "name": "stdout",
          "text": [
            "Количество поездок, длительность которых больше 3 часов: 8323\n",
            "+--------+------------+\n",
            "|zip_code|max_duration|\n",
            "+--------+------------+\n",
            "|   94102|      464952|\n",
            "|   60070|       26540|\n",
            "|   95134|       82487|\n",
            "|   91910|       20243|\n",
            "|   84606|       14575|\n",
            "|   80305|       74749|\n",
            "|    2136|       16010|\n",
            "|   11722|       12173|\n",
            "|   94610|       76287|\n",
            "|   94309|       18484|\n",
            "|   94404|       63504|\n",
            "|    7650|       20150|\n",
            "|   11106|       13773|\n",
            "|   93013|       25116|\n",
            "|   16303|       13072|\n",
            "|   94015|      103760|\n",
            "|   60661|       24042|\n",
            "|    4665|       16342|\n",
            "|   94568|      295512|\n",
            "|   94079|       33057|\n",
            "+--------+------------+\n",
            "only showing top 20 rows\n",
            "\n"
          ]
        }
      ]
    }
  ]
}