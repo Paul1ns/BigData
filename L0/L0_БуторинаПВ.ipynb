{
  "cells": [
    {
      "cell_type": "markdown",
      "metadata": {
        "id": "82OvPKEiEqjc"
      },
      "source": [
        "# Введение в MapReduce модель на Python\n"
      ]
    },
    {
      "cell_type": "code",
      "execution_count": 1,
      "metadata": {
        "id": "JQ2cvXLjICmI"
      },
      "outputs": [],
      "source": [
        "from typing import NamedTuple # requires python 3.6+\n",
        "from typing import Iterator"
      ]
    },
    {
      "cell_type": "code",
      "execution_count": 2,
      "metadata": {
        "id": "yjPHumVwEyEg"
      },
      "outputs": [],
      "source": [
        "def MAP(_, row:NamedTuple):\n",
        "  if (row.gender == 'female'):\n",
        "    yield (row.age, row)\n",
        "    \n",
        "def REDUCE(age:str, rows:Iterator[NamedTuple]):\n",
        "  sum = 0\n",
        "  count = 0\n",
        "  for row in rows:\n",
        "    sum += row.social_contacts\n",
        "    count += 1\n",
        "  if (count > 0):\n",
        "    yield (age, sum/count)\n",
        "  else:\n",
        "    yield (age, 0)"
      ]
    },
    {
      "cell_type": "markdown",
      "metadata": {
        "id": "vBKMgpG_ilaZ"
      },
      "source": [
        "Модель элемента данных"
      ]
    },
    {
      "cell_type": "code",
      "execution_count": 3,
      "metadata": {
        "id": "Rv-XIjhTJPx3"
      },
      "outputs": [],
      "source": [
        "class User(NamedTuple):\n",
        "  id: int\n",
        "  age: str\n",
        "  social_contacts: int\n",
        "  gender: str"
      ]
    },
    {
      "cell_type": "code",
      "execution_count": 4,
      "metadata": {
        "id": "5KV0Ze2vQgu5"
      },
      "outputs": [],
      "source": [
        "input_collection = [\n",
        "    User(id=0, age=55, gender='male', social_contacts=20),\n",
        "    User(id=1, age=25, gender='female', social_contacts=240),\n",
        "    User(id=2, age=25, gender='female', social_contacts=500),\n",
        "    User(id=3, age=33, gender='female', social_contacts=800)\n",
        "]"
      ]
    },
    {
      "cell_type": "markdown",
      "metadata": {
        "id": "YFeqzyZxZIFZ"
      },
      "source": [
        "Функция RECORDREADER моделирует чтение элементов с диска или по сети."
      ]
    },
    {
      "cell_type": "code",
      "execution_count": 5,
      "metadata": {
        "id": "S5HR4E_GQoMJ"
      },
      "outputs": [],
      "source": [
        "def RECORDREADER():\n",
        "  return [(u.id, u) for u in input_collection]"
      ]
    },
    {
      "cell_type": "code",
      "execution_count": 6,
      "metadata": {
        "colab": {
          "base_uri": "https://localhost:8080/",
          "height": 85
        },
        "id": "NeEoWla-ROUy",
        "outputId": "94ca6e0e-4644-4282-acbf-1759d7ba2918"
      },
      "outputs": [
        {
          "data": {
            "text/plain": [
              "[(0, User(id=0, age=55, social_contacts=20, gender='male')),\n",
              " (1, User(id=1, age=25, social_contacts=240, gender='female')),\n",
              " (2, User(id=2, age=25, social_contacts=500, gender='female')),\n",
              " (3, User(id=3, age=33, social_contacts=800, gender='female'))]"
            ]
          },
          "execution_count": 6,
          "metadata": {},
          "output_type": "execute_result"
        }
      ],
      "source": [
        "list(RECORDREADER())"
      ]
    },
    {
      "cell_type": "code",
      "execution_count": 7,
      "metadata": {
        "id": "YB8orgPSZs8M"
      },
      "outputs": [],
      "source": [
        "def flatten(nested_iterable):\n",
        "  for iterable in nested_iterable:\n",
        "    for element in iterable:\n",
        "      yield element"
      ]
    },
    {
      "cell_type": "code",
      "execution_count": 8,
      "metadata": {
        "colab": {
          "base_uri": "https://localhost:8080/",
          "height": 68
        },
        "id": "74oyvDLaRmd5",
        "outputId": "c6147702-7153-47c7-a574-d5fe6abe29a8"
      },
      "outputs": [
        {
          "data": {
            "text/plain": [
              "[(25, User(id=1, age=25, social_contacts=240, gender='female')),\n",
              " (25, User(id=2, age=25, social_contacts=500, gender='female')),\n",
              " (33, User(id=3, age=33, social_contacts=800, gender='female'))]"
            ]
          },
          "execution_count": 8,
          "metadata": {},
          "output_type": "execute_result"
        }
      ],
      "source": [
        "map_output = flatten(map(lambda x: MAP(*x), RECORDREADER()))\n",
        "map_output = list(map_output) # materialize\n",
        "map_output"
      ]
    },
    {
      "cell_type": "code",
      "execution_count": 9,
      "metadata": {
        "id": "8ncYDJ3-VzDn"
      },
      "outputs": [],
      "source": [
        "def groupbykey(iterable):\n",
        "  t = {}\n",
        "  for (k2, v2) in iterable:\n",
        "    t[k2] = t.get(k2, []) + [v2]\n",
        "  return t.items()"
      ]
    },
    {
      "cell_type": "code",
      "execution_count": 10,
      "metadata": {
        "colab": {
          "base_uri": "https://localhost:8080/",
          "height": 85
        },
        "id": "cKzY_6COWOA2",
        "outputId": "e6791b12-e409-47e9-bcd4-e9f8ca8611bd"
      },
      "outputs": [
        {
          "data": {
            "text/plain": [
              "[(25,\n",
              "  [User(id=1, age=25, social_contacts=240, gender='female'),\n",
              "   User(id=2, age=25, social_contacts=500, gender='female')]),\n",
              " (33, [User(id=3, age=33, social_contacts=800, gender='female')])]"
            ]
          },
          "execution_count": 10,
          "metadata": {},
          "output_type": "execute_result"
        }
      ],
      "source": [
        "shuffle_output = groupbykey(map_output)\n",
        "shuffle_output = list(shuffle_output)\n",
        "shuffle_output"
      ]
    },
    {
      "cell_type": "code",
      "execution_count": 11,
      "metadata": {
        "colab": {
          "base_uri": "https://localhost:8080/",
          "height": 34
        },
        "id": "NlA7lkDDYL0t",
        "outputId": "6b25d03f-5c92-4f3b-f500-6d70acd598b7"
      },
      "outputs": [
        {
          "data": {
            "text/plain": [
              "[(25, 370.0), (33, 800.0)]"
            ]
          },
          "execution_count": 11,
          "metadata": {},
          "output_type": "execute_result"
        }
      ],
      "source": [
        "reduce_output = flatten(map(lambda x: REDUCE(*x), shuffle_output))\n",
        "reduce_output = list(reduce_output)\n",
        "reduce_output"
      ]
    },
    {
      "cell_type": "markdown",
      "metadata": {
        "id": "xf6qhHEtd6bI"
      },
      "source": [
        "Все действия одним конвейером!"
      ]
    },
    {
      "cell_type": "code",
      "execution_count": 12,
      "metadata": {
        "colab": {
          "base_uri": "https://localhost:8080/",
          "height": 34
        },
        "id": "dZaQGYxCdpw5",
        "outputId": "3f5c6425-e5c5-49d2-b2cd-ce58a9acc33c"
      },
      "outputs": [
        {
          "data": {
            "text/plain": [
              "[(25, 370.0), (33, 800.0)]"
            ]
          },
          "execution_count": 12,
          "metadata": {},
          "output_type": "execute_result"
        }
      ],
      "source": [
        "list(flatten(map(lambda x: REDUCE(*x), groupbykey(flatten(map(lambda x: MAP(*x), RECORDREADER()))))))"
      ]
    },
    {
      "cell_type": "markdown",
      "metadata": {
        "id": "Vq3EWRIpwSiJ"
      },
      "source": [
        "# **MapReduce**\n",
        "Выделим общую для всех пользователей часть системы в отдельную функцию высшего порядка. Это наиболее простая модель MapReduce, без учёта распределённого хранения данных. \n",
        "\n",
        "Пользователь для решения своей задачи реализует RECORDREADER, MAP, REDUCE."
      ]
    },
    {
      "cell_type": "code",
      "execution_count": 13,
      "metadata": {
        "id": "V1PZeQMwwVjc"
      },
      "outputs": [],
      "source": [
        "def flatten(nested_iterable):\n",
        "  for iterable in nested_iterable:\n",
        "    for element in iterable:\n",
        "      yield element\n",
        "\n",
        "def groupbykey(iterable):\n",
        "  t = {}\n",
        "  for (k2, v2) in iterable:\n",
        "    t[k2] = t.get(k2, []) + [v2]\n",
        "  return t.items()\n",
        "\n",
        "def MapReduce(RECORDREADER, MAP, REDUCE):\n",
        "  return flatten(map(lambda x: REDUCE(*x), groupbykey(flatten(map(lambda x: MAP(*x), RECORDREADER())))))"
      ]
    },
    {
      "cell_type": "markdown",
      "metadata": {
        "id": "iFIVrimep678"
      },
      "source": [
        "## Спецификация MapReduce\n",
        "\n",
        "\n",
        "\n",
        "```\n",
        "f (k1, v1) -> (k2,v2)*\n",
        "g (k2, v2*) -> (k3,v3)*\n",
        " \n",
        "mapreduce ((k1,v1)*) -> (k3,v3)*\n",
        "groupby ((k2,v2)*) -> (k2,v2*)*\n",
        "flatten (e2**) -> e2*\n",
        " \n",
        "mapreduce .map(f).flatten.groupby(k2).map(g).flatten\n",
        "```\n",
        "\n",
        "\n"
      ]
    },
    {
      "cell_type": "markdown",
      "metadata": {
        "id": "QtTFyqke3KGe"
      },
      "source": [
        "# Примеры"
      ]
    },
    {
      "cell_type": "markdown",
      "metadata": {
        "id": "BNhh5763w5Vn"
      },
      "source": [
        "## SQL "
      ]
    },
    {
      "cell_type": "code",
      "execution_count": 14,
      "metadata": {
        "colab": {
          "base_uri": "https://localhost:8080/",
          "height": 34
        },
        "id": "QkyurnvGxBGk",
        "outputId": "84761282-d2ba-435a-e8d7-a85150730e10"
      },
      "outputs": [
        {
          "data": {
            "text/plain": [
              "[(25, 370.0), (33, 800.0)]"
            ]
          },
          "execution_count": 14,
          "metadata": {},
          "output_type": "execute_result"
        }
      ],
      "source": [
        "from typing import NamedTuple # requires python 3.6+\n",
        "from typing import Iterator\n",
        "\n",
        "class User(NamedTuple):\n",
        "  id: int\n",
        "  age: str\n",
        "  social_contacts: int\n",
        "  gender: str\n",
        "    \n",
        "input_collection = [\n",
        "    User(id=0, age=55, gender='male', social_contacts=20),\n",
        "    User(id=1, age=25, gender='female', social_contacts=240),\n",
        "    User(id=2, age=25, gender='female', social_contacts=500),\n",
        "    User(id=3, age=33, gender='female', social_contacts=800)\n",
        "]\n",
        "\n",
        "def MAP(_, row:NamedTuple):\n",
        "  if (row.gender == 'female'):\n",
        "    yield (row.age, row)\n",
        "    \n",
        "def REDUCE(age:str, rows:Iterator[NamedTuple]):\n",
        "  sum = 0\n",
        "  count = 0\n",
        "  for row in rows:\n",
        "    sum += row.social_contacts\n",
        "    count += 1\n",
        "  if (count > 0):\n",
        "    yield (age, sum/count)\n",
        "  else:\n",
        "    yield (age, 0)\n",
        " \n",
        "def RECORDREADER():\n",
        "  return [(u.id, u) for u in input_collection]\n",
        "\n",
        "output = MapReduce(RECORDREADER, MAP, REDUCE)\n",
        "output = list(output)\n",
        "output"
      ]
    },
    {
      "cell_type": "markdown",
      "metadata": {
        "id": "kNKYIeerx0nY"
      },
      "source": [
        "## Matrix-Vector multiplication "
      ]
    },
    {
      "cell_type": "code",
      "execution_count": 15,
      "metadata": {
        "colab": {
          "base_uri": "https://localhost:8080/",
          "height": 102
        },
        "id": "rwcntRcCyi1V",
        "outputId": "606737ab-6b55-455c-931f-4fc45155f8a9"
      },
      "outputs": [
        {
          "data": {
            "text/plain": [
              "[(0, np.float64(2.111520627230723)),\n",
              " (1, np.float64(2.111520627230723)),\n",
              " (2, np.float64(2.111520627230723)),\n",
              " (3, np.float64(2.111520627230723)),\n",
              " (4, np.float64(2.111520627230723))]"
            ]
          },
          "execution_count": 15,
          "metadata": {},
          "output_type": "execute_result"
        }
      ],
      "source": [
        "from typing import Iterator\n",
        "import numpy as np\n",
        "\n",
        "mat = np.ones((5,4))\n",
        "vec = np.random.rand(4) # in-memory vector in all map tasks\n",
        "\n",
        "def MAP(coordinates:(int, int), value:int):\n",
        "  i, j = coordinates\n",
        "  yield (i, value*vec[j])\n",
        " \n",
        "def REDUCE(i:int, products:Iterator[NamedTuple]):\n",
        "  sum = 0\n",
        "  for p in products:\n",
        "    sum += p\n",
        "  yield (i, sum)\n",
        "\n",
        "def RECORDREADER():\n",
        "  for i in range(mat.shape[0]):\n",
        "    for j in range(mat.shape[1]):\n",
        "      yield ((i, j), mat[i,j])\n",
        "      \n",
        "output = MapReduce(RECORDREADER, MAP, REDUCE)\n",
        "output = list(output)\n",
        "output"
      ]
    },
    {
      "cell_type": "markdown",
      "metadata": {
        "id": "ruZREYdi2o4O"
      },
      "source": [
        "## Inverted index "
      ]
    },
    {
      "cell_type": "code",
      "execution_count": 16,
      "metadata": {
        "colab": {
          "base_uri": "https://localhost:8080/",
          "height": 102
        },
        "id": "vt9H9Alf3TYv",
        "outputId": "51aeffc9-e111-4607-bd84-cfcc7b56f238"
      },
      "outputs": [
        {
          "data": {
            "text/plain": [
              "[('it', ['0', '1', '2']),\n",
              " ('is', ['0', '1', '2']),\n",
              " ('what', ['0', '1']),\n",
              " ('a', ['2']),\n",
              " ('banana', ['2'])]"
            ]
          },
          "execution_count": 16,
          "metadata": {},
          "output_type": "execute_result"
        }
      ],
      "source": [
        "from typing import Iterator\n",
        "\n",
        "d1 = \"it is what it is\"\n",
        "d2 = \"what is it\"\n",
        "d3 = \"it is a banana\"\n",
        "documents = [d1, d2, d3]\n",
        "\n",
        "def RECORDREADER():\n",
        "  for (docid, document) in enumerate(documents):\n",
        "    yield (\"{}\".format(docid), document)\n",
        "      \n",
        "def MAP(docId:str, body:str):\n",
        "  for word in set(body.split(' ')):\n",
        "    yield (word, docId)\n",
        " \n",
        "def REDUCE(word:str, docIds:Iterator[str]):\n",
        "  yield (word, sorted(docIds))\n",
        "\n",
        "output = MapReduce(RECORDREADER, MAP, REDUCE)\n",
        "output = list(output)\n",
        "output"
      ]
    },
    {
      "cell_type": "markdown",
      "metadata": {
        "id": "R7az-6DA6qr2"
      },
      "source": [
        "## WordCount"
      ]
    },
    {
      "cell_type": "code",
      "execution_count": 17,
      "metadata": {
        "colab": {
          "base_uri": "https://localhost:8080/",
          "height": 34
        },
        "id": "dN-nbtgG6uYG",
        "outputId": "24117576-7931-401d-a581-28e246b23453"
      },
      "outputs": [
        {
          "data": {
            "text/plain": [
              "[('', 3), ('it', 9), ('is', 9), ('what', 5), ('a', 1), ('banana', 1)]"
            ]
          },
          "execution_count": 17,
          "metadata": {},
          "output_type": "execute_result"
        }
      ],
      "source": [
        "from typing import Iterator\n",
        "\n",
        "d1 = \"\"\"\n",
        "it is what it is\n",
        "it is what it is\n",
        "it is what it is\"\"\"\n",
        "d2 = \"\"\"\n",
        "what is it\n",
        "what is it\"\"\"\n",
        "d3 = \"\"\"\n",
        "it is a banana\"\"\"\n",
        "documents = [d1, d2, d3]\n",
        "\n",
        "def RECORDREADER():\n",
        "  for (docid, document) in enumerate(documents):\n",
        "    for (lineid, line) in enumerate(document.split('\\n')):\n",
        "      yield (\"{}:{}\".format(docid,lineid), line)\n",
        "\n",
        "def MAP(docId:str, line:str):\n",
        "  for word in line.split(\" \"):  \n",
        "    yield (word, 1)\n",
        " \n",
        "def REDUCE(word:str, counts:Iterator[int]):\n",
        "  sum = 0\n",
        "  for c in counts:\n",
        "    sum += c\n",
        "  yield (word, sum)\n",
        "\n",
        "output = MapReduce(RECORDREADER, MAP, REDUCE)\n",
        "output = list(output)\n",
        "output"
      ]
    },
    {
      "cell_type": "markdown",
      "metadata": {
        "id": "h-jRAcYCAkkk"
      },
      "source": [
        "# MapReduce Distributed\n",
        "\n",
        "Добавляется в модель фабрика RECORDREARER-ов --- INPUTFORMAT, функция распределения промежуточных результатов по партициям PARTITIONER, и функция COMBINER для частичной аггрегации промежуточных результатов до распределения по новым партициям."
      ]
    },
    {
      "cell_type": "code",
      "execution_count": 18,
      "metadata": {
        "id": "nw-b-xJsApgW"
      },
      "outputs": [],
      "source": [
        "def flatten(nested_iterable):\n",
        "  for iterable in nested_iterable:\n",
        "    for element in iterable:\n",
        "      yield element\n",
        "\n",
        "def groupbykey(iterable):\n",
        "  t = {}\n",
        "  for (k2, v2) in iterable:\n",
        "    t[k2] = t.get(k2, []) + [v2]\n",
        "  return t.items()\n",
        "      \n",
        "def groupbykey_distributed(map_partitions, PARTITIONER):\n",
        "  global reducers\n",
        "  partitions = [dict() for _ in range(reducers)]\n",
        "  for map_partition in map_partitions:\n",
        "    for (k2, v2) in map_partition:\n",
        "      p = partitions[PARTITIONER(k2)]\n",
        "      p[k2] = p.get(k2, []) + [v2]\n",
        "  return [(partition_id, sorted(partition.items(), key=lambda x: x[0])) for (partition_id, partition) in enumerate(partitions)]\n",
        " \n",
        "def PARTITIONER(obj):\n",
        "  global reducers\n",
        "  return hash(obj) % reducers\n",
        "  \n",
        "def MapReduceDistributed(INPUTFORMAT, MAP, REDUCE, PARTITIONER=PARTITIONER, COMBINER=None):\n",
        "  map_partitions = map(lambda record_reader: flatten(map(lambda k1v1: MAP(*k1v1), record_reader)), INPUTFORMAT())\n",
        "  if COMBINER != None:\n",
        "    map_partitions = map(lambda map_partition: flatten(map(lambda k2v2: COMBINER(*k2v2), groupbykey(map_partition))), map_partitions)\n",
        "  reduce_partitions = groupbykey_distributed(map_partitions, PARTITIONER) # shuffle\n",
        "  reduce_outputs = map(lambda reduce_partition: (reduce_partition[0], flatten(map(lambda reduce_input_group: REDUCE(*reduce_input_group), reduce_partition[1]))), reduce_partitions)\n",
        "  \n",
        "  print(\"{} key-value pairs were sent over a network.\".format(sum([len(vs) for (k,vs) in flatten([partition for (partition_id, partition) in reduce_partitions])])))\n",
        "  return reduce_outputs"
      ]
    },
    {
      "cell_type": "markdown",
      "metadata": {
        "id": "kxirlf3XqZxY"
      },
      "source": [
        "## Спецификация MapReduce Distributed\n",
        "\n",
        "\n",
        "```\n",
        "f (k1, v1) -> (k2,v2)*\n",
        "g (k2, v2*) -> (k3,v3)*\n",
        " \n",
        "e1 (k1, v1)\n",
        "e2 (k2, v2)\n",
        "partition1 (k2, v2)*\n",
        "partition2 (k2, v2*)*\n",
        " \n",
        "flatmap (e1->e2*, e1*) -> partition1*\n",
        "groupby (partition1*) -> partition2*\n",
        "\n",
        "mapreduce ((k1,v1)*) -> (k3,v3)*\n",
        "mapreduce .flatmap(f).groupby(k2).flatmap(g)\n",
        "```\n",
        "\n"
      ]
    },
    {
      "cell_type": "markdown",
      "metadata": {
        "id": "CWYw_CpbbY3C"
      },
      "source": [
        "## WordCount "
      ]
    },
    {
      "cell_type": "code",
      "execution_count": 19,
      "metadata": {
        "colab": {
          "base_uri": "https://localhost:8080/",
          "height": 68
        },
        "id": "uR_zfGFkMZlp",
        "outputId": "c8d46167-473d-43b9-881a-2396991b3731"
      },
      "outputs": [
        {
          "name": "stdout",
          "output_type": "stream",
          "text": [
            "56 key-value pairs were sent over a network.\n"
          ]
        },
        {
          "data": {
            "text/plain": [
              "[(0, [('', 6), ('a', 2), ('it', 18)]),\n",
              " (1, [('banana', 2), ('is', 18), ('what', 10)])]"
            ]
          },
          "execution_count": 19,
          "metadata": {},
          "output_type": "execute_result"
        }
      ],
      "source": [
        "from typing import Iterator\n",
        "import numpy as np\n",
        "\n",
        "d1 = \"\"\"\n",
        "it is what it is\n",
        "it is what it is\n",
        "it is what it is\"\"\"\n",
        "d2 = \"\"\"\n",
        "what is it\n",
        "what is it\"\"\"\n",
        "d3 = \"\"\"\n",
        "it is a banana\"\"\"\n",
        "documents = [d1, d2, d3, d1, d2, d3]\n",
        "\n",
        "maps = 3\n",
        "reducers = 2\n",
        "\n",
        "def INPUTFORMAT():\n",
        "  global maps\n",
        "  \n",
        "  def RECORDREADER(split):\n",
        "    for (docid, document) in enumerate(split):\n",
        "      for (lineid, line) in enumerate(document.split('\\n')):\n",
        "        yield (\"{}:{}\".format(docid,lineid), line)\n",
        "      \n",
        "  split_size =  int(np.ceil(len(documents)/maps))\n",
        "  for i in range(0, len(documents), split_size):\n",
        "    yield RECORDREADER(documents[i:i+split_size])\n",
        "\n",
        "def MAP(docId:str, line:str):\n",
        "  for word in line.split(\" \"):  \n",
        "    yield (word, 1)\n",
        " \n",
        "def REDUCE(word:str, counts:Iterator[int]):\n",
        "  sum = 0\n",
        "  for c in counts:\n",
        "    sum += c\n",
        "  yield (word, sum)\n",
        "  \n",
        "# try to set COMBINER=REDUCER and look at the number of values sent over the network \n",
        "partitioned_output = MapReduceDistributed(INPUTFORMAT, MAP, REDUCE, COMBINER=None) \n",
        "partitioned_output = [(partition_id, list(partition)) for (partition_id, partition) in partitioned_output]\n",
        "partitioned_output"
      ]
    },
    {
      "cell_type": "markdown",
      "metadata": {
        "id": "gCJGx8IQ87xS"
      },
      "source": [
        "## TeraSort"
      ]
    },
    {
      "cell_type": "code",
      "execution_count": 20,
      "metadata": {
        "colab": {
          "base_uri": "https://localhost:8080/",
          "height": 578
        },
        "id": "P2v8v1v_8_YR",
        "outputId": "e0987c25-9757-46cb-8e55-d5d2adfbee2b"
      },
      "outputs": [
        {
          "name": "stdout",
          "output_type": "stream",
          "text": [
            "30 key-value pairs were sent over a network.\n"
          ]
        },
        {
          "data": {
            "text/plain": [
              "[(0,\n",
              "  [(None, np.float64(0.015058008454901683)),\n",
              "   (None, np.float64(0.0166811283706626)),\n",
              "   (None, np.float64(0.0273949980728333)),\n",
              "   (None, np.float64(0.07246612838429456)),\n",
              "   (None, np.float64(0.07674970114408941)),\n",
              "   (None, np.float64(0.08895159209005588)),\n",
              "   (None, np.float64(0.09219760891241613)),\n",
              "   (None, np.float64(0.24122237382260747)),\n",
              "   (None, np.float64(0.308078887687531)),\n",
              "   (None, np.float64(0.33650796387656146)),\n",
              "   (None, np.float64(0.36962699756248973)),\n",
              "   (None, np.float64(0.3860321748412108)),\n",
              "   (None, np.float64(0.4137776986643674)),\n",
              "   (None, np.float64(0.49330973901419706))]),\n",
              " (1,\n",
              "  [(None, np.float64(0.5725607341432004)),\n",
              "   (None, np.float64(0.5803195185395275)),\n",
              "   (None, np.float64(0.6079939059863803)),\n",
              "   (None, np.float64(0.661205842472517)),\n",
              "   (None, np.float64(0.6932237819796349)),\n",
              "   (None, np.float64(0.7267957579386604)),\n",
              "   (None, np.float64(0.7779189378959634)),\n",
              "   (None, np.float64(0.80290452681718)),\n",
              "   (None, np.float64(0.8359012313815678)),\n",
              "   (None, np.float64(0.8404911041657492)),\n",
              "   (None, np.float64(0.8718860917514678)),\n",
              "   (None, np.float64(0.8743922933079213)),\n",
              "   (None, np.float64(0.9115557560354383)),\n",
              "   (None, np.float64(0.9256750322201658)),\n",
              "   (None, np.float64(0.963422190801953)),\n",
              "   (None, np.float64(0.9852617083322147))])]"
            ]
          },
          "execution_count": 20,
          "metadata": {},
          "output_type": "execute_result"
        }
      ],
      "source": [
        "import numpy as np\n",
        "\n",
        "input_values = np.random.rand(30)\n",
        "maps = 3\n",
        "reducers = 2\n",
        "min_value = 0.0\n",
        "max_value = 1.0\n",
        "\n",
        "def INPUTFORMAT():\n",
        "  global maps\n",
        "  \n",
        "  def RECORDREADER(split):\n",
        "    for value in split:\n",
        "        yield (value, None)\n",
        "      \n",
        "  split_size =  int(np.ceil(len(input_values)/maps))\n",
        "  for i in range(0, len(input_values), split_size):\n",
        "    yield RECORDREADER(input_values[i:i+split_size])\n",
        "    \n",
        "def MAP(value:int, _):\n",
        "  yield (value, None)\n",
        "  \n",
        "def PARTITIONER(key):\n",
        "  global reducers\n",
        "  global max_value\n",
        "  global min_value\n",
        "  bucket_size = (max_value-min_value)/reducers\n",
        "  bucket_id = 0\n",
        "  while((key>(bucket_id+1)*bucket_size) and ((bucket_id+1)*bucket_size<max_value)):\n",
        "    bucket_id += 1\n",
        "  return bucket_id\n",
        "\n",
        "def REDUCE(value:int, _):\n",
        "  yield (None,value)\n",
        "  \n",
        "partitioned_output = MapReduceDistributed(INPUTFORMAT, MAP, REDUCE, COMBINER=None, PARTITIONER=PARTITIONER)\n",
        "partitioned_output = [(partition_id, list(partition)) for (partition_id, partition) in partitioned_output]\n",
        "partitioned_output"
      ]
    },
    {
      "cell_type": "code",
      "execution_count": null,
      "metadata": {
        "id": "MQhoJaVZI93G"
      },
      "outputs": [],
      "source": []
    },
    {
      "cell_type": "markdown",
      "metadata": {
        "id": "Iy65YJTH99iT"
      },
      "source": [
        "# Упражнения\n",
        "Упражнения взяты из Rajaraman A., Ullman J. D. Mining of massive datasets. – Cambridge University Press, 2011.\n",
        "\n",
        "\n",
        "Для выполнения заданий переопределите функции RECORDREADER, MAP, REDUCE. Для модели распределённой системы может потребоваться переопределение функций PARTITION и COMBINER."
      ]
    },
    {
      "cell_type": "markdown",
      "metadata": {
        "id": "cfvAeZm3S8S8"
      },
      "source": [
        "### Максимальное значение ряда\n",
        "\n",
        "Разработайте MapReduce алгоритм, который находит максимальное число входного списка чисел."
      ]
    },
    {
      "cell_type": "code",
      "execution_count": 187,
      "metadata": {
        "id": "3GRA1JR-Tkbg"
      },
      "outputs": [
        {
          "name": "stdout",
          "output_type": "stream",
          "text": [
            "[78, 74, 38, 98, 57, 11, 64, 79, 38, 37, 100, 15, 6, 32, 5]\n",
            "Max value: 100\n"
          ]
        }
      ],
      "source": [
        "import random\n",
        "from functools import reduce\n",
        "\n",
        "def MAP(numList):\n",
        "    return max(numList)\n",
        "\n",
        "def REDUCE(max1, max2):\n",
        "    return max(max1, max2)\n",
        "\n",
        "def RECORDREADER(count):\n",
        "    return [random.randint(0, 100) for _ in range(count)]\n",
        "\n",
        "record = RECORDREADER(15)\n",
        "\n",
        "print(record)\n",
        "mapped_values = map(MAP, [record]) \n",
        "result = reduce(REDUCE, mapped_values)\n",
        "\n",
        "print(\"Max value:\", result)"
      ]
    },
    {
      "cell_type": "markdown",
      "metadata": {
        "id": "k86bXnqZTk-U"
      },
      "source": [
        "### Арифметическое среднее\n",
        "\n",
        "Разработайте MapReduce алгоритм, который находит арифметическое среднее.\n",
        "\n",
        "$$\\overline{X} = \\frac{1}{n}\\sum_{i=0}^{n} x_i$$\n"
      ]
    },
    {
      "cell_type": "code",
      "execution_count": 188,
      "metadata": {
        "id": "MPoY5pkfUNZf"
      },
      "outputs": [
        {
          "name": "stdout",
          "output_type": "stream",
          "text": [
            "Input Data: [0, 2, 64, 21, 7, 94, 79, 27, 85, 8, 55, 1, 60, 23, 5, 36, 58, 22, 42, 17, 57, 78, 40, 49, 75, 22, 91, 73, 12, 63, 16, 85, 93, 36, 43, 66, 71, 41, 64, 58, 92, 40, 22, 93, 10, 38, 62, 59, 7, 53, 32, 69, 63, 82, 91, 100, 55, 48, 11, 58, 67, 24, 52, 2, 73, 70, 63, 90, 15, 67, 32, 8, 29, 15, 57, 96, 47, 69, 48, 93, 17, 12, 3, 76, 22, 10, 48, 19, 27, 37, 67, 30, 50, 28, 20, 47, 70, 27, 10, 66]\n",
            "Average value: 49.99\n"
          ]
        }
      ],
      "source": [
        "from typing import Iterator, Tuple\n",
        "\n",
        "def MAP(_, value: int) -> Iterator[Tuple[None, int]]:\n",
        "    yield None, value\n",
        "\n",
        "def REDUCE(_, values: Iterator[int]) -> Iterator[float]:\n",
        "    values = list(values)  \n",
        "    yield sum(values) / len(values) if values else 0  \n",
        "\n",
        "def RECORDREADER(count: int) -> Iterator[Tuple[None, int]]:\n",
        "    return ((None, random.randint(0, 100)) for _ in range(count))\n",
        "\n",
        "def MapReduce(data: Iterator[Tuple[None, int]], mapper, reducer) -> Iterator[float]:\n",
        "    mapped = (pair for key, value in data for pair in mapper(key, value))\n",
        "    grouped = {}\n",
        "    \n",
        "    for key, value in mapped:\n",
        "        if key not in grouped:\n",
        "            grouped[key] = []\n",
        "        grouped[key].append(value)\n",
        "    \n",
        "    for key, values in grouped.items():\n",
        "        yield from reducer(key, values)\n",
        "\n",
        "\n",
        "data = RECORDREADER(100)\n",
        "print(\"Input Data:\", [v for _, v in data]) \n",
        "\n",
        "result = list(MapReduce(RECORDREADER(100), MAP, REDUCE))\n",
        "print(\"Average value:\", result[0])\n",
        "\n"
      ]
    },
    {
      "cell_type": "markdown",
      "metadata": {
        "id": "xanzszhsIlLe"
      },
      "source": [
        "### GroupByKey на основе сортировки\n",
        "\n",
        "Реализуйте groupByKey на основе сортировки, проверьте его работу на примерах"
      ]
    },
    {
      "cell_type": "code",
      "execution_count": 189,
      "metadata": {
        "id": "hQPn3USsIkEC"
      },
      "outputs": [
        {
          "name": "stdout",
          "output_type": "stream",
          "text": [
            "Input Data: [85, 47, 81, 81, 91, 35, 0, 87, 98, 20, 82, 95, 86, 71, 60, 3, 62, 7, 89, 24, 56, 59, 68, 58, 35, 45, 84, 52, 91, 4, 86, 92, 41, 94, 44, 21, 40, 50, 49, 91, 63, 38, 29, 56, 48, 75, 24, 77, 97, 13, 3, 39, 52, 83, 80, 21, 53, 19, 46, 7, 8, 22, 74, 3, 44, 40, 3, 3, 37, 51, 47, 3, 64, 53, 44, 16, 76, 49, 82, 77, 6, 99, 4, 17, 41, 60, 3, 42, 52, 51, 39, 63, 24, 50, 20, 77, 35, 9, 16, 44]\n",
            "MAP output: [(1, 85), (1, 47), (1, 81), (1, 81), (1, 91), (1, 35), (1, 0), (1, 87), (1, 98), (1, 20), (1, 82), (1, 95), (1, 86), (1, 71), (1, 60), (1, 3), (1, 62), (1, 7), (1, 89), (1, 24), (1, 56), (1, 59), (1, 68), (1, 58), (1, 35), (1, 45), (1, 84), (1, 52), (1, 91), (1, 4), (1, 86), (1, 92), (1, 41), (1, 94), (1, 44), (1, 21), (1, 40), (1, 50), (1, 49), (1, 91), (1, 63), (1, 38), (1, 29), (1, 56), (1, 48), (1, 75), (1, 24), (1, 77), (1, 97), (1, 13), (1, 3), (1, 39), (1, 52), (1, 83), (1, 80), (1, 21), (1, 53), (1, 19), (1, 46), (1, 7), (1, 8), (1, 22), (1, 74), (1, 3), (1, 44), (1, 40), (1, 3), (1, 3), (1, 37), (1, 51), (1, 47), (1, 3), (1, 64), (1, 53), (1, 44), (1, 16), (1, 76), (1, 49), (1, 82), (1, 77), (1, 6), (1, 99), (1, 4), (1, 17), (1, 41), (1, 60), (1, 3), (1, 42), (1, 52), (1, 51), (1, 39), (1, 63), (1, 24), (1, 50), (1, 20), (1, 77), (1, 35), (1, 9), (1, 16), (1, 44)]\n",
            "Shuffle output: [(1, [85, 47, 81, 81, 91, 35, 0, 87, 98, 20, 82, 95, 86, 71, 60, 3, 62, 7, 89, 24, 56, 59, 68, 58, 35, 45, 84, 52, 91, 4, 86, 92, 41, 94, 44, 21, 40, 50, 49, 91, 63, 38, 29, 56, 48, 75, 24, 77, 97, 13, 3, 39, 52, 83, 80, 21, 53, 19, 46, 7, 8, 22, 74, 3, 44, 40, 3, 3, 37, 51, 47, 3, 64, 53, 44, 16, 76, 49, 82, 77, 6, 99, 4, 17, 41, 60, 3, 42, 52, 51, 39, 63, 24, 50, 20, 77, 35, 9, 16, 44])]\n",
            "Reduce output: [48.35]\n"
          ]
        }
      ],
      "source": [
        "from collections import defaultdict\n",
        "from typing import List, Tuple\n",
        "\n",
        "def MAP(num: int) -> Tuple[int, int]:\n",
        "    return 1, num\n",
        "\n",
        "def REDUCE(_, values: List[int]) -> float:\n",
        "    return sum(values) / len(values) if values else 0\n",
        "\n",
        "def RECORDREADER(count: int) -> List[int]:\n",
        "    return [random.randint(0, 100) for _ in range(count)]\n",
        "\n",
        "def group_by_key(iterable: List[Tuple[int, int]]) -> List[Tuple[int, List[int]]]:\n",
        "    grouped_data = defaultdict(list)\n",
        "    for key, value in iterable:\n",
        "        grouped_data[key].append(value)\n",
        "    return list(grouped_data.items())\n",
        "\n",
        "def MapReduce(data: List[int]) -> List[float]:\n",
        "    map_output = list(map(MAP, data))  \n",
        "    print(\"MAP output:\", map_output)\n",
        "\n",
        "    shuffle_output = group_by_key(map_output)  \n",
        "    print(\"Shuffle output:\", shuffle_output)\n",
        "\n",
        "    reduce_output = [REDUCE(key, values) for key, values in shuffle_output]  \n",
        "    print(\"Reduce output:\", reduce_output)\n",
        "\n",
        "    return reduce_output\n",
        "\n",
        "data = RECORDREADER(100)\n",
        "print(\"Input Data:\", data)\n",
        "result = MapReduce(data)\n",
        "\n"
      ]
    },
    {
      "cell_type": "markdown",
      "metadata": {
        "id": "5SgEjCZyGnu6"
      },
      "source": [
        "### Drop duplicates (set construction, unique elements, distinct)\n",
        "\n",
        "Реализуйте распределённую операцию исключения дубликатов"
      ]
    },
    {
      "cell_type": "code",
      "execution_count": 190,
      "metadata": {
        "id": "okjbyApjGhMt"
      },
      "outputs": [
        {
          "name": "stdout",
          "output_type": "stream",
          "text": [
            "56 key-value pairs were sent over a network.\n",
            "[(0, ['', 'a', 'it']), (1, ['banana', 'is', 'what'])]\n"
          ]
        }
      ],
      "source": [
        "import numpy as np\n",
        "from collections import defaultdict\n",
        "\n",
        "def flatten(nested_iterable):\n",
        "    for iterable in nested_iterable:\n",
        "        for element in iterable:\n",
        "            yield element\n",
        "\n",
        "def groupbykey(iterable):\n",
        "    grouped_data = defaultdict(list)\n",
        "    for key, value in iterable:\n",
        "        grouped_data[key].append(value)\n",
        "    return list(grouped_data.items())\n",
        "\n",
        "def groupbykey_distributed(map_partitions, PARTITIONER):\n",
        "    global reducers\n",
        "    partitions = [dict() for _ in range(reducers)]\n",
        "    for map_partition in map_partitions:\n",
        "        for key, value in map_partition:\n",
        "            p = partitions[PARTITIONER(key)]\n",
        "            p.setdefault(key, []).append(value)\n",
        "    return [(partition_id, sorted(partition.items(), key=lambda x: x[0])) for partition_id, partition in enumerate(partitions)]\n",
        "\n",
        "def PARTITIONER(obj):\n",
        "    global reducers\n",
        "    return hash(obj) % reducers\n",
        "\n",
        "def MapReduceDistributed(INPUTFORMAT, MAP, REDUCE, PARTITIONER=PARTITIONER, COMBINER=None):\n",
        "\n",
        "    map_partitions = map(lambda record_reader: flatten(map(lambda k1v1: MAP(*k1v1), record_reader)), INPUTFORMAT())\n",
        "\n",
        "    if COMBINER is not None:\n",
        "        map_partitions = map(lambda map_partition: flatten(map(lambda k2v2: COMBINER(*k2v2), groupbykey(map_partition))), map_partitions)\n",
        "\n",
        "    reduce_partitions = groupbykey_distributed(map_partitions, PARTITIONER)\n",
        "\n",
        "    reduce_outputs = map(lambda reduce_partition: (reduce_partition[0], flatten(map(lambda reduce_input_group: REDUCE(*reduce_input_group), reduce_partition[1]))), reduce_partitions)\n",
        "\n",
        "    total_values_sent = sum([len(vs) for _, vs in flatten([partition for _, partition in reduce_partitions])])\n",
        "    print(f\"{total_values_sent} key-value pairs were sent over a network.\")\n",
        "    \n",
        "    return reduce_outputs\n",
        "\n",
        "\n",
        "d1 = \"\"\"\n",
        "it is what it is\n",
        "it is what it is\n",
        "it is what it is\"\"\"\n",
        "d2 = \"\"\"\n",
        "what is it\n",
        "what is it\"\"\"\n",
        "d3 = \"\"\"\n",
        "it is a banana\"\"\"\n",
        "\n",
        "documents = [d1, d2, d3, d1, d2, d3]\n",
        "\n",
        "maps = 3\n",
        "reducers = 2\n",
        "\n",
        "def INPUTFORMAT():\n",
        "    global maps\n",
        "\n",
        "    def RECORDREADER(split):\n",
        "        for docid, document in enumerate(split):\n",
        "            for lineid, line in enumerate(document.split('\\n')):\n",
        "                yield (\"{}:{}\".format(docid, lineid), line)\n",
        "\n",
        "    split_size = int(np.ceil(len(documents) / maps))\n",
        "    for i in range(0, len(documents), split_size):\n",
        "        yield RECORDREADER(documents[i:i + split_size])\n",
        "\n",
        "\n",
        "def MAP(docId: str, line: str):\n",
        "    for word in line.split(\" \"):\n",
        "        yield (word, word)\n",
        "\n",
        "\n",
        "def REDUCE(key: str, value: Iterator[str]):\n",
        "    yield key\n",
        "\n",
        "\n",
        "partitioned_output = MapReduceDistributed(INPUTFORMAT, MAP, REDUCE, COMBINER=None)\n",
        "\n",
        "partitioned_output = [(partition_id, list(partition)) for partition_id, partition in partitioned_output]\n",
        "\n",
        "print(partitioned_output)\n"
      ]
    },
    {
      "cell_type": "markdown",
      "metadata": {
        "id": "e7sRGoTXuJze"
      },
      "source": [
        "#Операторы реляционной алгебры\n",
        "### Selection (Выборка)\n",
        "\n",
        "**The Map Function**: Для  каждого кортежа $t \\in R$ вычисляется истинность предиката $C$. В случае истины создаётся пара ключ-значение $(t, t)$. В паре ключ и значение одинаковы, равны $t$.\n",
        "\n",
        "**The Reduce Function:** Роль функции Reduce выполняет функция идентичности, которая возвращает то же значение, что получила на вход.\n",
        "\n"
      ]
    },
    {
      "cell_type": "code",
      "execution_count": 191,
      "metadata": {
        "id": "4nKIKe59uIfc"
      },
      "outputs": [
        {
          "name": "stdout",
          "output_type": "stream",
          "text": [
            "Input data: [(16, 53, 86), (13, 7, 94), (61, 42, 7), (49, 73, 35), (8, 74, 23), (66, 60, 97), (47, 97, 71), (96, 39, 29), (28, 56, 85), (74, 67, 0)]\n",
            "Partitioned data: [[(16, 53, 86), (13, 7, 94), (61, 42, 7), (49, 73, 35), (8, 74, 23)], [(66, 60, 97), (47, 97, 71), (96, 39, 29), (28, 56, 85), (74, 67, 0)]]\n",
            "Mapped results: [dict_items([((16, 53, 86), [(16, 53, 86)]), ((8, 74, 23), [(8, 74, 23)])]), dict_items([((66, 60, 97), [(66, 60, 97)]), ((96, 39, 29), [(96, 39, 29)]), ((28, 56, 85), [(28, 56, 85)]), ((74, 67, 0), [(74, 67, 0)])])]\n",
            "Filtered result: [((16, 53, 86), [(16, 53, 86)]), ((8, 74, 23), [(8, 74, 23)]), ((66, 60, 97), [(66, 60, 97)]), ((96, 39, 29), [(96, 39, 29)]), ((28, 56, 85), [(28, 56, 85)]), ((74, 67, 0), [(74, 67, 0)])]\n"
          ]
        }
      ],
      "source": [
        "\n",
        "def MAP(el_list):\n",
        "    \n",
        "    mapped_result = defaultdict(list)\n",
        "    for t in el_list:\n",
        "        if C(t):  \n",
        "            mapped_result[t].append(t)\n",
        "    return mapped_result.items()\n",
        "\n",
        "def REDUCE(mapped_items):\n",
        "    return [item for sublist in mapped_items for item in sublist]\n",
        "\n",
        "def C(t):\n",
        "    return t[0] % 2 == 0\n",
        "\n",
        "def RECORDREADER(count):\n",
        "    return [(random.randint(0, 100), random.randint(0, 100), random.randint(0, 100)) for _ in range(count)]\n",
        "\n",
        "record = RECORDREADER(10)\n",
        "print(\"Input data:\", record)  \n",
        "\n",
        "part_size = 5\n",
        "record_partitioned = [record[i:i + part_size] for i in range(0, len(record), part_size)]\n",
        "print(\"Partitioned data:\", record_partitioned)  \n",
        "\n",
        "mapped_results = list(map(MAP, record_partitioned))\n",
        "print(\"Mapped results:\", mapped_results)  \n",
        "\n",
        "reduced_result = REDUCE(mapped_results)\n",
        "print(\"Filtered result:\", reduced_result)  \n"
      ]
    },
    {
      "cell_type": "markdown",
      "metadata": {
        "id": "w27Ca-_Ku85V"
      },
      "source": [
        "### Projection (Проекция)\n",
        "\n",
        "Проекция на множество атрибутов $S$.\n",
        "\n",
        "**The Map Function:** Для каждого кортежа $t \\in R$ создайте кортеж $t′$, исключая  из $t$ те значения, атрибуты которых не принадлежат  $S$. Верните пару $(t′, t′)$.\n",
        "\n",
        "**The Reduce Function:** Для каждого ключа $t′$, созданного любой Map задачей, вы получаете одну или несколько пар $(t′, t′)$. Reduce функция преобразует $(t′, [t′, t′, . . . , t′])$ в $(t′, t′)$, так, что для ключа $t′$ возвращается одна пара  $(t′, t′)$."
      ]
    },
    {
      "cell_type": "code",
      "execution_count": 192,
      "metadata": {
        "id": "BEvuY4GqvhS6"
      },
      "outputs": [
        {
          "name": "stdout",
          "output_type": "stream",
          "text": [
            "Input records: [(80, 57, 85), (9, 97, 98), (25, 100, 52), (63, 28, 68), (15, 41, 55)]\n",
            "MAP output: [((), ()), ((), ()), ((), ()), ((90,), (90,)), ((), ()), ((), ()), ((25,), (25,)), ((), ()), ((), ()), ((), ()), ((), ()), ((25,), (25,)), ((), ()), ((), ()), ((), ()), ((), ()), ((), ()), ((), ()), ((), ()), ((), ()), ((), ()), ((69,), (69,)), ((), ()), ((), ()), ((69,), (69,)), ((), ()), ((), ()), ((), ()), ((), ()), ((), ()), ((), ()), ((), ()), ((69,), (69,)), ((), ()), ((), ()), ((), ()), ((), ()), ((), ()), ((), ()), ((), ()), ((), ()), ((69,), (69,)), ((), ()), ((25,), (25,)), ((), ()), ((), ()), ((), ()), ((), ()), ((), ()), ((), ()), ((), ()), ((), ()), ((25,), (25,)), ((), ()), ((), ()), ((), ()), ((), ()), ((), ()), ((), ()), ((), ()), ((), ()), ((), ()), ((), ()), ((), ()), ((), ()), ((), ()), ((), ()), ((), ()), ((), ()), ((), ()), ((), ()), ((), ()), ((), ()), ((), ()), ((), ()), ((), ()), ((69,), (69,)), ((25, 25), (25, 25)), ((), ()), ((90,), (90,)), ((), ()), ((), ()), ((), ()), ((), ()), ((), ()), ((), ()), ((), ()), ((), ()), ((), ()), ((90,), (90,)), ((), ()), ((), ()), ((69,), (69,)), ((25,), (25,)), ((), ()), ((), ()), ((), ()), ((), ()), ((), ()), ((), ())]\n",
            "Shuffle output: [((), [(), (), (), (), (), (), (), (), (), (), (), (), (), (), (), (), (), (), (), (), (), (), (), (), (), (), (), (), (), (), (), (), (), (), (), (), (), (), (), (), (), (), (), (), (), (), (), (), (), (), (), (), (), (), (), (), (), (), (), (), (), (), (), (), (), (), (), (), (), (), (), (), (), (), (), (), (), (), (), (), (), (), (), (), (), (), (), (), (), (), (), ()]), ((69,), [(69,), (69,), (69,)]), ((25,), [(25,), (25,), (25,)]), ((90,), [(90,), (90,)])]\n",
            "Reduce output: [(), (69,), (25,), (90,)]\n"
          ]
        }
      ],
      "source": [
        "from typing import Iterator, NamedTuple\n",
        "\n",
        "S = {25, 90, 69}\n",
        "\n",
        "def MAP(t):\n",
        "    filtered = tuple(el for el in t if el in S)  \n",
        "    return (filtered, filtered)  \n",
        "\n",
        "def REDUCE(key, values: Iterator[NamedTuple]):\n",
        "    return key, key \n",
        "\n",
        "def RECORDREADER(count):\n",
        "    return [(random.randint(0, 100), random.randint(0, 100), random.randint(0, 100)) for _ in range(count)]\n",
        "\n",
        "def group_by_key(iterable):\n",
        "    t = {}\n",
        "    for (k2, v2) in iterable:\n",
        "        t[k2] = t.get(k2, []) + [v2]  \n",
        "    return t.items()  \n",
        "\n",
        "record = RECORDREADER(5)\n",
        "print(\"Input records:\", record)\n",
        "\n",
        "map_output = list(map(MAP, RECORDREADER(100)))  \n",
        "print(\"MAP output:\", map_output)\n",
        "\n",
        "shuffle_output = group_by_key(map(MAP, RECORDREADER(100)))  \n",
        "print(\"Shuffle output:\", list(shuffle_output))\n",
        "\n",
        "reduce_output = list(map(lambda x: REDUCE(*x)[0], list(shuffle_output)))  \n",
        "print(\"Reduce output:\", reduce_output)\n"
      ]
    },
    {
      "cell_type": "markdown",
      "metadata": {
        "id": "7gau6lKXvn2R"
      },
      "source": [
        "### Union (Объединение)\n",
        "\n",
        "**The Map Function:** Превратите каждый входной кортеж $t$ в пару ключ-значение $(t, t)$.\n",
        "\n",
        "**The Reduce Function:** С каждым ключом $t$ будет ассоциировано одно или два значений. В обоих случаях создайте $(t, t)$ в качестве выходного значения."
      ]
    },
    {
      "cell_type": "code",
      "execution_count": 193,
      "metadata": {
        "id": "Sns7a5agv3nw"
      },
      "outputs": [
        {
          "name": "stdout",
          "output_type": "stream",
          "text": [
            "Input records: [(31, 90, 99), (13, 60, 34), (55, 22, 33), (69, 31, 64), (86, 54, 74)]\n",
            "MAP output: [((59, 42, 27), (59, 42, 27)), ((57, 12, 0), (57, 12, 0)), ((78, 18, 26), (78, 18, 26)), ((9, 98, 84), (9, 98, 84)), ((88, 5, 58), (88, 5, 58)), ((27, 24, 66), (27, 24, 66)), ((17, 87, 53), (17, 87, 53)), ((48, 46, 35), (48, 46, 35)), ((10, 52, 13), (10, 52, 13)), ((68, 28, 61), (68, 28, 61)), ((89, 72, 80), (89, 72, 80)), ((52, 91, 33), (52, 91, 33)), ((94, 43, 91), (94, 43, 91)), ((99, 47, 44), (99, 47, 44)), ((34, 92, 58), (34, 92, 58)), ((11, 59, 22), (11, 59, 22)), ((69, 7, 63), (69, 7, 63)), ((28, 7, 45), (28, 7, 45)), ((35, 99, 21), (35, 99, 21)), ((31, 59, 62), (31, 59, 62)), ((7, 82, 39), (7, 82, 39)), ((54, 66, 96), (54, 66, 96)), ((77, 97, 77), (77, 97, 77)), ((27, 83, 40), (27, 83, 40)), ((90, 54, 0), (90, 54, 0)), ((70, 46, 14), (70, 46, 14)), ((35, 94, 59), (35, 94, 59)), ((100, 29, 100), (100, 29, 100)), ((28, 52, 43), (28, 52, 43)), ((56, 33, 32), (56, 33, 32)), ((67, 34, 59), (67, 34, 59)), ((2, 83, 83), (2, 83, 83)), ((95, 4, 72), (95, 4, 72)), ((55, 73, 46), (55, 73, 46)), ((8, 16, 33), (8, 16, 33)), ((1, 99, 25), (1, 99, 25)), ((56, 41, 90), (56, 41, 90)), ((89, 95, 22), (89, 95, 22)), ((7, 90, 8), (7, 90, 8)), ((1, 89, 34), (1, 89, 34)), ((12, 41, 39), (12, 41, 39)), ((6, 25, 78), (6, 25, 78)), ((91, 95, 46), (91, 95, 46)), ((14, 37, 84), (14, 37, 84)), ((23, 71, 67), (23, 71, 67)), ((59, 73, 1), (59, 73, 1)), ((1, 57, 19), (1, 57, 19)), ((71, 84, 91), (71, 84, 91)), ((97, 11, 98), (97, 11, 98)), ((22, 92, 75), (22, 92, 75)), ((100, 73, 63), (100, 73, 63)), ((93, 36, 11), (93, 36, 11)), ((45, 62, 51), (45, 62, 51)), ((92, 79, 15), (92, 79, 15)), ((91, 94, 19), (91, 94, 19)), ((17, 7, 75), (17, 7, 75)), ((71, 3, 33), (71, 3, 33)), ((23, 27, 90), (23, 27, 90)), ((30, 25, 67), (30, 25, 67)), ((50, 68, 55), (50, 68, 55)), ((90, 5, 60), (90, 5, 60)), ((23, 97, 61), (23, 97, 61)), ((2, 19, 65), (2, 19, 65)), ((67, 73, 47), (67, 73, 47)), ((42, 26, 96), (42, 26, 96)), ((38, 89, 7), (38, 89, 7)), ((81, 97, 67), (81, 97, 67)), ((25, 77, 38), (25, 77, 38)), ((85, 40, 49), (85, 40, 49)), ((0, 13, 0), (0, 13, 0)), ((82, 75, 72), (82, 75, 72)), ((67, 5, 68), (67, 5, 68)), ((46, 59, 30), (46, 59, 30)), ((27, 65, 26), (27, 65, 26)), ((1, 83, 91), (1, 83, 91)), ((52, 1, 28), (52, 1, 28)), ((32, 93, 40), (32, 93, 40)), ((99, 74, 12), (99, 74, 12)), ((69, 25, 13), (69, 25, 13)), ((100, 25, 75), (100, 25, 75)), ((91, 70, 72), (91, 70, 72)), ((92, 95, 56), (92, 95, 56)), ((53, 35, 57), (53, 35, 57)), ((96, 33, 44), (96, 33, 44)), ((67, 85, 13), (67, 85, 13)), ((8, 36, 13), (8, 36, 13)), ((82, 66, 32), (82, 66, 32)), ((7, 3, 53), (7, 3, 53)), ((58, 20, 99), (58, 20, 99)), ((39, 41, 91), (39, 41, 91)), ((21, 71, 51), (21, 71, 51)), ((74, 93, 36), (74, 93, 36)), ((7, 32, 87), (7, 32, 87)), ((35, 11, 28), (35, 11, 28)), ((66, 47, 52), (66, 47, 52)), ((76, 99, 93), (76, 99, 93)), ((31, 7, 35), (31, 7, 35)), ((81, 18, 11), (81, 18, 11)), ((32, 95, 6), (32, 95, 6)), ((90, 26, 49), (90, 26, 49))]\n",
            "Shuffle output: [((59, 42, 27), [(59, 42, 27)]), ((57, 12, 0), [(57, 12, 0)]), ((78, 18, 26), [(78, 18, 26)]), ((9, 98, 84), [(9, 98, 84)]), ((88, 5, 58), [(88, 5, 58)]), ((27, 24, 66), [(27, 24, 66)]), ((17, 87, 53), [(17, 87, 53)]), ((48, 46, 35), [(48, 46, 35)]), ((10, 52, 13), [(10, 52, 13)]), ((68, 28, 61), [(68, 28, 61)]), ((89, 72, 80), [(89, 72, 80)]), ((52, 91, 33), [(52, 91, 33)]), ((94, 43, 91), [(94, 43, 91)]), ((99, 47, 44), [(99, 47, 44)]), ((34, 92, 58), [(34, 92, 58)]), ((11, 59, 22), [(11, 59, 22)]), ((69, 7, 63), [(69, 7, 63)]), ((28, 7, 45), [(28, 7, 45)]), ((35, 99, 21), [(35, 99, 21)]), ((31, 59, 62), [(31, 59, 62)]), ((7, 82, 39), [(7, 82, 39)]), ((54, 66, 96), [(54, 66, 96)]), ((77, 97, 77), [(77, 97, 77)]), ((27, 83, 40), [(27, 83, 40)]), ((90, 54, 0), [(90, 54, 0)]), ((70, 46, 14), [(70, 46, 14)]), ((35, 94, 59), [(35, 94, 59)]), ((100, 29, 100), [(100, 29, 100)]), ((28, 52, 43), [(28, 52, 43)]), ((56, 33, 32), [(56, 33, 32)]), ((67, 34, 59), [(67, 34, 59)]), ((2, 83, 83), [(2, 83, 83)]), ((95, 4, 72), [(95, 4, 72)]), ((55, 73, 46), [(55, 73, 46)]), ((8, 16, 33), [(8, 16, 33)]), ((1, 99, 25), [(1, 99, 25)]), ((56, 41, 90), [(56, 41, 90)]), ((89, 95, 22), [(89, 95, 22)]), ((7, 90, 8), [(7, 90, 8)]), ((1, 89, 34), [(1, 89, 34)]), ((12, 41, 39), [(12, 41, 39)]), ((6, 25, 78), [(6, 25, 78)]), ((91, 95, 46), [(91, 95, 46)]), ((14, 37, 84), [(14, 37, 84)]), ((23, 71, 67), [(23, 71, 67)]), ((59, 73, 1), [(59, 73, 1)]), ((1, 57, 19), [(1, 57, 19)]), ((71, 84, 91), [(71, 84, 91)]), ((97, 11, 98), [(97, 11, 98)]), ((22, 92, 75), [(22, 92, 75)]), ((100, 73, 63), [(100, 73, 63)]), ((93, 36, 11), [(93, 36, 11)]), ((45, 62, 51), [(45, 62, 51)]), ((92, 79, 15), [(92, 79, 15)]), ((91, 94, 19), [(91, 94, 19)]), ((17, 7, 75), [(17, 7, 75)]), ((71, 3, 33), [(71, 3, 33)]), ((23, 27, 90), [(23, 27, 90)]), ((30, 25, 67), [(30, 25, 67)]), ((50, 68, 55), [(50, 68, 55)]), ((90, 5, 60), [(90, 5, 60)]), ((23, 97, 61), [(23, 97, 61)]), ((2, 19, 65), [(2, 19, 65)]), ((67, 73, 47), [(67, 73, 47)]), ((42, 26, 96), [(42, 26, 96)]), ((38, 89, 7), [(38, 89, 7)]), ((81, 97, 67), [(81, 97, 67)]), ((25, 77, 38), [(25, 77, 38)]), ((85, 40, 49), [(85, 40, 49)]), ((0, 13, 0), [(0, 13, 0)]), ((82, 75, 72), [(82, 75, 72)]), ((67, 5, 68), [(67, 5, 68)]), ((46, 59, 30), [(46, 59, 30)]), ((27, 65, 26), [(27, 65, 26)]), ((1, 83, 91), [(1, 83, 91)]), ((52, 1, 28), [(52, 1, 28)]), ((32, 93, 40), [(32, 93, 40)]), ((99, 74, 12), [(99, 74, 12)]), ((69, 25, 13), [(69, 25, 13)]), ((100, 25, 75), [(100, 25, 75)]), ((91, 70, 72), [(91, 70, 72)]), ((92, 95, 56), [(92, 95, 56)]), ((53, 35, 57), [(53, 35, 57)]), ((96, 33, 44), [(96, 33, 44)]), ((67, 85, 13), [(67, 85, 13)]), ((8, 36, 13), [(8, 36, 13)]), ((82, 66, 32), [(82, 66, 32)]), ((7, 3, 53), [(7, 3, 53)]), ((58, 20, 99), [(58, 20, 99)]), ((39, 41, 91), [(39, 41, 91)]), ((21, 71, 51), [(21, 71, 51)]), ((74, 93, 36), [(74, 93, 36)]), ((7, 32, 87), [(7, 32, 87)]), ((35, 11, 28), [(35, 11, 28)]), ((66, 47, 52), [(66, 47, 52)]), ((76, 99, 93), [(76, 99, 93)]), ((31, 7, 35), [(31, 7, 35)]), ((81, 18, 11), [(81, 18, 11)]), ((32, 95, 6), [(32, 95, 6)]), ((90, 26, 49), [(90, 26, 49)])]\n",
            "Reduce output: [(59, 42, 27), (57, 12, 0), (78, 18, 26), (9, 98, 84), (88, 5, 58), (27, 24, 66), (17, 87, 53), (48, 46, 35), (10, 52, 13), (68, 28, 61), (89, 72, 80), (52, 91, 33), (94, 43, 91), (99, 47, 44), (34, 92, 58), (11, 59, 22), (69, 7, 63), (28, 7, 45), (35, 99, 21), (31, 59, 62), (7, 82, 39), (54, 66, 96), (77, 97, 77), (27, 83, 40), (90, 54, 0), (70, 46, 14), (35, 94, 59), (100, 29, 100), (28, 52, 43), (56, 33, 32), (67, 34, 59), (2, 83, 83), (95, 4, 72), (55, 73, 46), (8, 16, 33), (1, 99, 25), (56, 41, 90), (89, 95, 22), (7, 90, 8), (1, 89, 34), (12, 41, 39), (6, 25, 78), (91, 95, 46), (14, 37, 84), (23, 71, 67), (59, 73, 1), (1, 57, 19), (71, 84, 91), (97, 11, 98), (22, 92, 75), (100, 73, 63), (93, 36, 11), (45, 62, 51), (92, 79, 15), (91, 94, 19), (17, 7, 75), (71, 3, 33), (23, 27, 90), (30, 25, 67), (50, 68, 55), (90, 5, 60), (23, 97, 61), (2, 19, 65), (67, 73, 47), (42, 26, 96), (38, 89, 7), (81, 97, 67), (25, 77, 38), (85, 40, 49), (0, 13, 0), (82, 75, 72), (67, 5, 68), (46, 59, 30), (27, 65, 26), (1, 83, 91), (52, 1, 28), (32, 93, 40), (99, 74, 12), (69, 25, 13), (100, 25, 75), (91, 70, 72), (92, 95, 56), (53, 35, 57), (96, 33, 44), (67, 85, 13), (8, 36, 13), (82, 66, 32), (7, 3, 53), (58, 20, 99), (39, 41, 91), (21, 71, 51), (74, 93, 36), (7, 32, 87), (35, 11, 28), (66, 47, 52), (76, 99, 93), (31, 7, 35), (81, 18, 11), (32, 95, 6), (90, 26, 49)]\n"
          ]
        }
      ],
      "source": [
        "def MAP(t):\n",
        "    return (t, t)  \n",
        "\n",
        "def REDUCE(key, values: Iterator[NamedTuple]):\n",
        "    return (key, key)  \n",
        "\n",
        "def RECORDREADER(count):\n",
        "    return [(random.randint(0, 100), random.randint(0, 100), random.randint(0, 100)) for i in range(count)]  \n",
        "\n",
        "def group_by_key(iterable):\n",
        "    t = {}\n",
        "    for (k2, v2) in iterable:  \n",
        "        t[k2] = t.get(k2, []) + [v2]  \n",
        "    return t.items()  \n",
        "\n",
        "record = RECORDREADER(5)  \n",
        "print(\"Input records:\", record)\n",
        "\n",
        "map_output = list(map(lambda x: MAP(x), RECORDREADER(100)))  \n",
        "print(\"MAP output:\", map_output)\n",
        "\n",
        "shuffle_output = group_by_key(map_output)  \n",
        "shuffle_output = list(shuffle_output)  \n",
        "print(\"Shuffle output:\", shuffle_output)\n",
        "\n",
        "reduce_output = list(map(lambda x: REDUCE(*x)[0], shuffle_output))  \n",
        "print(\"Reduce output:\", reduce_output)"
      ]
    },
    {
      "cell_type": "markdown",
      "metadata": {
        "id": "dQ8TuEbjv4J8"
      },
      "source": [
        "### Intersection (Пересечение)\n",
        "\n",
        "**The Map Function:** Превратите каждый кортеж $t$ в пары ключ-значение $(t, t)$.\n",
        "\n",
        "**The Reduce Function:** Если для ключа $t$ есть список из двух элементов $[t, t]$ $-$ создайте пару $(t, t)$. Иначе, ничего не создавайте."
      ]
    },
    {
      "cell_type": "code",
      "execution_count": 201,
      "metadata": {
        "id": "XKlBZh4IwERR"
      },
      "outputs": [
        {
          "name": "stdout",
          "output_type": "stream",
          "text": [
            "Generated records: [(2, 3), (3, 0), (0, 1), (2, 2), (3, 3), (1, 0), (2, 3), (2, 2), (0, 1), (2, 2), (0, 2), (3, 1), (2, 3), (2, 1), (0, 1), (0, 3), (2, 2), (3, 2), (0, 2), (1, 2), (1, 0), (2, 2), (0, 1), (1, 0), (1, 2), (1, 0), (0, 0), (3, 1), (3, 2), (2, 0), (3, 0), (0, 1), (2, 2), (0, 3), (0, 0), (0, 2), (1, 1), (1, 0), (1, 0), (3, 0), (1, 1), (3, 2), (0, 3), (3, 2), (0, 0), (0, 2), (0, 2), (3, 1), (0, 0), (3, 2), (0, 3), (3, 2), (1, 0), (2, 3), (3, 0), (2, 2), (1, 0), (0, 3), (3, 1), (3, 0), (2, 3), (0, 2), (0, 1), (1, 3), (2, 0), (0, 2), (3, 0), (3, 1), (3, 0), (3, 3), (3, 1), (2, 3), (0, 2), (3, 0), (2, 3), (0, 3), (2, 3), (0, 1), (0, 1), (1, 3), (0, 0), (0, 3), (1, 3), (2, 0), (2, 0), (2, 0), (3, 1), (2, 1), (2, 3), (1, 2), (1, 0), (0, 3), (2, 1), (2, 3), (0, 0), (1, 0), (3, 1), (0, 0), (2, 3), (3, 2)]\n",
            "Mapped data: [((2, 3), (2, 3)), ((3, 0), (3, 0)), ((0, 1), (0, 1)), ((2, 2), (2, 2)), ((3, 3), (3, 3)), ((1, 0), (1, 0)), ((2, 3), (2, 3)), ((2, 2), (2, 2)), ((0, 1), (0, 1)), ((2, 2), (2, 2)), ((0, 2), (0, 2)), ((3, 1), (3, 1)), ((2, 3), (2, 3)), ((2, 1), (2, 1)), ((0, 1), (0, 1)), ((0, 3), (0, 3)), ((2, 2), (2, 2)), ((3, 2), (3, 2)), ((0, 2), (0, 2)), ((1, 2), (1, 2)), ((1, 0), (1, 0)), ((2, 2), (2, 2)), ((0, 1), (0, 1)), ((1, 0), (1, 0)), ((1, 2), (1, 2)), ((1, 0), (1, 0)), ((0, 0), (0, 0)), ((3, 1), (3, 1)), ((3, 2), (3, 2)), ((2, 0), (2, 0)), ((3, 0), (3, 0)), ((0, 1), (0, 1)), ((2, 2), (2, 2)), ((0, 3), (0, 3)), ((0, 0), (0, 0)), ((0, 2), (0, 2)), ((1, 1), (1, 1)), ((1, 0), (1, 0)), ((1, 0), (1, 0)), ((3, 0), (3, 0)), ((1, 1), (1, 1)), ((3, 2), (3, 2)), ((0, 3), (0, 3)), ((3, 2), (3, 2)), ((0, 0), (0, 0)), ((0, 2), (0, 2)), ((0, 2), (0, 2)), ((3, 1), (3, 1)), ((0, 0), (0, 0)), ((3, 2), (3, 2)), ((0, 3), (0, 3)), ((3, 2), (3, 2)), ((1, 0), (1, 0)), ((2, 3), (2, 3)), ((3, 0), (3, 0)), ((2, 2), (2, 2)), ((1, 0), (1, 0)), ((0, 3), (0, 3)), ((3, 1), (3, 1)), ((3, 0), (3, 0)), ((2, 3), (2, 3)), ((0, 2), (0, 2)), ((0, 1), (0, 1)), ((1, 3), (1, 3)), ((2, 0), (2, 0)), ((0, 2), (0, 2)), ((3, 0), (3, 0)), ((3, 1), (3, 1)), ((3, 0), (3, 0)), ((3, 3), (3, 3)), ((3, 1), (3, 1)), ((2, 3), (2, 3)), ((0, 2), (0, 2)), ((3, 0), (3, 0)), ((2, 3), (2, 3)), ((0, 3), (0, 3)), ((2, 3), (2, 3)), ((0, 1), (0, 1)), ((0, 1), (0, 1)), ((1, 3), (1, 3)), ((0, 0), (0, 0)), ((0, 3), (0, 3)), ((1, 3), (1, 3)), ((2, 0), (2, 0)), ((2, 0), (2, 0)), ((2, 0), (2, 0)), ((3, 1), (3, 1)), ((2, 1), (2, 1)), ((2, 3), (2, 3)), ((1, 2), (1, 2)), ((1, 0), (1, 0)), ((0, 3), (0, 3)), ((2, 1), (2, 1)), ((2, 3), (2, 3)), ((0, 0), (0, 0)), ((1, 0), (1, 0)), ((3, 1), (3, 1)), ((0, 0), (0, 0)), ((2, 3), (2, 3)), ((3, 2), (3, 2))]\n",
            "Grouped data: [((2, 3), [(2, 3), (2, 3), (2, 3), (2, 3), (2, 3), (2, 3), (2, 3), (2, 3), (2, 3), (2, 3), (2, 3)]), ((3, 0), [(3, 0), (3, 0), (3, 0), (3, 0), (3, 0), (3, 0), (3, 0), (3, 0)]), ((0, 1), [(0, 1), (0, 1), (0, 1), (0, 1), (0, 1), (0, 1), (0, 1), (0, 1)]), ((2, 2), [(2, 2), (2, 2), (2, 2), (2, 2), (2, 2), (2, 2), (2, 2)]), ((3, 3), [(3, 3), (3, 3)]), ((1, 0), [(1, 0), (1, 0), (1, 0), (1, 0), (1, 0), (1, 0), (1, 0), (1, 0), (1, 0), (1, 0)]), ((0, 2), [(0, 2), (0, 2), (0, 2), (0, 2), (0, 2), (0, 2), (0, 2), (0, 2)]), ((3, 1), [(3, 1), (3, 1), (3, 1), (3, 1), (3, 1), (3, 1), (3, 1), (3, 1)]), ((2, 1), [(2, 1), (2, 1), (2, 1)]), ((0, 3), [(0, 3), (0, 3), (0, 3), (0, 3), (0, 3), (0, 3), (0, 3), (0, 3)]), ((3, 2), [(3, 2), (3, 2), (3, 2), (3, 2), (3, 2), (3, 2), (3, 2)]), ((1, 2), [(1, 2), (1, 2), (1, 2)]), ((0, 0), [(0, 0), (0, 0), (0, 0), (0, 0), (0, 0), (0, 0), (0, 0)]), ((2, 0), [(2, 0), (2, 0), (2, 0), (2, 0), (2, 0)]), ((1, 1), [(1, 1), (1, 1)]), ((1, 3), [(1, 3), (1, 3), (1, 3)])]\n",
            "Reduced data: [(3, 3), (1, 1)]\n"
          ]
        }
      ],
      "source": [
        "\n",
        "def MAP(t):\n",
        "    return (t, t)\n",
        "\n",
        "def REDUCE(key, values: Iterator[NamedTuple]):\n",
        "    if len(values) == 2:\n",
        "        return (key, key)\n",
        "\n",
        "def generate_records(count):\n",
        "    return [(random.randint(0, 3), random.randint(0, 3)) for _ in range(count)]\n",
        "\n",
        "def group_by_key(data):\n",
        "    grouped = {}\n",
        "    for (key, value) in data:\n",
        "        grouped.setdefault(key, []).append(value)  \n",
        "    return grouped.items()\n",
        "\n",
        "records = generate_records(100)\n",
        "print(\"Generated records:\", records)\n",
        "\n",
        "mapped_data = [MAP(record) for record in records]\n",
        "print(\"Mapped data:\", mapped_data)\n",
        "\n",
        "grouped_data = list(group_by_key(mapped_data))\n",
        "print(\"Grouped data:\", grouped_data)\n",
        "\n",
        "reduced_data = [result[0] for result in map(lambda x: REDUCE(*x), grouped_data) if result is not None]\n",
        "print(\"Reduced data:\", reduced_data)\n"
      ]
    },
    {
      "cell_type": "markdown",
      "metadata": {
        "id": "AVOpqoY3wE5k"
      },
      "source": [
        "### Difference (Разница)\n",
        "\n",
        "**The Map Function:** Для кортежа $t \\in R$, создайте пару $(t, R)$, и для кортежа $t \\in S$, создайте пару $(t, S)$. Задумка заключается в том, чтобы значение пары было именем отношения $R$ or $S$, которому принадлежит кортеж (а лучше, единичный бит, по которому можно два отношения различить $R$ or $S$), а не весь набор атрибутов отношения.\n",
        "\n",
        "**The Reduce Function:** Для каждого ключа $t$, если соответствующее значение является списком $[R]$, создайте пару $(t, t)$. В иных случаях не предпринимайте действий."
      ]
    },
    {
      "cell_type": "code",
      "execution_count": 202,
      "metadata": {
        "id": "QE_AC09lwZIZ"
      },
      "outputs": [
        {
          "name": "stdout",
          "output_type": "stream",
          "text": [
            "Input records: [(((2, 0), (1, 3), (3, 1)), 1), (((2, 3), (3, 1), (0, 3)), 2), (((0, 2), (3, 2), (0, 2)), 2), (((2, 0), (2, 2), (1, 1)), 1), (((3, 1), (3, 1), (0, 3)), 1), (((1, 0), (3, 0), (2, 2)), 2), (((1, 0), (2, 1), (3, 2)), 2), (((1, 1), (3, 0), (3, 0)), 1), (((0, 1), (2, 2), (2, 1)), 1), (((1, 1), (1, 3), (1, 0)), 1), (((1, 1), (0, 3), (2, 0)), 1), (((1, 2), (3, 2), (2, 3)), 1), (((3, 0), (3, 2), (0, 1)), 1), (((0, 0), (3, 3), (3, 2)), 1), (((0, 2), (1, 0), (0, 3)), 2), (((0, 1), (2, 1), (0, 1)), 2), (((2, 3), (1, 2), (2, 0)), 2), (((3, 3), (3, 2), (1, 1)), 1), (((2, 2), (2, 2), (2, 3)), 1), (((0, 2), (2, 2), (2, 1)), 2), (((3, 3), (3, 3), (1, 0)), 2), (((2, 3), (2, 3), (0, 3)), 1), (((1, 0), (2, 3), (2, 0)), 2), (((1, 0), (1, 0), (0, 1)), 1), (((1, 2), (2, 1), (3, 3)), 2), (((1, 3), (3, 0), (1, 0)), 1), (((2, 0), (1, 0), (1, 0)), 2), (((2, 0), (0, 1), (2, 2)), 2), (((0, 0), (1, 1), (1, 3)), 1), (((2, 3), (3, 3), (0, 3)), 1), (((1, 3), (2, 2), (3, 2)), 2), (((0, 1), (3, 2), (0, 2)), 1), (((2, 3), (1, 0), (3, 0)), 2), (((1, 2), (0, 0), (1, 3)), 1), (((0, 0), (0, 1), (1, 1)), 1), (((0, 1), (0, 1), (0, 2)), 1), (((1, 3), (1, 1), (2, 0)), 1), (((1, 0), (1, 0), (2, 2)), 2), (((0, 0), (2, 3), (3, 1)), 1), (((3, 2), (2, 1), (2, 2)), 2), (((2, 0), (2, 1), (1, 0)), 2), (((3, 2), (0, 3), (3, 3)), 2), (((3, 2), (3, 2), (1, 1)), 1), (((2, 1), (3, 0), (3, 2)), 2), (((2, 2), (1, 2), (3, 2)), 2), (((3, 1), (0, 2), (2, 1)), 2), (((1, 1), (2, 0), (3, 0)), 2), (((3, 0), (0, 3), (0, 1)), 1), (((0, 2), (1, 1), (0, 0)), 1), (((2, 1), (2, 2), (0, 3)), 2), (((2, 3), (2, 0), (2, 2)), 2), (((1, 2), (2, 0), (2, 1)), 1), (((2, 3), (3, 3), (0, 0)), 1), (((0, 1), (1, 2), (1, 3)), 1), (((0, 0), (2, 2), (3, 1)), 2), (((0, 2), (3, 2), (0, 2)), 1), (((1, 2), (0, 3), (3, 1)), 2), (((2, 1), (3, 2), (1, 1)), 1), (((0, 0), (2, 2), (3, 1)), 2), (((3, 0), (0, 1), (3, 3)), 1), (((1, 1), (2, 2), (1, 1)), 2), (((3, 2), (3, 3), (2, 0)), 1), (((2, 3), (0, 2), (3, 0)), 1), (((3, 2), (2, 1), (0, 2)), 2), (((0, 2), (2, 2), (0, 0)), 1), (((0, 3), (0, 1), (1, 1)), 2), (((2, 1), (0, 3), (3, 1)), 1), (((1, 2), (3, 3), (0, 0)), 1), (((0, 1), (2, 1), (0, 3)), 1), (((1, 1), (1, 3), (0, 3)), 2), (((0, 2), (0, 3), (0, 3)), 2), (((1, 2), (2, 0), (0, 0)), 2), (((3, 0), (2, 0), (3, 3)), 1), (((0, 3), (0, 2), (0, 1)), 1), (((0, 3), (2, 1), (3, 1)), 1), (((3, 1), (0, 1), (3, 0)), 2), (((1, 2), (0, 1), (3, 0)), 1), (((2, 0), (0, 2), (0, 0)), 1), (((2, 3), (1, 2), (0, 1)), 1), (((2, 3), (3, 0), (2, 2)), 2), (((3, 3), (2, 2), (3, 3)), 1), (((2, 1), (0, 2), (0, 1)), 1), (((0, 1), (3, 0), (3, 0)), 2), (((0, 3), (1, 3), (1, 2)), 2), (((2, 3), (0, 3), (1, 0)), 1), (((0, 2), (1, 2), (2, 3)), 1), (((1, 2), (1, 3), (0, 0)), 2), (((2, 1), (3, 2), (3, 1)), 2), (((1, 0), (2, 3), (0, 2)), 1), (((0, 3), (0, 0), (2, 1)), 1), (((1, 1), (2, 1), (3, 2)), 2), (((2, 3), (1, 1), (2, 2)), 2), (((2, 2), (3, 0), (3, 2)), 2), (((2, 1), (0, 0), (3, 3)), 1), (((2, 3), (1, 1), (3, 3)), 1), (((3, 1), (3, 3), (2, 3)), 2), (((0, 1), (0, 0), (1, 1)), 2), (((1, 3), (1, 0), (3, 1)), 2), (((1, 0), (0, 3), (2, 2)), 1), (((3, 1), (3, 3), (1, 3)), 2)]\n",
            "MAP output: [(((2, 0), (1, 3), (3, 1)), 1), (((2, 3), (3, 1), (0, 3)), 2), (((0, 2), (3, 2), (0, 2)), 2), (((2, 0), (2, 2), (1, 1)), 1), (((3, 1), (3, 1), (0, 3)), 1), (((1, 0), (3, 0), (2, 2)), 2), (((1, 0), (2, 1), (3, 2)), 2), (((1, 1), (3, 0), (3, 0)), 1), (((0, 1), (2, 2), (2, 1)), 1), (((1, 1), (1, 3), (1, 0)), 1), (((1, 1), (0, 3), (2, 0)), 1), (((1, 2), (3, 2), (2, 3)), 1), (((3, 0), (3, 2), (0, 1)), 1), (((0, 0), (3, 3), (3, 2)), 1), (((0, 2), (1, 0), (0, 3)), 2), (((0, 1), (2, 1), (0, 1)), 2), (((2, 3), (1, 2), (2, 0)), 2), (((3, 3), (3, 2), (1, 1)), 1), (((2, 2), (2, 2), (2, 3)), 1), (((0, 2), (2, 2), (2, 1)), 2), (((3, 3), (3, 3), (1, 0)), 2), (((2, 3), (2, 3), (0, 3)), 1), (((1, 0), (2, 3), (2, 0)), 2), (((1, 0), (1, 0), (0, 1)), 1), (((1, 2), (2, 1), (3, 3)), 2), (((1, 3), (3, 0), (1, 0)), 1), (((2, 0), (1, 0), (1, 0)), 2), (((2, 0), (0, 1), (2, 2)), 2), (((0, 0), (1, 1), (1, 3)), 1), (((2, 3), (3, 3), (0, 3)), 1), (((1, 3), (2, 2), (3, 2)), 2), (((0, 1), (3, 2), (0, 2)), 1), (((2, 3), (1, 0), (3, 0)), 2), (((1, 2), (0, 0), (1, 3)), 1), (((0, 0), (0, 1), (1, 1)), 1), (((0, 1), (0, 1), (0, 2)), 1), (((1, 3), (1, 1), (2, 0)), 1), (((1, 0), (1, 0), (2, 2)), 2), (((0, 0), (2, 3), (3, 1)), 1), (((3, 2), (2, 1), (2, 2)), 2), (((2, 0), (2, 1), (1, 0)), 2), (((3, 2), (0, 3), (3, 3)), 2), (((3, 2), (3, 2), (1, 1)), 1), (((2, 1), (3, 0), (3, 2)), 2), (((2, 2), (1, 2), (3, 2)), 2), (((3, 1), (0, 2), (2, 1)), 2), (((1, 1), (2, 0), (3, 0)), 2), (((3, 0), (0, 3), (0, 1)), 1), (((0, 2), (1, 1), (0, 0)), 1), (((2, 1), (2, 2), (0, 3)), 2), (((2, 3), (2, 0), (2, 2)), 2), (((1, 2), (2, 0), (2, 1)), 1), (((2, 3), (3, 3), (0, 0)), 1), (((0, 1), (1, 2), (1, 3)), 1), (((0, 0), (2, 2), (3, 1)), 2), (((0, 2), (3, 2), (0, 2)), 1), (((1, 2), (0, 3), (3, 1)), 2), (((2, 1), (3, 2), (1, 1)), 1), (((0, 0), (2, 2), (3, 1)), 2), (((3, 0), (0, 1), (3, 3)), 1), (((1, 1), (2, 2), (1, 1)), 2), (((3, 2), (3, 3), (2, 0)), 1), (((2, 3), (0, 2), (3, 0)), 1), (((3, 2), (2, 1), (0, 2)), 2), (((0, 2), (2, 2), (0, 0)), 1), (((0, 3), (0, 1), (1, 1)), 2), (((2, 1), (0, 3), (3, 1)), 1), (((1, 2), (3, 3), (0, 0)), 1), (((0, 1), (2, 1), (0, 3)), 1), (((1, 1), (1, 3), (0, 3)), 2), (((0, 2), (0, 3), (0, 3)), 2), (((1, 2), (2, 0), (0, 0)), 2), (((3, 0), (2, 0), (3, 3)), 1), (((0, 3), (0, 2), (0, 1)), 1), (((0, 3), (2, 1), (3, 1)), 1), (((3, 1), (0, 1), (3, 0)), 2), (((1, 2), (0, 1), (3, 0)), 1), (((2, 0), (0, 2), (0, 0)), 1), (((2, 3), (1, 2), (0, 1)), 1), (((2, 3), (3, 0), (2, 2)), 2), (((3, 3), (2, 2), (3, 3)), 1), (((2, 1), (0, 2), (0, 1)), 1), (((0, 1), (3, 0), (3, 0)), 2), (((0, 3), (1, 3), (1, 2)), 2), (((2, 3), (0, 3), (1, 0)), 1), (((0, 2), (1, 2), (2, 3)), 1), (((1, 2), (1, 3), (0, 0)), 2), (((2, 1), (3, 2), (3, 1)), 2), (((1, 0), (2, 3), (0, 2)), 1), (((0, 3), (0, 0), (2, 1)), 1), (((1, 1), (2, 1), (3, 2)), 2), (((2, 3), (1, 1), (2, 2)), 2), (((2, 2), (3, 0), (3, 2)), 2), (((2, 1), (0, 0), (3, 3)), 1), (((2, 3), (1, 1), (3, 3)), 1), (((3, 1), (3, 3), (2, 3)), 2), (((0, 1), (0, 0), (1, 1)), 2), (((1, 3), (1, 0), (3, 1)), 2), (((1, 0), (0, 3), (2, 2)), 1), (((3, 1), (3, 3), (1, 3)), 2)]\n",
            "Shuffle output: [(((2, 0), (1, 3), (3, 1)), [1]), (((2, 3), (3, 1), (0, 3)), [2]), (((0, 2), (3, 2), (0, 2)), [2, 1]), (((2, 0), (2, 2), (1, 1)), [1]), (((3, 1), (3, 1), (0, 3)), [1]), (((1, 0), (3, 0), (2, 2)), [2]), (((1, 0), (2, 1), (3, 2)), [2]), (((1, 1), (3, 0), (3, 0)), [1]), (((0, 1), (2, 2), (2, 1)), [1]), (((1, 1), (1, 3), (1, 0)), [1]), (((1, 1), (0, 3), (2, 0)), [1]), (((1, 2), (3, 2), (2, 3)), [1]), (((3, 0), (3, 2), (0, 1)), [1]), (((0, 0), (3, 3), (3, 2)), [1]), (((0, 2), (1, 0), (0, 3)), [2]), (((0, 1), (2, 1), (0, 1)), [2]), (((2, 3), (1, 2), (2, 0)), [2]), (((3, 3), (3, 2), (1, 1)), [1]), (((2, 2), (2, 2), (2, 3)), [1]), (((0, 2), (2, 2), (2, 1)), [2]), (((3, 3), (3, 3), (1, 0)), [2]), (((2, 3), (2, 3), (0, 3)), [1]), (((1, 0), (2, 3), (2, 0)), [2]), (((1, 0), (1, 0), (0, 1)), [1]), (((1, 2), (2, 1), (3, 3)), [2]), (((1, 3), (3, 0), (1, 0)), [1]), (((2, 0), (1, 0), (1, 0)), [2]), (((2, 0), (0, 1), (2, 2)), [2]), (((0, 0), (1, 1), (1, 3)), [1]), (((2, 3), (3, 3), (0, 3)), [1]), (((1, 3), (2, 2), (3, 2)), [2]), (((0, 1), (3, 2), (0, 2)), [1]), (((2, 3), (1, 0), (3, 0)), [2]), (((1, 2), (0, 0), (1, 3)), [1]), (((0, 0), (0, 1), (1, 1)), [1]), (((0, 1), (0, 1), (0, 2)), [1]), (((1, 3), (1, 1), (2, 0)), [1]), (((1, 0), (1, 0), (2, 2)), [2]), (((0, 0), (2, 3), (3, 1)), [1]), (((3, 2), (2, 1), (2, 2)), [2]), (((2, 0), (2, 1), (1, 0)), [2]), (((3, 2), (0, 3), (3, 3)), [2]), (((3, 2), (3, 2), (1, 1)), [1]), (((2, 1), (3, 0), (3, 2)), [2]), (((2, 2), (1, 2), (3, 2)), [2]), (((3, 1), (0, 2), (2, 1)), [2]), (((1, 1), (2, 0), (3, 0)), [2]), (((3, 0), (0, 3), (0, 1)), [1]), (((0, 2), (1, 1), (0, 0)), [1]), (((2, 1), (2, 2), (0, 3)), [2]), (((2, 3), (2, 0), (2, 2)), [2]), (((1, 2), (2, 0), (2, 1)), [1]), (((2, 3), (3, 3), (0, 0)), [1]), (((0, 1), (1, 2), (1, 3)), [1]), (((0, 0), (2, 2), (3, 1)), [2, 2]), (((1, 2), (0, 3), (3, 1)), [2]), (((2, 1), (3, 2), (1, 1)), [1]), (((3, 0), (0, 1), (3, 3)), [1]), (((1, 1), (2, 2), (1, 1)), [2]), (((3, 2), (3, 3), (2, 0)), [1]), (((2, 3), (0, 2), (3, 0)), [1]), (((3, 2), (2, 1), (0, 2)), [2]), (((0, 2), (2, 2), (0, 0)), [1]), (((0, 3), (0, 1), (1, 1)), [2]), (((2, 1), (0, 3), (3, 1)), [1]), (((1, 2), (3, 3), (0, 0)), [1]), (((0, 1), (2, 1), (0, 3)), [1]), (((1, 1), (1, 3), (0, 3)), [2]), (((0, 2), (0, 3), (0, 3)), [2]), (((1, 2), (2, 0), (0, 0)), [2]), (((3, 0), (2, 0), (3, 3)), [1]), (((0, 3), (0, 2), (0, 1)), [1]), (((0, 3), (2, 1), (3, 1)), [1]), (((3, 1), (0, 1), (3, 0)), [2]), (((1, 2), (0, 1), (3, 0)), [1]), (((2, 0), (0, 2), (0, 0)), [1]), (((2, 3), (1, 2), (0, 1)), [1]), (((2, 3), (3, 0), (2, 2)), [2]), (((3, 3), (2, 2), (3, 3)), [1]), (((2, 1), (0, 2), (0, 1)), [1]), (((0, 1), (3, 0), (3, 0)), [2]), (((0, 3), (1, 3), (1, 2)), [2]), (((2, 3), (0, 3), (1, 0)), [1]), (((0, 2), (1, 2), (2, 3)), [1]), (((1, 2), (1, 3), (0, 0)), [2]), (((2, 1), (3, 2), (3, 1)), [2]), (((1, 0), (2, 3), (0, 2)), [1]), (((0, 3), (0, 0), (2, 1)), [1]), (((1, 1), (2, 1), (3, 2)), [2]), (((2, 3), (1, 1), (2, 2)), [2]), (((2, 2), (3, 0), (3, 2)), [2]), (((2, 1), (0, 0), (3, 3)), [1]), (((2, 3), (1, 1), (3, 3)), [1]), (((3, 1), (3, 3), (2, 3)), [2]), (((0, 1), (0, 0), (1, 1)), [2]), (((1, 3), (1, 0), (3, 1)), [2]), (((1, 0), (0, 3), (2, 2)), [1]), (((3, 1), (3, 3), (1, 3)), [2])]\n",
            "Reduce output: [((2, 0), (1, 3), (3, 1)), ((2, 0), (2, 2), (1, 1)), ((3, 1), (3, 1), (0, 3)), ((1, 1), (3, 0), (3, 0)), ((0, 1), (2, 2), (2, 1)), ((1, 1), (1, 3), (1, 0)), ((1, 1), (0, 3), (2, 0)), ((1, 2), (3, 2), (2, 3)), ((3, 0), (3, 2), (0, 1)), ((0, 0), (3, 3), (3, 2)), ((3, 3), (3, 2), (1, 1)), ((2, 2), (2, 2), (2, 3)), ((2, 3), (2, 3), (0, 3)), ((1, 0), (1, 0), (0, 1)), ((1, 3), (3, 0), (1, 0)), ((0, 0), (1, 1), (1, 3)), ((2, 3), (3, 3), (0, 3)), ((0, 1), (3, 2), (0, 2)), ((1, 2), (0, 0), (1, 3)), ((0, 0), (0, 1), (1, 1)), ((0, 1), (0, 1), (0, 2)), ((1, 3), (1, 1), (2, 0)), ((0, 0), (2, 3), (3, 1)), ((3, 2), (3, 2), (1, 1)), ((3, 0), (0, 3), (0, 1)), ((0, 2), (1, 1), (0, 0)), ((1, 2), (2, 0), (2, 1)), ((2, 3), (3, 3), (0, 0)), ((0, 1), (1, 2), (1, 3)), ((2, 1), (3, 2), (1, 1)), ((3, 0), (0, 1), (3, 3)), ((3, 2), (3, 3), (2, 0)), ((2, 3), (0, 2), (3, 0)), ((0, 2), (2, 2), (0, 0)), ((2, 1), (0, 3), (3, 1)), ((1, 2), (3, 3), (0, 0)), ((0, 1), (2, 1), (0, 3)), ((3, 0), (2, 0), (3, 3)), ((0, 3), (0, 2), (0, 1)), ((0, 3), (2, 1), (3, 1)), ((1, 2), (0, 1), (3, 0)), ((2, 0), (0, 2), (0, 0)), ((2, 3), (1, 2), (0, 1)), ((3, 3), (2, 2), (3, 3)), ((2, 1), (0, 2), (0, 1)), ((2, 3), (0, 3), (1, 0)), ((0, 2), (1, 2), (2, 3)), ((1, 0), (2, 3), (0, 2)), ((0, 3), (0, 0), (2, 1)), ((2, 1), (0, 0), (3, 3)), ((2, 3), (1, 1), (3, 3)), ((1, 0), (0, 3), (2, 2))]\n"
          ]
        }
      ],
      "source": [
        "\n",
        "rels = [1, 2]  \n",
        "\n",
        "class Tuple: \n",
        "    def __init__(self, data: tuple, rel_id: int):\n",
        "        self.data = data\n",
        "        self.rel_id = rel_id\n",
        "\n",
        "def get_random_tuple(count):\n",
        "    data = tuple((random.randint(0, 3), random.randint(0, 3)) for _ in range(count))  \n",
        "    rel_id = random.choice(rels)  \n",
        "    return Tuple(data, rel_id)\n",
        "\n",
        "def RECORDREADER(count):\n",
        "    return [get_random_tuple(3) for _ in range(count)]\n",
        "\n",
        "def MAP(t: Tuple):\n",
        "    return (t.data, t.rel_id)\n",
        "\n",
        "def REDUCE(key, values: Iterator[NamedTuple]):\n",
        "    if values == [rels[0]]:  \n",
        "        return (key, key)\n",
        "\n",
        "def group_by_key(iterable):\n",
        "    grouped = {}\n",
        "    for k2, v2 in iterable:\n",
        "        grouped.setdefault(k2, []).append(v2)  \n",
        "    return grouped.items()\n",
        "\n",
        "\n",
        "record = RECORDREADER(100)\n",
        "\n",
        "\n",
        "print(\"Input records:\", [(t.data, t.rel_id) for t in record])\n",
        "\n",
        "map_output = [MAP(t) for t in record]  \n",
        "print(\"MAP output:\", map_output)\n",
        "\n",
        "shuffle_output = list(group_by_key(map_output))\n",
        "print(\"Shuffle output:\", shuffle_output)\n",
        "\n",
        "reduce_output = [result[0] for result in map(lambda x: REDUCE(*x), shuffle_output) if result is not None]\n",
        "print(\"Reduce output:\", reduce_output)\n"
      ]
    },
    {
      "cell_type": "markdown",
      "metadata": {
        "id": "j8I58V2VwhSm"
      },
      "source": [
        "### Natural Join\n",
        "\n",
        "**The Map Function:** Для каждого кортежа $(a, b)$ отношения $R$, создайте пару $(b,(R, a))$. Для каждого кортежа $(b, c)$ отношения $S$, создайте пару $(b,(S, c))$.\n",
        "\n",
        "**The Reduce Function:** Каждый ключ $b$ будет асоциирован со списком пар, которые принимают форму либо $(R, a)$, либо $(S, c)$. Создайте все пары, одни, состоящие из  первого компонента $R$, а другие, из первого компонента $S$, то есть $(R, a)$ и $(S, c)$. На выходе вы получаете последовательность пар ключ-значение из списков ключей и значений. Ключ не нужен. Каждое значение, это тройка $(a, b, c)$ такая, что $(R, a)$ и $(S, c)$ это принадлежат входному списку значений."
      ]
    },
    {
      "cell_type": "code",
      "execution_count": null,
      "metadata": {
        "id": "yHiuuTctw86I"
      },
      "outputs": [
        {
          "name": "stdout",
          "output_type": "stream",
          "text": [
            "Input records: [((1, 2), 2), ((0, 3), 2), ((2, 1), 2), ((3, 1), 1), ((0, 2), 2), ((1, 3), 2), ((1, 2), 1), ((1, 2), 1), ((0, 0), 1), ((0, 3), 1), ((3, 1), 1), ((2, 1), 2), ((3, 0), 2), ((1, 2), 2), ((3, 1), 1), ((2, 1), 1), ((3, 0), 1), ((2, 3), 2), ((0, 2), 2), ((1, 1), 1), ((3, 0), 1), ((0, 1), 1), ((0, 3), 2), ((3, 3), 2), ((0, 2), 1), ((3, 3), 1), ((1, 0), 1), ((1, 1), 2), ((3, 1), 1), ((1, 2), 2), ((1, 0), 2), ((3, 2), 2), ((3, 2), 1), ((3, 2), 2), ((1, 0), 2), ((0, 1), 2), ((2, 2), 2), ((0, 0), 1), ((2, 3), 1), ((2, 3), 2), ((0, 0), 2), ((2, 2), 1), ((0, 0), 2), ((2, 2), 2), ((1, 0), 1), ((3, 1), 1), ((3, 0), 2), ((0, 1), 1), ((0, 2), 1), ((1, 2), 1), ((1, 2), 2), ((0, 1), 1), ((2, 2), 1), ((2, 3), 2), ((3, 0), 2), ((3, 2), 1), ((3, 3), 1), ((3, 2), 1), ((3, 1), 1), ((3, 1), 1), ((0, 2), 2), ((0, 0), 2), ((2, 0), 1), ((1, 0), 2), ((2, 3), 2), ((1, 0), 1), ((2, 0), 1), ((3, 2), 1), ((3, 3), 2), ((1, 0), 1), ((1, 3), 1), ((3, 3), 2), ((3, 0), 2), ((2, 2), 1), ((2, 0), 1), ((3, 0), 1), ((2, 1), 1), ((0, 3), 2), ((0, 1), 2), ((0, 1), 1), ((1, 0), 1), ((1, 3), 1), ((3, 0), 2), ((2, 2), 2), ((1, 3), 2), ((0, 3), 2), ((0, 0), 2), ((2, 1), 2), ((0, 2), 1), ((2, 1), 2), ((0, 1), 2), ((1, 0), 2), ((3, 1), 1), ((2, 0), 1), ((3, 3), 1), ((2, 3), 2), ((2, 0), 2), ((3, 3), 1), ((1, 2), 2), ((1, 2), 1)]\n",
            "MAP output: [(1, (2, 2)), (0, (2, 3)), (2, (2, 1)), (1, (1, 3)), (0, (2, 2)), (1, (2, 3)), (2, (1, 1)), (2, (1, 1)), (0, (1, 0)), (3, (1, 0)), (1, (1, 3)), (2, (2, 1)), (3, (2, 0)), (1, (2, 2)), (1, (1, 3)), (1, (1, 2)), (0, (1, 3)), (2, (2, 3)), (0, (2, 2)), (1, (1, 1)), (0, (1, 3)), (1, (1, 0)), (0, (2, 3)), (3, (2, 3)), (2, (1, 0)), (3, (1, 3)), (0, (1, 1)), (1, (2, 1)), (1, (1, 3)), (1, (2, 2)), (1, (2, 0)), (3, (2, 2)), (2, (1, 3)), (3, (2, 2)), (1, (2, 0)), (0, (2, 1)), (2, (2, 2)), (0, (1, 0)), (3, (1, 2)), (2, (2, 3)), (0, (2, 0)), (2, (1, 2)), (0, (2, 0)), (2, (2, 2)), (0, (1, 1)), (1, (1, 3)), (3, (2, 0)), (1, (1, 0)), (2, (1, 0)), (2, (1, 1)), (1, (2, 2)), (1, (1, 0)), (2, (1, 2)), (2, (2, 3)), (3, (2, 0)), (2, (1, 3)), (3, (1, 3)), (2, (1, 3)), (1, (1, 3)), (1, (1, 3)), (0, (2, 2)), (0, (2, 0)), (0, (1, 2)), (1, (2, 0)), (2, (2, 3)), (0, (1, 1)), (0, (1, 2)), (2, (1, 3)), (3, (2, 3)), (0, (1, 1)), (3, (1, 1)), (3, (2, 3)), (3, (2, 0)), (2, (1, 2)), (0, (1, 2)), (0, (1, 3)), (1, (1, 2)), (0, (2, 3)), (0, (2, 1)), (1, (1, 0)), (0, (1, 1)), (3, (1, 1)), (3, (2, 0)), (2, (2, 2)), (1, (2, 3)), (0, (2, 3)), (0, (2, 0)), (2, (2, 1)), (2, (1, 0)), (2, (2, 1)), (0, (2, 1)), (1, (2, 0)), (1, (1, 3)), (0, (1, 2)), (3, (1, 3)), (2, (2, 3)), (2, (2, 0)), (3, (1, 3)), (1, (2, 2)), (2, (1, 1))]\n",
            "Shuffle output: [(1, [(2, 2), (1, 3), (2, 3), (1, 3), (2, 2), (1, 3), (1, 2), (1, 1), (1, 0), (2, 1), (1, 3), (2, 2), (2, 0), (2, 0), (1, 3), (1, 0), (2, 2), (1, 0), (1, 3), (1, 3), (2, 0), (1, 2), (1, 0), (2, 3), (2, 0), (1, 3), (2, 2)]), (0, [(2, 3), (2, 2), (1, 0), (1, 3), (2, 2), (1, 3), (2, 3), (1, 1), (2, 1), (1, 0), (2, 0), (2, 0), (1, 1), (2, 2), (2, 0), (1, 2), (1, 1), (1, 2), (1, 1), (1, 2), (1, 3), (2, 3), (2, 1), (1, 1), (2, 3), (2, 0), (2, 1), (1, 2)]), (2, [(2, 1), (1, 1), (1, 1), (2, 1), (2, 3), (1, 0), (1, 3), (2, 2), (2, 3), (1, 2), (2, 2), (1, 0), (1, 1), (1, 2), (2, 3), (1, 3), (1, 3), (2, 3), (1, 3), (1, 2), (2, 2), (2, 1), (1, 0), (2, 1), (2, 3), (2, 0), (1, 1)]), (3, [(1, 0), (2, 0), (2, 3), (1, 3), (2, 2), (2, 2), (1, 2), (2, 0), (2, 0), (1, 3), (2, 3), (1, 1), (2, 3), (2, 0), (1, 1), (2, 0), (1, 3), (1, 3)])]\n",
            "Reduce output: [[(2, 1, 2), (1, 1, 3), (2, 1, 3), (1, 1, 3), (2, 1, 2), (1, 1, 3), (1, 1, 2), (1, 1, 1), (1, 1, 0), (2, 1, 1), (1, 1, 3), (2, 1, 2), (2, 1, 0), (2, 1, 0), (1, 1, 3), (1, 1, 0), (2, 1, 2), (1, 1, 0), (1, 1, 3), (1, 1, 3), (2, 1, 0), (1, 1, 2), (1, 1, 0), (2, 1, 3), (2, 1, 0), (1, 1, 3), (2, 1, 2)], [(2, 0, 3), (2, 0, 2), (1, 0, 0), (1, 0, 3), (2, 0, 2), (1, 0, 3), (2, 0, 3), (1, 0, 1), (2, 0, 1), (1, 0, 0), (2, 0, 0), (2, 0, 0), (1, 0, 1), (2, 0, 2), (2, 0, 0), (1, 0, 2), (1, 0, 1), (1, 0, 2), (1, 0, 1), (1, 0, 2), (1, 0, 3), (2, 0, 3), (2, 0, 1), (1, 0, 1), (2, 0, 3), (2, 0, 0), (2, 0, 1), (1, 0, 2)], [(2, 2, 1), (1, 2, 1), (1, 2, 1), (2, 2, 1), (2, 2, 3), (1, 2, 0), (1, 2, 3), (2, 2, 2), (2, 2, 3), (1, 2, 2), (2, 2, 2), (1, 2, 0), (1, 2, 1), (1, 2, 2), (2, 2, 3), (1, 2, 3), (1, 2, 3), (2, 2, 3), (1, 2, 3), (1, 2, 2), (2, 2, 2), (2, 2, 1), (1, 2, 0), (2, 2, 1), (2, 2, 3), (2, 2, 0), (1, 2, 1)], [(1, 3, 0), (2, 3, 0), (2, 3, 3), (1, 3, 3), (2, 3, 2), (2, 3, 2), (1, 3, 2), (2, 3, 0), (2, 3, 0), (1, 3, 3), (2, 3, 3), (1, 3, 1), (2, 3, 3), (2, 3, 0), (1, 3, 1), (2, 3, 0), (1, 3, 3), (1, 3, 3)]]\n"
          ]
        }
      ],
      "source": [
        "\n",
        "rels = [1, 2]  \n",
        "\n",
        "class Tuple:\n",
        "    def __init__(self, data: tuple, rel_id: int):\n",
        "        self.data = data\n",
        "        self.rel_id = rel_id\n",
        "\n",
        "def get_random_tuple():  \n",
        "  data = (random.randint(0, 3), random.randint(0, 3))\n",
        "  rel_id = rels[random.randint(0, len(rels) - 1)]\n",
        "  return Tuple(data, rel_id)\n",
        "\n",
        "def RECORDREADER(count):\n",
        "    return [get_random_tuple() for _ in range(count)]\n",
        "\n",
        "def MAP(t: Tuple):\n",
        "    return (t.data[1], (t.rel_id, t.data[0])) if t.rel_id == rels[0] else (t.data[0], (t.rel_id, t.data[1]))\n",
        "\n",
        "def REDUCE(key, values: Iterator[NamedTuple]):\n",
        "    return [(v[0], key, v[1]) for v in values]\n",
        "\n",
        "def group_by_key(iterable):\n",
        "    grouped = {}\n",
        "    for k, v in iterable:\n",
        "        grouped.setdefault(k, []).append(v)\n",
        "    return grouped.items()\n",
        "\n",
        "record = RECORDREADER(100)\n",
        "print(\"Input records:\", [(t.data, t.rel_id) for t in record])\n",
        "\n",
        "map_output = list(map(MAP, record))\n",
        "print(\"MAP output:\", map_output)\n",
        "\n",
        "shuffle_output = list(group_by_key(map_output))\n",
        "print(\"Shuffle output:\", shuffle_output)\n",
        "\n",
        "reduce_output = list(map(lambda x: REDUCE(*x), shuffle_output))\n",
        "print(\"Reduce output:\", reduce_output)\n"
      ]
    },
    {
      "cell_type": "markdown",
      "metadata": {
        "id": "kYdlr0YUxE27"
      },
      "source": [
        "### Grouping and Aggregation (Группировка и аггрегация)\n",
        "\n",
        "**The Map Function:** Для каждого кортежа $(a, b, c$) создайте пару $(a, b)$.\n",
        "\n",
        "**The Reduce Function:** Ключ представляет ту или иную группу. Примение аггрегирующую операцию $\\theta$ к списку значений $[b1, b2, . . . , bn]$ ассоциированных с ключом $a$. Возвращайте в выходной поток $(a, x)$, где $x$ результат применения  $\\theta$ к списку. Например, если $\\theta$ это $SUM$, тогда $x = b1 + b2 + · · · + bn$, а если $\\theta$ is $MAX$, тогда $x$ это максимальное из значений $b1, b2, . . . , bn$."
      ]
    },
    {
      "cell_type": "code",
      "execution_count": 213,
      "metadata": {
        "id": "MLPckfEGxico"
      },
      "outputs": [
        {
          "name": "stdout",
          "output_type": "stream",
          "text": [
            "Input record: [(2, 3, 3), (0, 0, 2), (2, 3, 0), (3, 0, 2), (2, 1, 0), (3, 1, 0), (2, 0, 1), (2, 0, 0), (3, 0, 2), (2, 3, 0), (0, 2, 1), (3, 3, 2), (0, 3, 0), (0, 3, 1), (1, 1, 0), (2, 1, 3), (3, 1, 1), (2, 3, 2), (1, 2, 3), (2, 2, 0), (1, 2, 2), (0, 0, 1), (1, 2, 0), (2, 3, 0), (2, 1, 3), (0, 3, 1), (0, 2, 0), (3, 3, 1), (0, 2, 3), (3, 0, 2), (0, 3, 2), (3, 3, 1), (1, 0, 1), (0, 0, 0), (3, 1, 2), (0, 3, 0), (1, 0, 2), (0, 1, 3), (1, 1, 1), (2, 0, 0), (2, 2, 0), (1, 0, 3), (0, 3, 1), (1, 3, 1), (0, 2, 1), (1, 1, 0), (3, 3, 2), (1, 1, 1), (2, 2, 3), (1, 3, 1), (3, 0, 0), (1, 1, 1), (3, 0, 2), (0, 1, 3), (1, 2, 3), (2, 1, 0), (1, 1, 0), (1, 0, 0), (0, 1, 1), (0, 2, 1), (1, 3, 0), (3, 2, 1), (0, 2, 2), (3, 2, 2), (3, 1, 2), (0, 1, 2), (1, 0, 0), (3, 0, 1), (1, 3, 2), (1, 0, 0), (0, 1, 0), (3, 3, 2), (0, 1, 1), (3, 3, 1), (1, 1, 3), (3, 1, 2), (3, 2, 0), (3, 3, 3), (2, 0, 2), (0, 1, 0), (1, 2, 3), (3, 3, 1), (3, 0, 0), (0, 2, 3), (1, 2, 2), (2, 1, 3), (3, 0, 1), (2, 3, 1), (3, 1, 3), (2, 0, 2), (3, 2, 1), (1, 3, 1), (2, 3, 0), (2, 2, 1), (2, 1, 0), (3, 3, 3), (3, 1, 1), (2, 1, 2), (2, 1, 1), (1, 0, 3)]\n",
            "Transformed data: [(2, 3), (0, 0), (2, 3), (3, 0), (2, 1), (3, 1), (2, 0), (2, 0), (3, 0), (2, 3), (0, 2), (3, 3), (0, 3), (0, 3), (1, 1), (2, 1), (3, 1), (2, 3), (1, 2), (2, 2), (1, 2), (0, 0), (1, 2), (2, 3), (2, 1), (0, 3), (0, 2), (3, 3), (0, 2), (3, 0), (0, 3), (3, 3), (1, 0), (0, 0), (3, 1), (0, 3), (1, 0), (0, 1), (1, 1), (2, 0), (2, 2), (1, 0), (0, 3), (1, 3), (0, 2), (1, 1), (3, 3), (1, 1), (2, 2), (1, 3), (3, 0), (1, 1), (3, 0), (0, 1), (1, 2), (2, 1), (1, 1), (1, 0), (0, 1), (0, 2), (1, 3), (3, 2), (0, 2), (3, 2), (3, 1), (0, 1), (1, 0), (3, 0), (1, 3), (1, 0), (0, 1), (3, 3), (0, 1), (3, 3), (1, 1), (3, 1), (3, 2), (3, 3), (2, 0), (0, 1), (1, 2), (3, 3), (3, 0), (0, 2), (1, 2), (2, 1), (3, 0), (2, 3), (3, 1), (2, 0), (3, 2), (1, 3), (2, 3), (2, 2), (2, 1), (3, 3), (3, 1), (2, 1), (2, 1), (1, 0)]\n",
            "Grouped data: {2: [3, 3, 1, 0, 0, 3, 1, 3, 2, 3, 1, 0, 2, 2, 1, 0, 1, 3, 0, 3, 2, 1, 1, 1], 0: [0, 2, 3, 3, 0, 3, 2, 2, 3, 0, 3, 1, 3, 2, 1, 1, 2, 2, 1, 1, 1, 1, 2], 3: [0, 1, 0, 3, 1, 3, 0, 3, 1, 3, 0, 0, 2, 2, 1, 0, 3, 3, 1, 2, 3, 3, 0, 0, 1, 2, 3, 1], 1: [1, 2, 2, 2, 0, 0, 1, 0, 3, 1, 1, 3, 1, 2, 1, 0, 3, 0, 3, 0, 1, 2, 2, 3, 0]}\n",
            "Aggregated results: [(2, 37), (0, 39), (3, 42), (1, 34)]\n"
          ]
        }
      ],
      "source": [
        "from typing import List, Tuple\n",
        "\n",
        "def generate_data_point() -> Tuple[int, int, int]:\n",
        "    return tuple(random.randint(0, 3) for _ in range(3))\n",
        "\n",
        "def create_dataset(size: int) -> List[Tuple[int, int, int]]:\n",
        "    return [generate_data_point() for _ in range(size)]\n",
        "\n",
        "def transform(data_point: Tuple[int, int, int]) -> Tuple[int, int]:\n",
        "    return data_point[:2]\n",
        "\n",
        "def aggregate(key: Tuple[int, int], values: List[int]) -> Tuple[Tuple[int, int], int]:\n",
        "    return key, sum(values)\n",
        "\n",
        "def group_data(data: List[Tuple[int, int]]) -> dict:\n",
        "    grouped = defaultdict(list)\n",
        "    for key, value in data:\n",
        "        grouped[key].append(value)\n",
        "    return dict(grouped)\n",
        "\n",
        "\n",
        "record = create_dataset(100)\n",
        "print(\"Input record:\", record)  \n",
        "\n",
        "transformed_data = [transform(point) for point in record]\n",
        "print(\"Transformed data:\", transformed_data)\n",
        "\n",
        "grouped_data = group_data(transformed_data)\n",
        "print(\"Grouped data:\", grouped_data)\n",
        "\n",
        "aggregated_results = [aggregate(key, values) for key, values in grouped_data.items()]\n",
        "print(\"Aggregated results:\", aggregated_results)\n"
      ]
    },
    {
      "cell_type": "markdown",
      "metadata": {
        "id": "03IffTEOJgOb"
      },
      "source": [
        "# "
      ]
    },
    {
      "cell_type": "markdown",
      "metadata": {
        "id": "IIrRgvG4RIS4"
      },
      "source": [
        "### Matrix-Vector multiplication\n",
        "\n",
        "Случай, когда вектор не помещается в памяти Map задачи\n"
      ]
    },
    {
      "cell_type": "code",
      "execution_count": null,
      "metadata": {
        "id": "KQhDbiL3zS9r"
      },
      "outputs": [],
      "source": []
    },
    {
      "cell_type": "markdown",
      "metadata": {
        "id": "GIo2t7nNxvA9"
      },
      "source": [
        "## Matrix multiplication (Перемножение матриц)\n",
        "\n",
        "Если у нас есть матрица $M$ с элементами $m_{ij}$ в строке $i$ и столбце $j$, и матрица $N$ с элементами $n_{jk}$ в строке $j$ и столбце $k$, тогда их произведение $P = MN$ есть матрица $P$ с элементами $p_{ik}$ в строке $i$ и столбце $k$, где\n",
        "\n",
        "$$p_{ik} =\\sum_{j} m_{ij}n_{jk}$$\n",
        "\n",
        "Необходимым требованием является одинаковое количество столбцов в $M$ и строк в $N$, чтобы операция суммирования по  $j$ была осмысленной. Мы можем размышлять о матрице, как об отношении с тремя атрибутами: номер строки, номер столбца, само значение. Таким образом матрица $M$ предстваляется как отношение $ M(I, J, V )$, с кортежами $(i, j, m_{ij})$, и, аналогично, матрица $N$ представляется как отношение $N(J, K, W)$, с кортежами $(j, k, n_{jk})$. Так как большие матрицы как правило разреженные (большинство значений равно 0), и так как мы можем нулевыми значениями пренебречь (не хранить), такое реляционное представление достаточно эффективно для больших матриц. Однако, возможно, что координаты $i$, $j$, и $k$ неявно закодированы в смещение позиции элемента относительно начала файла, вместо явного хранения. Тогда, функция Map (или Reader) должна быть разработана таким образом, чтобы реконструировать компоненты $I$, $J$, и $K$ кортежей из смещения.\n",
        "\n",
        "Произведение $MN$ это фактически join, за которым следуют группировка по ключу и аггрегация. Таким образом join отношений $M(I, J, V )$ и $N(J, K, W)$, имеющих общим только атрибут $J$, создаст кортежи $(i, j, k, v, w)$ из каждого кортежа $(i, j, v) \\in M$ и кортежа $(j, k, w) \\in N$. Такой 5 компонентный кортеж представляет пару элементов матрицы $(m_{ij} , n_{jk})$. Что нам хотелось бы получить на самом деле, это произведение этих элементов, то есть, 4 компонентный кортеж$(i, j, k, v \\times w)$, так как он представляет произведение $m_{ij}n_{jk}$. Мы представляем отношение как результат одной MapReduce операции, в которой мы можем произвести группировку и аггрегацию, с $I$ и $K$  атрибутами, по которым идёт группировка, и суммой  $V \\times W$. \n",
        "\n",
        "\n",
        "\n"
      ]
    },
    {
      "cell_type": "code",
      "execution_count": 173,
      "metadata": {
        "id": "1MBkGaLAYVCt"
      },
      "outputs": [],
      "source": [
        "# MapReduce model\n",
        "def flatten(nested_iterable):\n",
        "  for iterable in nested_iterable:\n",
        "    for element in iterable:\n",
        "      yield element\n",
        "\n",
        "def groupbykey(iterable):\n",
        "  t = {}\n",
        "  for (k2, v2) in iterable:\n",
        "    t[k2] = t.get(k2, []) + [v2]\n",
        "  return t.items()\n",
        "\n",
        "def MapReduce(RECORDREADER, MAP, REDUCE):\n",
        "  return flatten(map(lambda x: REDUCE(*x), groupbykey(flatten(map(lambda x: MAP(*x), RECORDREADER())))))"
      ]
    },
    {
      "cell_type": "markdown",
      "metadata": {
        "id": "sMspsOT0ZB35"
      },
      "source": [
        "Реализуйте перемножение матриц с использованием модельного кода MapReduce для одной машины в случае, когда одна матрица хранится в памяти, а другая генерируется RECORDREADER-ом."
      ]
    },
    {
      "cell_type": "code",
      "execution_count": 174,
      "metadata": {
        "id": "psP1XekbsEjS"
      },
      "outputs": [],
      "source": [
        "import numpy as np\n",
        "I = 2\n",
        "J = 3\n",
        "K = 4*10\n",
        "small_mat = np.random.rand(I,J) # it is legal to access this from RECORDREADER, MAP, REDUCE\n",
        "big_mat = np.random.rand(J,K)\n",
        "\n",
        "def RECORDREADER():\n",
        "  for j in range(big_mat.shape[0]):\n",
        "    for k in range(big_mat.shape[1]):\n",
        "      yield ((j,k), big_mat[j,k])\n",
        "      \n",
        "def MAP(k1, v1):\n",
        "  (j, k) = k1\n",
        "  w = v1\n",
        "  # solution code that yield(k2,v2) pairs\n",
        "  for i in range(small_mat.shape[0]):\n",
        "        yield (i, k), w * small_mat[i][j]\n",
        "  \n",
        "def REDUCE(key, values):\n",
        "  (i, k) = key\n",
        "  # solution code that yield(k3,v3) pairs\n",
        "  el_value = sum(values)\n",
        "  yield key, el_value\n",
        "\n"
      ]
    },
    {
      "cell_type": "markdown",
      "metadata": {
        "id": "rnt306LHhHrm"
      },
      "source": [
        "Проверьте своё решение"
      ]
    },
    {
      "cell_type": "code",
      "execution_count": 175,
      "metadata": {
        "colab": {
          "base_uri": "https://localhost:8080/",
          "height": 34
        },
        "id": "Ewy_ZNYqW5a2",
        "outputId": "9ce264f2-9412-44e2-9b0a-cc780573ab3a"
      },
      "outputs": [
        {
          "data": {
            "text/plain": [
              "True"
            ]
          },
          "execution_count": 175,
          "metadata": {},
          "output_type": "execute_result"
        }
      ],
      "source": [
        "# CHECK THE SOLUTION\n",
        "reference_solution = np.matmul(small_mat, big_mat) \n",
        "solution = MapReduce(RECORDREADER, MAP, REDUCE)\n",
        "\n",
        "def asmatrix(reduce_output):\n",
        "  reduce_output = list(reduce_output)\n",
        "  I = max(i for ((i,k), vw) in reduce_output)+1\n",
        "  K = max(k for ((i,k), vw) in reduce_output)+1\n",
        "  mat = np.empty(shape=(I,K))\n",
        "  for ((i,k), vw) in reduce_output:\n",
        "    mat[i,k] = vw\n",
        "  return mat\n",
        "\n",
        "np.allclose(reference_solution, asmatrix(solution)) # should return true\n"
      ]
    },
    {
      "cell_type": "code",
      "execution_count": 176,
      "metadata": {
        "colab": {
          "base_uri": "https://localhost:8080/",
          "height": 34
        },
        "id": "TK7v4CEcfxqf",
        "outputId": "2c865d0a-4065-4e6b-c83f-5508ed5eb4fa"
      },
      "outputs": [
        {
          "data": {
            "text/plain": [
              "1"
            ]
          },
          "execution_count": 176,
          "metadata": {},
          "output_type": "execute_result"
        }
      ],
      "source": [
        "reduce_output = list(MapReduce(RECORDREADER, MAP, REDUCE))\n",
        "max(i for ((i,k), vw) in reduce_output)"
      ]
    },
    {
      "cell_type": "markdown",
      "metadata": {
        "id": "i4yyg3kOZqJJ"
      },
      "source": [
        "Реализуйте перемножение матриц  с использованием модельного кода MapReduce для одной машины в случае, когда обе матрицы генерируются в RECORDREADER. Например, сначала одна, а потом другая."
      ]
    },
    {
      "cell_type": "code",
      "execution_count": 209,
      "metadata": {
        "id": "3B7rIAJCaHZq"
      },
      "outputs": [
        {
          "name": "stdout",
          "output_type": "stream",
          "text": [
            "True\n"
          ]
        }
      ],
      "source": [
        "\n",
        "I, J, K = 2, 3, 40\n",
        "\n",
        "small_mat = np.random.rand(I, J)\n",
        "big_mat = np.random.rand(J, K)\n",
        "\n",
        "reference_solution = np.matmul(small_mat, big_mat)\n",
        "\n",
        "def flatten(nested):\n",
        "    for iterable in nested:\n",
        "        yield from iterable\n",
        "\n",
        "def groupbykey(iterable):\n",
        "    result = {}\n",
        "    for k, v in iterable:\n",
        "        result.setdefault(k, []).append(v)\n",
        "    return result.items()\n",
        "\n",
        "def RECORDREADER():\n",
        "    yield [((0, i, j), small_mat[i, j]) for i in range(I) for j in range(J)]\n",
        "    yield [((1, j, k), big_mat[j, k]) for j in range(J) for k in range(K)]\n",
        "\n",
        "def MAP_JOIN(k1, v1):\n",
        "    mat_num, i, j = k1\n",
        "    w = v1\n",
        "    if mat_num == 0:\n",
        "        yield (j, (mat_num, i, w))\n",
        "    else:\n",
        "        yield (i, (mat_num, j, w))\n",
        "\n",
        "def REDUCE_JOIN(key, values):\n",
        "    from_first_mat = [v for v in values if v[0] == 0]\n",
        "    from_second_mat = [v for v in values if v[0] == 1]\n",
        "    for f in from_first_mat:\n",
        "        for s in from_second_mat:\n",
        "            yield ((f[1], s[1]), f[2] * s[2])\n",
        "\n",
        "def MAP_MUL(k1, v1):\n",
        "    yield k1, v1\n",
        "\n",
        "def REDUCE_MUL(key, values):\n",
        "    yield key, sum(values)\n",
        "\n",
        "def asmatrix(reduce_output):\n",
        "    reduce_output = list(reduce_output)\n",
        "    I_max = max(i for ((i, _), _) in reduce_output) + 1\n",
        "    K_max = max(k for ((_, k), _) in reduce_output) + 1\n",
        "    mat = np.zeros((I_max, K_max))\n",
        "    for (i, k), value in reduce_output:\n",
        "        mat[i, k] = value\n",
        "    return mat\n",
        "\n",
        "def MapReduce(RECORDREADER, MAP, REDUCE):\n",
        "    mapped = flatten(map(lambda kv: MAP(*kv), flatten(RECORDREADER())))\n",
        "    reduced = flatten(map(lambda kv: REDUCE(*kv), groupbykey(mapped)))\n",
        "    return reduced\n",
        "\n",
        "joined = MapReduce(RECORDREADER, MAP_JOIN, REDUCE_JOIN)\n",
        "solution = MapReduce(lambda: [joined], MAP_MUL, REDUCE_MUL)\n",
        "\n",
        "assert np.allclose(reference_solution, asmatrix(solution)), \"False\"\n",
        "print(\"True\")\n"
      ]
    },
    {
      "cell_type": "markdown",
      "metadata": {
        "id": "mXyzQi1DaIwo"
      },
      "source": [
        "Реализуйте перемножение матриц с использованием модельного кода MapReduce Distributed, когда каждая матрица генерируется в своём RECORDREADER. "
      ]
    },
    {
      "cell_type": "code",
      "execution_count": 207,
      "metadata": {
        "id": "TDM_s78Rb5eR"
      },
      "outputs": [
        {
          "name": "stdout",
          "output_type": "stream",
          "text": [
            "126 key-value pairs were sent over a network.\n",
            "[(0, [((0, 0), np.float64(0.09559004128890893)), ((0, 1), np.float64(0.0018310064834232902)), ((0, 2), np.float64(0.03427477929679909)), ((0, 3), np.float64(0.07684087191870846)), ((0, 4), np.float64(0.10796937043966663)), ((0, 5), np.float64(0.12546296664915704)), ((0, 6), np.float64(0.13929405844492881)), ((0, 7), np.float64(0.1398013262022728)), ((0, 8), np.float64(0.10515770041039041)), ((0, 9), np.float64(0.03315979492361304)), ((0, 10), np.float64(0.07338737412485595)), ((0, 11), np.float64(0.013810471954323384)), ((0, 12), np.float64(0.023348237639219248)), ((0, 13), np.float64(0.018366669712473437)), ((0, 14), np.float64(0.07751243307119034)), ((0, 15), np.float64(0.017581844078193555)), ((0, 16), np.float64(0.07547098082561131)), ((0, 17), np.float64(0.09282144514536404)), ((0, 18), np.float64(0.09397923348863989)), ((0, 19), np.float64(0.12282191760217095)), ((0, 20), np.float64(0.09651712163579214)), ((0, 21), np.float64(0.05911321166421766)), ((0, 22), np.float64(0.04397545333512218)), ((0, 23), np.float64(0.04274313605316663)), ((0, 24), np.float64(0.07557283708509448)), ((0, 25), np.float64(0.007127563855751622)), ((0, 26), np.float64(0.0041929894281070796)), ((0, 27), np.float64(0.014412408740610175)), ((0, 28), np.float64(0.026345118076848025)), ((0, 29), np.float64(0.116887089406888)), ((0, 30), np.float64(0.13176258238661498)), ((0, 31), np.float64(0.14177753449703678)), ((0, 32), np.float64(0.06940841844165642)), ((0, 33), np.float64(0.067400398784551)), ((0, 34), np.float64(0.10179450103751574)), ((0, 35), np.float64(0.12599175775448454)), ((0, 36), np.float64(0.0663093840355958)), ((0, 37), np.float64(0.03944931035351432)), ((0, 38), np.float64(0.12942713161362315)), ((0, 39), np.float64(0.019043888750767967)), ((1, 0), np.float64(0.5339029059048827)), ((1, 1), np.float64(0.010226794225098855)), ((1, 2), np.float64(0.19143630465125427)), ((1, 3), np.float64(0.429182415411546)), ((1, 4), np.float64(0.6030456713815351)), ((1, 5), np.float64(0.700753358553099)), ((1, 6), np.float64(0.7780047123764655)), ((1, 7), np.float64(0.7808379754033038)), ((1, 8), np.float64(0.5873415375739225)), ((1, 9), np.float64(0.18520873754430672)), ((1, 10), np.float64(0.4098934551515414)), ((1, 11), np.float64(0.0771361849928049)), ((1, 12), np.float64(0.1304078516470238)), ((1, 13), np.float64(0.10258409975624239)), ((1, 14), np.float64(0.43293331295242304)), ((1, 15), np.float64(0.0982005815453418)), ((1, 16), np.float64(0.4215311075397641)), ((1, 17), np.float64(0.5184393544053273)), ((1, 18), np.float64(0.5249059962496331)), ((1, 19), np.float64(0.6860022009867844)), ((1, 20), np.float64(0.5390809650890216)), ((1, 21), np.float64(0.33016740090641766)), ((1, 22), np.float64(0.24561786989028592)), ((1, 23), np.float64(0.238734958564363)), ((1, 24), np.float64(0.42210000940641673)), ((1, 25), np.float64(0.03980986934723643)), ((1, 26), np.float64(0.023419272655493314)), ((1, 27), np.float64(0.08049820675821294)), ((1, 28), np.float64(0.14714644860466677)), ((1, 29), np.float64(0.6528541661414909)), ((1, 30), np.float64(0.7359388559434339)), ((1, 31), np.float64(0.7918757711508639)), ((1, 32), np.float64(0.38766963378811803)), ((1, 33), np.float64(0.37645416075780036)), ((1, 34), np.float64(0.5685569247198677)), ((1, 35), np.float64(0.7037068368019231)), ((1, 36), np.float64(0.37036047215804613)), ((1, 37), np.float64(0.22033782128022422)), ((1, 38), np.float64(0.722894568719731)), ((1, 39), np.float64(0.10636659851452582)), ((0, 0), np.float64(0.2147205052361255)), ((0, 1), np.float64(0.03156666623969922)), ((0, 2), np.float64(0.21619420691916746)), ((0, 3), np.float64(0.4035646850861483)), ((0, 4), np.float64(0.3394342541647346)), ((0, 5), np.float64(0.26388165406154923)), ((0, 6), np.float64(0.29108020329551004)), ((0, 7), np.float64(0.319367794816802)), ((0, 8), np.float64(0.09903411516181285)), ((0, 9), np.float64(0.18795612917025933)), ((0, 10), np.float64(0.08776486910185957)), ((0, 11), np.float64(0.10102648317996282)), ((0, 12), np.float64(0.41060574925844256)), ((0, 13), np.float64(0.44213943125074867)), ((0, 14), np.float64(0.003779893225098316)), ((0, 15), np.float64(0.02224110691354645)), ((0, 16), np.float64(0.044695220519659615)), ((0, 17), np.float64(0.422227857960536)), ((0, 18), np.float64(0.16386376677883405)), ((0, 19), np.float64(0.18302054983932214)), ((0, 20), np.float64(0.35766739520999175)), ((0, 21), np.float64(0.20879360338986538)), ((0, 22), np.float64(0.18658896628962118)), ((0, 23), np.float64(0.39904330481593075)), ((0, 24), np.float64(0.20949592310492884)), ((0, 25), np.float64(0.16680983229160407)), ((0, 26), np.float64(0.1213079282845085)), ((0, 27), np.float64(0.4329814395333692)), ((0, 28), np.float64(0.2345380080711418)), ((0, 29), np.float64(0.14960657124627127)), ((0, 30), np.float64(0.31582675775592617)), ((0, 31), np.float64(0.3835664770228686)), ((0, 32), np.float64(0.3344526084202091)), ((0, 33), np.float64(0.26266605542369303)), ((0, 34), np.float64(0.2897662770526396)), ((0, 35), np.float64(0.18847308054611017)), ((0, 36), np.float64(0.19651259219923561)), ((0, 37), np.float64(0.16228853303346358)), ((0, 38), np.float64(0.2931371648753091)), ((0, 39), np.float64(0.4299028968181363)), ((1, 0), np.float64(0.020794159494991957)), ((1, 1), np.float64(0.0030570079545576986)), ((1, 2), np.float64(0.020936877060841165)), ((1, 3), np.float64(0.039082380227259725)), ((1, 4), np.float64(0.03287180239913863)), ((1, 5), np.float64(0.025555068419403835)), ((1, 6), np.float64(0.028189055192960562)), ((1, 7), np.float64(0.03092850799545873)), ((1, 8), np.float64(0.009590752331061797)), ((1, 9), np.float64(0.018202219316360468)), ((1, 10), np.float64(0.008499405700234513)), ((1, 11), np.float64(0.00978369905637139)), ((1, 12), np.float64(0.039764257401738945)), ((1, 13), np.float64(0.04281807106565188)), ((1, 14), np.float64(0.0003660558758014228)), ((1, 15), np.float64(0.0021538936115899315)), ((1, 16), np.float64(0.004328415412061321)), ((1, 17), np.float64(0.04088977627919176)), ((1, 18), np.float64(0.01586904472911031)), ((1, 19), np.float64(0.017724243430010764)), ((1, 20), np.float64(0.03463755291547997)), ((1, 21), np.float64(0.020220181047210434)), ((1, 22), np.float64(0.018069819278626022)), ((1, 23), np.float64(0.03864451658506578)), ((1, 24), np.float64(0.02028819573521355)), ((1, 25), np.float64(0.016154350299194854)), ((1, 26), np.float64(0.011747813307262654)), ((1, 27), np.float64(0.04193118445826621)), ((1, 28), np.float64(0.02271334422441785)), ((1, 29), np.float64(0.01448833636346364)), ((1, 30), np.float64(0.030585583646707985)), ((1, 31), np.float64(0.037145695476892865)), ((1, 32), np.float64(0.03238936530704397)), ((1, 33), np.float64(0.025437346304649687)), ((1, 34), np.float64(0.028061810746377043)), ((1, 35), np.float64(0.018252282394168415)), ((1, 36), np.float64(0.01903085213250382)), ((1, 37), np.float64(0.01571649450244655)), ((1, 38), np.float64(0.02838825734702766)), ((1, 39), np.float64(0.04163304940981194))]), (1, [((0, 0), np.float64(0.19526663437660227)), ((0, 1), np.float64(0.34083335950344895)), ((0, 2), np.float64(0.48675616777837344)), ((0, 3), np.float64(0.7379215519182034)), ((0, 4), np.float64(0.6029945853353146)), ((0, 5), np.float64(0.7145442075732218)), ((0, 6), np.float64(0.18491755549294964)), ((0, 7), np.float64(0.4717099954503788)), ((0, 8), np.float64(0.22004891451641345)), ((0, 9), np.float64(0.5865168596237461)), ((0, 10), np.float64(0.3409759397395632)), ((0, 11), np.float64(0.30331833419161336)), ((0, 12), np.float64(0.7771302104371075)), ((0, 13), np.float64(0.10347862209947373)), ((0, 14), np.float64(0.029147444784597333)), ((0, 15), np.float64(0.2864145841141205)), ((0, 16), np.float64(0.28792776760461075)), ((0, 17), np.float64(0.5626560957716653)), ((0, 18), np.float64(0.46417368194640474)), ((0, 19), np.float64(0.11643915042930122)), ((0, 20), np.float64(0.20851002652708547)), ((0, 21), np.float64(0.013870279426603708)), ((0, 22), np.float64(0.35111180012306364)), ((0, 23), np.float64(0.4167226900212898)), ((0, 24), np.float64(0.3224021559892853)), ((0, 25), np.float64(0.3376280420294857)), ((0, 26), np.float64(0.39764705248117055)), ((0, 27), np.float64(0.580960098632935)), ((0, 28), np.float64(0.04570048141447403)), ((0, 29), np.float64(0.4766065816213982)), ((0, 30), np.float64(0.5423526253850642)), ((0, 31), np.float64(0.7661804809940659)), ((0, 32), np.float64(0.409855553711623)), ((0, 33), np.float64(0.7422546463963907)), ((0, 34), np.float64(0.39656843917549617)), ((0, 35), np.float64(0.434774553642306)), ((0, 36), np.float64(0.37875320775240967)), ((0, 37), np.float64(0.7147379973490884)), ((0, 38), np.float64(0.4537542045500376)), ((0, 39), np.float64(0.3596160263666914)), ((1, 0), np.float64(0.23288600607470994)), ((1, 1), np.float64(0.4064970960614617)), ((1, 2), np.float64(0.5805328709025979)), ((1, 3), np.float64(0.880086880031124)), ((1, 4), np.float64(0.7191653664321267)), ((1, 5), np.float64(0.852205740098964)), ((1, 6), np.float64(0.22054311065143137)), ((1, 7), np.float64(0.5625879568041635)), ((1, 8), np.float64(0.26244275170926673)), ((1, 9), np.float64(0.6995131009930623)), ((1, 10), np.float64(0.40666714529613945)), ((1, 11), np.float64(0.36175456008977647)), ((1, 12), np.float64(0.9268493385287897)), ((1, 13), np.float64(0.12341444349566909)), ((1, 14), np.float64(0.03476288729428411)), ((1, 15), np.float64(0.34159419395349155)), ((1, 16), np.float64(0.34339890196560796)), ((1, 17), np.float64(0.6710554076797967)), ((1, 18), np.float64(0.5535997240829377)), ((1, 19), np.float64(0.1388719008794551)), ((1, 20), np.float64(0.2486808228115972)), ((1, 21), np.float64(0.01654247787449453)), ((1, 22), np.float64(0.41875574430528556)), ((1, 23), np.float64(0.4970069936914753)), ((1, 24), np.float64(0.3845150027700639)), ((1, 25), np.float64(0.40267425358201847)), ((1, 26), np.float64(0.47425631201854174)), ((1, 27), np.float64(0.6928857942952579)), ((1, 28), np.float64(0.05450497278394051)), ((1, 29), np.float64(0.568427901761529)), ((1, 30), np.float64(0.6468403432736973)), ((1, 31), np.float64(0.9137900733566843)), ((1, 32), np.float64(0.48881685945049436)), ((1, 33), np.float64(0.8852547730006068)), ((1, 34), np.float64(0.47296989692945346)), ((1, 35), np.float64(0.5185366648220572)), ((1, 36), np.float64(0.4517224467100911)), ((1, 37), np.float64(0.852436864720248)), ((1, 38), np.float64(0.5411728674211608)), ((1, 39), np.float64(0.4288983643742855))])]\n",
            "240 key-value pairs were sent over a network.\n",
            "[(1, [((0, 0), np.float64(0.5055771809016367)), ((0, 3), np.float64(1.2183271089230603)), ((0, 6), np.float64(0.6152918172333885)), ((0, 7), np.float64(0.9308791164694536)), ((0, 10), np.float64(0.5021281829662787)), ((0, 13), np.float64(0.5639847230626958)), ((0, 14), np.float64(0.11043977108088598)), ((0, 17), np.float64(1.0777053988775653)), ((0, 20), np.float64(0.6626945433728694)), ((0, 21), np.float64(0.2817770944806867)), ((0, 24), np.float64(0.6074709161793086)), ((0, 27), np.float64(1.0283539469069143)), ((0, 28), np.float64(0.30658360756246383)), ((0, 30), np.float64(0.9899419655276054)), ((0, 31), np.float64(1.2915244925139713)), ((0, 34), np.float64(0.7881292172656515)), ((0, 35), np.float64(0.7492393919429007)), ((0, 37), np.float64(0.9164758407360662)), ((0, 38), np.float64(0.8763185010389698)), ((1, 2), np.float64(0.7929060526146933)), ((1, 5), np.float64(1.5785141670714666)), ((1, 6), np.float64(1.0267368782208575)), ((1, 8), np.float64(0.8593750416142509)), ((1, 9), np.float64(0.9029240578537294)), ((1, 12), np.float64(1.0970214475775524)), ((1, 13), np.float64(0.2688166143175634)), ((1, 15), np.float64(0.4419486691104233)), ((1, 16), np.float64(0.7692584249174333)), ((1, 19), np.float64(0.8425983452962503)), ((1, 20), np.float64(0.8223993408160988)), ((1, 22), np.float64(0.6824434334741976)), ((1, 23), np.float64(0.7743864688409041)), ((1, 26), np.float64(0.5094233979812977)), ((1, 29), np.float64(1.2357704042664837)), ((1, 30), np.float64(1.4133647828638392)), ((1, 33), np.float64(1.2871462800630569)), ((1, 36), np.float64(0.8411137710006411)), ((1, 37), np.float64(1.0884911805029187))]), (0, [((0, 1), np.float64(0.37423103222657145)), ((0, 2), np.float64(0.73722515399434)), ((0, 4), np.float64(1.0503982099397158)), ((0, 5), np.float64(1.103888828283928)), ((0, 8), np.float64(0.42424073008861674)), ((0, 9), np.float64(0.8076327837176185)), ((0, 11), np.float64(0.41815528932589957)), ((0, 12), np.float64(1.2110841973347692)), ((0, 15), np.float64(0.3262375351058605)), ((0, 16), np.float64(0.4080939689498817)), ((0, 18), np.float64(0.7220166822138787)), ((0, 19), np.float64(0.4222816178707943)), ((0, 22), np.float64(0.581676219747807)), ((0, 23), np.float64(0.8585091308903872)), ((0, 25), np.float64(0.5115654381768414)), ((0, 26), np.float64(0.5231479701937861)), ((0, 29), np.float64(0.7431002422745574)), ((0, 32), np.float64(0.8137165805734885)), ((0, 33), np.float64(1.0723211006046347)), ((0, 36), np.float64(0.641575183987241)), ((0, 39), np.float64(0.8085628119355956)), ((1, 0), np.float64(0.7875830714745846)), ((1, 1), np.float64(0.4197808982411183)), ((1, 3), np.float64(1.3483516756699299)), ((1, 4), np.float64(1.3550828402128006)), ((1, 7), np.float64(1.374354440202926)), ((1, 10), np.float64(0.8250600061479154)), ((1, 11), np.float64(0.44867444413895274)), ((1, 14), np.float64(0.46806225612250857)), ((1, 17), np.float64(1.2303845383643157)), ((1, 18), np.float64(1.094374765061681)), ((1, 21), np.float64(0.3669300598281226)), ((1, 24), np.float64(0.8269032079116942)), ((1, 25), np.float64(0.45863847322844975)), ((1, 27), np.float64(0.815315185511737)), ((1, 28), np.float64(0.22436476561302512)), ((1, 31), np.float64(1.742811539984441)), ((1, 32), np.float64(0.9088758585456563)), ((1, 34), np.float64(1.0695886323956982)), ((1, 35), np.float64(1.2404957840181488)), ((1, 38), np.float64(1.2924556934879194)), ((1, 39), np.float64(0.5768980122986233))])]\n",
            "[((0, 0), np.float64(0.5055771809016367)), ((0, 3), np.float64(1.2183271089230603)), ((0, 6), np.float64(0.6152918172333885)), ((0, 7), np.float64(0.9308791164694536)), ((0, 10), np.float64(0.5021281829662787)), ((0, 13), np.float64(0.5639847230626958)), ((0, 14), np.float64(0.11043977108088598)), ((0, 17), np.float64(1.0777053988775653)), ((0, 20), np.float64(0.6626945433728694)), ((0, 21), np.float64(0.2817770944806867)), ((0, 24), np.float64(0.6074709161793086)), ((0, 27), np.float64(1.0283539469069143)), ((0, 28), np.float64(0.30658360756246383)), ((0, 30), np.float64(0.9899419655276054)), ((0, 31), np.float64(1.2915244925139713)), ((0, 34), np.float64(0.7881292172656515)), ((0, 35), np.float64(0.7492393919429007)), ((0, 37), np.float64(0.9164758407360662)), ((0, 38), np.float64(0.8763185010389698)), ((1, 2), np.float64(0.7929060526146933)), ((1, 5), np.float64(1.5785141670714666)), ((1, 6), np.float64(1.0267368782208575)), ((1, 8), np.float64(0.8593750416142509)), ((1, 9), np.float64(0.9029240578537294)), ((1, 12), np.float64(1.0970214475775524)), ((1, 13), np.float64(0.2688166143175634)), ((1, 15), np.float64(0.4419486691104233)), ((1, 16), np.float64(0.7692584249174333)), ((1, 19), np.float64(0.8425983452962503)), ((1, 20), np.float64(0.8223993408160988)), ((1, 22), np.float64(0.6824434334741976)), ((1, 23), np.float64(0.7743864688409041)), ((1, 26), np.float64(0.5094233979812977)), ((1, 29), np.float64(1.2357704042664837)), ((1, 30), np.float64(1.4133647828638392)), ((1, 33), np.float64(1.2871462800630569)), ((1, 36), np.float64(0.8411137710006411)), ((1, 37), np.float64(1.0884911805029187)), ((0, 1), np.float64(0.37423103222657145)), ((0, 2), np.float64(0.73722515399434)), ((0, 4), np.float64(1.0503982099397158)), ((0, 5), np.float64(1.103888828283928)), ((0, 8), np.float64(0.42424073008861674)), ((0, 9), np.float64(0.8076327837176185)), ((0, 11), np.float64(0.41815528932589957)), ((0, 12), np.float64(1.2110841973347692)), ((0, 15), np.float64(0.3262375351058605)), ((0, 16), np.float64(0.4080939689498817)), ((0, 18), np.float64(0.7220166822138787)), ((0, 19), np.float64(0.4222816178707943)), ((0, 22), np.float64(0.581676219747807)), ((0, 23), np.float64(0.8585091308903872)), ((0, 25), np.float64(0.5115654381768414)), ((0, 26), np.float64(0.5231479701937861)), ((0, 29), np.float64(0.7431002422745574)), ((0, 32), np.float64(0.8137165805734885)), ((0, 33), np.float64(1.0723211006046347)), ((0, 36), np.float64(0.641575183987241)), ((0, 39), np.float64(0.8085628119355956)), ((1, 0), np.float64(0.7875830714745846)), ((1, 1), np.float64(0.4197808982411183)), ((1, 3), np.float64(1.3483516756699299)), ((1, 4), np.float64(1.3550828402128006)), ((1, 7), np.float64(1.374354440202926)), ((1, 10), np.float64(0.8250600061479154)), ((1, 11), np.float64(0.44867444413895274)), ((1, 14), np.float64(0.46806225612250857)), ((1, 17), np.float64(1.2303845383643157)), ((1, 18), np.float64(1.094374765061681)), ((1, 21), np.float64(0.3669300598281226)), ((1, 24), np.float64(0.8269032079116942)), ((1, 25), np.float64(0.45863847322844975)), ((1, 27), np.float64(0.815315185511737)), ((1, 28), np.float64(0.22436476561302512)), ((1, 31), np.float64(1.742811539984441)), ((1, 32), np.float64(0.9088758585456563)), ((1, 34), np.float64(1.0695886323956982)), ((1, 35), np.float64(1.2404957840181488)), ((1, 38), np.float64(1.2924556934879194)), ((1, 39), np.float64(0.5768980122986233))]\n",
            "True\n"
          ]
        }
      ],
      "source": [
        "\n",
        "I, J, K = 2, 3, 40\n",
        "\n",
        "maps = 4\n",
        "reducers = 2\n",
        "\n",
        "small_mat = np.random.rand(I, J)\n",
        "big_mat = np.random.rand(J, K)\n",
        "\n",
        "reference_solution = np.matmul(small_mat, big_mat)\n",
        "\n",
        "def flatten(nested_iterable):\n",
        "    for iterable in nested_iterable:\n",
        "        yield from iterable\n",
        "\n",
        "def group_by_key(iterable):\n",
        "    t = {}\n",
        "    for (k2, v2) in iterable:\n",
        "        t[k2] = t.get(k2, []) + [v2]\n",
        "    return t.items()\n",
        "\n",
        "def groupbykey_distributed(map_partitions, PARTITIONER):\n",
        "    partitions = defaultdict(dict)\n",
        "    for map_partition in map_partitions:\n",
        "        for k2, v2 in map_partition:\n",
        "            partitions[PARTITIONER(k2)][k2] = partitions[PARTITIONER(k2)].get(k2, []) + [v2]\n",
        "    return [(partition_id, sorted(partition.items(), key=lambda x: x[0])) for partition_id, partition in partitions.items()]\n",
        "\n",
        "def PARTITIONER(obj):\n",
        "    global reducers\n",
        "    return hash(obj) % reducers\n",
        "\n",
        "def MapReduceDistributed(INPUTFORMAT, MAP, REDUCE, PARTITIONER=PARTITIONER, COMBINER=None):\n",
        "    map_partitions = map(lambda record_reader: flatten(map(lambda k1v1: MAP(*k1v1), record_reader)), INPUTFORMAT())\n",
        "\n",
        "    if COMBINER:\n",
        "        map_partitions = map(lambda map_partition: flatten(map(lambda k2v2: COMBINER(*k2v2), groupbykey(map_partition))), map_partitions)\n",
        "\n",
        "    reduce_partitions = groupbykey_distributed(map_partitions, PARTITIONER)\n",
        "\n",
        "    reduce_outputs = map(lambda reduce_partition: (reduce_partition[0], flatten(map(lambda reduce_input_group: REDUCE(*reduce_input_group), reduce_partition[1]))), reduce_partitions)\n",
        "\n",
        "    print(f\"{sum(len(vs) for _, vs in flatten([partition for _, partition in reduce_partitions]))} key-value pairs were sent over a network.\")\n",
        "    return reduce_outputs\n",
        "\n",
        "def asmatrix(reduce_output):\n",
        "    reduce_output = list(reduce_output)\n",
        "    I_max = max(i for ((i, _), _) in reduce_output) + 1\n",
        "    K_max = max(k for ((_, k), _) in reduce_output) + 1\n",
        "    mat = np.zeros((I_max, K_max))\n",
        "    for (i, k), value in reduce_output:\n",
        "        mat[i, k] = value\n",
        "    return mat\n",
        "\n",
        "def INPUTFORMAT():\n",
        "    first_mat = [((0, i, j), val) for i in range(small_mat.shape[0]) for j in range(small_mat.shape[1]) for val in [small_mat[i, j]]]\n",
        "    second_mat = [((1, j, k), val) for j in range(big_mat.shape[0]) for k in range(big_mat.shape[1]) for val in [big_mat[j, k]]]\n",
        "    yield first_mat\n",
        "    yield second_mat\n",
        "\n",
        "def MAP_JOIN(k1, v1):\n",
        "    mat_num, i, j = k1\n",
        "    if mat_num == 0:\n",
        "        yield j, (mat_num, i, v1)\n",
        "    else:\n",
        "        yield i, (mat_num, j, v1)\n",
        "\n",
        "def REDUCE_JOIN(key, values):\n",
        "    from_first_mat = [v for v in values if v[0] == 0]\n",
        "    from_second_mat = [v for v in values if v[0] == 1]\n",
        "    for f in from_first_mat:\n",
        "        for s in from_second_mat:\n",
        "            yield (f[1], s[1]), f[2] * s[2]\n",
        "\n",
        "def GET_JOINED():\n",
        "    for j in joined:\n",
        "        yield j[1]\n",
        "\n",
        "def MAP_MUL(k1, v1):\n",
        "    yield k1, v1\n",
        "\n",
        "def REDUCE_MUL(key, values):\n",
        "    yield key, sum(values)\n",
        "\n",
        "\n",
        "partitioned_output = MapReduceDistributed(INPUTFORMAT, MAP_JOIN, REDUCE_JOIN)\n",
        "joined = [(partition_id, list(partition)) for partition_id, partition in partitioned_output]\n",
        "print(joined)\n",
        "\n",
        "mul_output = MapReduceDistributed(GET_JOINED, MAP_MUL, REDUCE_MUL)\n",
        "pre_result = [(partition_id, list(partition)) for partition_id, partition in mul_output]\n",
        "print(pre_result)\n",
        "\n",
        "solution = [v for p in pre_result for v in p[1]]\n",
        "print(solution)\n",
        "\n",
        "assert np.allclose(reference_solution, asmatrix(solution)), \"False\"\n",
        "print(\"True\")\n"
      ]
    },
    {
      "cell_type": "markdown",
      "metadata": {
        "id": "ZuSA2P9Db6UM"
      },
      "source": [
        "Обобщите предыдущее решение на случай, когда каждая матрица генерируется несколькими RECORDREADER-ами, и проверьте его работоспособность. Будет ли работать решение, если RECORDREADER-ы будут генерировать случайное подмножество элементов матрицы?"
      ]
    },
    {
      "cell_type": "code",
      "execution_count": 208,
      "metadata": {
        "id": "ehN0FqRDcwU5"
      },
      "outputs": [
        {
          "name": "stdout",
          "output_type": "stream",
          "text": [
            "126 key-value pairs were sent over a network.\n",
            "[(0, [((0, 0), np.float64(0.7687104556926646)), ((0, 1), np.float64(0.5450446527837265)), ((0, 2), np.float64(0.4478192150630807)), ((0, 3), np.float64(0.39847865358656)), ((0, 4), np.float64(0.555494110321492)), ((0, 5), np.float64(0.29649677305565664)), ((0, 6), np.float64(0.058360367844883965)), ((0, 7), np.float64(0.26908285803762483)), ((0, 8), np.float64(0.05296038717613254)), ((0, 9), np.float64(0.44920597589191447)), ((0, 10), np.float64(0.6682056343472671)), ((0, 11), np.float64(0.14319296251399907)), ((0, 12), np.float64(0.13925114816149486)), ((0, 13), np.float64(0.2500671947920897)), ((0, 14), np.float64(0.41410167607979664)), ((0, 15), np.float64(0.14509319472691318)), ((0, 16), np.float64(0.5661727139092083)), ((0, 17), np.float64(0.4779861445022997)), ((0, 18), np.float64(0.22222482336341515)), ((0, 19), np.float64(0.5319651902902233)), ((0, 20), np.float64(0.18021971143518778)), ((0, 21), np.float64(0.5106733838667865)), ((0, 22), np.float64(0.24023680127921987)), ((0, 23), np.float64(0.20286176214935114)), ((0, 24), np.float64(0.6349074949569186)), ((0, 25), np.float64(0.17869954794174156)), ((0, 26), np.float64(0.5395380182888566)), ((0, 27), np.float64(0.2959187750002992)), ((0, 28), np.float64(0.7260968489103128)), ((0, 29), np.float64(0.6453416978175829)), ((0, 30), np.float64(0.11467935180349023)), ((0, 31), np.float64(0.11451529291956011)), ((0, 32), np.float64(0.48786269985175446)), ((0, 33), np.float64(0.25169991813968584)), ((0, 34), np.float64(0.2034776230591193)), ((0, 35), np.float64(0.6368244812539785)), ((0, 36), np.float64(0.5056948194873102)), ((0, 37), np.float64(0.3870259662416936)), ((0, 38), np.float64(0.6460453233660434)), ((0, 39), np.float64(0.6691304103034853)), ((1, 0), np.float64(0.864200182336505)), ((1, 1), np.float64(0.6127504638827931)), ((1, 2), np.float64(0.5034476172990057)), ((1, 3), np.float64(0.44797793829461013)), ((1, 4), np.float64(0.6244979600207472)), ((1, 5), np.float64(0.33332780039527293)), ((1, 6), np.float64(0.06560993174904658)), ((1, 7), np.float64(0.30250851052911243)), ((1, 8), np.float64(0.05953916187205359)), ((1, 9), np.float64(0.5050066424849652)), ((1, 10), np.float64(0.7512105849020243)), ((1, 11), np.float64(0.1609804880335559)), ((1, 12), np.float64(0.15654901886731273)), ((1, 13), np.float64(0.2811307088843652)), ((1, 14), np.float64(0.46554166308502765)), ((1, 15), np.float64(0.1631167683621516)), ((1, 16), np.float64(0.6365030668841476)), ((1, 17), np.float64(0.5373619028779814)), ((1, 18), np.float64(0.24982973946583406)), ((1, 19), np.float64(0.5980462618154959)), ((1, 20), np.float64(0.20260672445593716)), ((1, 21), np.float64(0.5741095729658204)), ((1, 22), np.float64(0.2700791773182872)), ((1, 23), np.float64(0.2280613858446922)), ((1, 24), np.float64(0.7137761283787601)), ((1, 25), np.float64(0.2008977252371952)), ((1, 26), np.float64(0.6065597915701093)), ((1, 27), np.float64(0.33267800303512124)), ((1, 28), np.float64(0.8162930848349613)), ((1, 29), np.float64(0.7255064748934268)), ((1, 30), np.float64(0.12892489754091707)), ((1, 31), np.float64(0.12874045915276144)), ((1, 32), np.float64(0.5484653305348414)), ((1, 33), np.float64(0.2829662502175792)), ((1, 34), np.float64(0.2287537494083385)), ((1, 35), np.float64(0.7159312439950334)), ((1, 36), np.float64(0.5685125679912483)), ((1, 37), np.float64(0.435102590472317)), ((1, 38), np.float64(0.7262975052778493)), ((1, 39), np.float64(0.7522502371456822)), ((0, 0), np.float64(0.19941811559715206)), ((0, 1), np.float64(0.2407889487399261)), ((0, 2), np.float64(0.36517330056807135)), ((0, 3), np.float64(0.5012643176257546)), ((0, 4), np.float64(0.6644019494355401)), ((0, 5), np.float64(0.5514749289104769)), ((0, 6), np.float64(0.14471497186871443)), ((0, 7), np.float64(0.4432304766596169)), ((0, 8), np.float64(0.427196040107131)), ((0, 9), np.float64(0.18131352637307688)), ((0, 10), np.float64(0.013650216117629638)), ((0, 11), np.float64(0.4965914325705212)), ((0, 12), np.float64(0.07060512853972162)), ((0, 13), np.float64(0.10700438189570032)), ((0, 14), np.float64(0.38391388883436056)), ((0, 15), np.float64(0.049695451306025866)), ((0, 16), np.float64(0.5265739729334048)), ((0, 17), np.float64(0.3064595972306107)), ((0, 18), np.float64(0.3038154456490996)), ((0, 19), np.float64(0.6079284591887884)), ((0, 20), np.float64(0.6109188287167145)), ((0, 21), np.float64(0.17181693168246262)), ((0, 22), np.float64(0.15919150657542433)), ((0, 23), np.float64(0.44796897854925805)), ((0, 24), np.float64(0.17795716941766018)), ((0, 25), np.float64(0.6496559622662063)), ((0, 26), np.float64(0.02345145087078267)), ((0, 27), np.float64(0.5878263869158864)), ((0, 28), np.float64(0.3761840219453095)), ((0, 29), np.float64(0.1959151036447847)), ((0, 30), np.float64(0.20693421649784852)), ((0, 31), np.float64(0.020479613118724666)), ((0, 32), np.float64(0.48536765555234257)), ((0, 33), np.float64(0.680050372286839)), ((0, 34), np.float64(0.3561151131215685)), ((0, 35), np.float64(0.33747699958516914)), ((0, 36), np.float64(0.56410788538792)), ((0, 37), np.float64(0.6552972632747761)), ((0, 38), np.float64(0.3187285066998802)), ((0, 39), np.float64(0.21398967483882594)), ((1, 0), np.float64(0.06016618190021935)), ((1, 1), np.float64(0.07264812249412252)), ((1, 2), np.float64(0.1101759645120016)), ((1, 3), np.float64(0.15123580936491005)), ((1, 4), np.float64(0.200455853395748)), ((1, 5), np.float64(0.16638478799622228)), ((1, 6), np.float64(0.04366176711210757)), ((1, 7), np.float64(0.13372649421828295)), ((1, 8), np.float64(0.12888876509123987)), ((1, 9), np.float64(0.0547038696863935)), ((1, 10), np.float64(0.004118389061351354)), ((1, 11), np.float64(0.14982595925480297)), ((1, 12), np.float64(0.02130218207151651)), ((1, 13), np.float64(0.032284153753929)), ((1, 14), np.float64(0.11583016317479737)), ((1, 15), np.float64(0.014993550380006432)), ((1, 16), np.float64(0.15887195275394966)), ((1, 17), np.float64(0.0924615289680744)), ((1, 18), np.float64(0.09166376541209773)), ((1, 19), np.float64(0.18341730964784567)), ((1, 20), np.float64(0.18431953017293345)), ((1, 21), np.float64(0.05183866437705041)), ((1, 22), np.float64(0.04802946368691757)), ((1, 23), np.float64(0.13515614149868657)), ((1, 24), np.float64(0.05369122756761224)), ((1, 25), np.float64(0.1960068606667188)), ((1, 26), np.float64(0.0070755069302024754)), ((1, 27), np.float64(0.17735233940519207)), ((1, 28), np.float64(0.1134979950268913)), ((1, 29), np.float64(0.05910929269186607)), ((1, 30), np.float64(0.0624338549880808)), ((1, 31), np.float64(0.006178877603258747)), ((1, 32), np.float64(0.1464396479978688)), ((1, 33), np.float64(0.2051771188279455)), ((1, 34), np.float64(0.10744303048561892)), ((1, 35), np.float64(0.10181974934112513)), ((1, 36), np.float64(0.17019626096638532)), ((1, 37), np.float64(0.19770889030238722)), ((1, 38), np.float64(0.09616316578594798)), ((1, 39), np.float64(0.06456254820464999))]), (1, [((0, 0), np.float64(0.41468477290073746)), ((0, 1), np.float64(0.11180420666681867)), ((0, 2), np.float64(0.07007370588173374)), ((0, 3), np.float64(0.1197097657335407)), ((0, 4), np.float64(0.15303045853047445)), ((0, 5), np.float64(0.37160192516505175)), ((0, 6), np.float64(0.046209368669235286)), ((0, 7), np.float64(0.5052974434242192)), ((0, 8), np.float64(0.21376495368676823)), ((0, 9), np.float64(0.24238267886536197)), ((0, 10), np.float64(0.3331259722887028)), ((0, 11), np.float64(0.3340690435355284)), ((0, 12), np.float64(0.44022539841350083)), ((0, 13), np.float64(0.3928609996227962)), ((0, 14), np.float64(0.2816546473340861)), ((0, 15), np.float64(0.08964115229443066)), ((0, 16), np.float64(0.4333080299953424)), ((0, 17), np.float64(0.029765644942373222)), ((0, 18), np.float64(0.3048275711739159)), ((0, 19), np.float64(0.23260303691280002)), ((0, 20), np.float64(0.024991213033664406)), ((0, 21), np.float64(0.23443417797146482)), ((0, 22), np.float64(0.14263537358325287)), ((0, 23), np.float64(0.46984843367714574)), ((0, 24), np.float64(0.3558758534579805)), ((0, 25), np.float64(0.33796964534417095)), ((0, 26), np.float64(0.38532355633550114)), ((0, 27), np.float64(0.3576607192329328)), ((0, 28), np.float64(0.2808078108732031)), ((0, 29), np.float64(0.3501426729882629)), ((0, 30), np.float64(0.10442132398770712)), ((0, 31), np.float64(0.4360271442998557)), ((0, 32), np.float64(0.07565743954019985)), ((0, 33), np.float64(0.11105438381490519)), ((0, 34), np.float64(0.451636636491233)), ((0, 35), np.float64(0.44660567179120236)), ((0, 36), np.float64(0.5040462597482623)), ((0, 37), np.float64(0.4688647234591903)), ((0, 38), np.float64(0.11285461097669972)), ((0, 39), np.float64(0.05288945558270554)), ((1, 0), np.float64(0.09904137691990583)), ((1, 1), np.float64(0.02670279522506129)), ((1, 2), np.float64(0.016736077063694545)), ((1, 3), np.float64(0.02859092207817151)), ((1, 4), np.float64(0.036549080926033164)), ((1, 5), np.float64(0.08875167052069272)), ((1, 6), np.float64(0.011036430075758106)), ((1, 7), np.float64(0.1206828844974787)), ((1, 8), np.float64(0.05105462446151896)), ((1, 9), np.float64(0.05788954845975758)), ((1, 10), np.float64(0.07956225340146036)), ((1, 11), np.float64(0.07978749213922695)), ((1, 12), np.float64(0.10514138078666287)), ((1, 13), np.float64(0.0938290887041711)), ((1, 14), np.float64(0.06726908223016828)), ((1, 15), np.float64(0.021409474695258578)), ((1, 16), np.float64(0.10348926877877712)), ((1, 17), np.float64(0.007109087800306912)), ((1, 18), np.float64(0.07280359527317849)), ((1, 19), np.float64(0.05555382439159349)), ((1, 20), np.float64(0.005968784752907473)), ((1, 21), np.float64(0.05599116558094106)), ((1, 22), np.float64(0.034066367323673206)), ((1, 23), np.float64(0.1122164083564854)), ((1, 24), np.float64(0.08499572890625987)), ((1, 25), np.float64(0.08071909368138606)), ((1, 26), np.float64(0.09202888090679413)), ((1, 27), np.float64(0.0854220179226902)), ((1, 28), np.float64(0.06706682775980241)), ((1, 29), np.float64(0.083626442824499)), ((1, 30), np.float64(0.024939501962416313)), ((1, 31), np.float64(0.10413868935633488)), ((1, 32), np.float64(0.018069669966130058)), ((1, 33), np.float64(0.026523711032555145)), ((1, 34), np.float64(0.10786678766300839)), ((1, 35), np.float64(0.10666521552029135)), ((1, 36), np.float64(0.12038405762428618)), ((1, 37), np.float64(0.11198146359640904)), ((1, 38), np.float64(0.02695366889096781)), ((1, 39), np.float64(0.012631870875830854))])]\n",
            "aa (0, [((0, 0), np.float64(0.7687104556926646)), ((0, 1), np.float64(0.5450446527837265)), ((0, 2), np.float64(0.4478192150630807)), ((0, 3), np.float64(0.39847865358656)), ((0, 4), np.float64(0.555494110321492)), ((0, 5), np.float64(0.29649677305565664)), ((0, 6), np.float64(0.058360367844883965)), ((0, 7), np.float64(0.26908285803762483)), ((0, 8), np.float64(0.05296038717613254)), ((0, 9), np.float64(0.44920597589191447)), ((0, 10), np.float64(0.6682056343472671)), ((0, 11), np.float64(0.14319296251399907)), ((0, 12), np.float64(0.13925114816149486)), ((0, 13), np.float64(0.2500671947920897)), ((0, 14), np.float64(0.41410167607979664)), ((0, 15), np.float64(0.14509319472691318)), ((0, 16), np.float64(0.5661727139092083)), ((0, 17), np.float64(0.4779861445022997)), ((0, 18), np.float64(0.22222482336341515)), ((0, 19), np.float64(0.5319651902902233)), ((0, 20), np.float64(0.18021971143518778)), ((0, 21), np.float64(0.5106733838667865)), ((0, 22), np.float64(0.24023680127921987)), ((0, 23), np.float64(0.20286176214935114)), ((0, 24), np.float64(0.6349074949569186)), ((0, 25), np.float64(0.17869954794174156)), ((0, 26), np.float64(0.5395380182888566)), ((0, 27), np.float64(0.2959187750002992)), ((0, 28), np.float64(0.7260968489103128)), ((0, 29), np.float64(0.6453416978175829)), ((0, 30), np.float64(0.11467935180349023)), ((0, 31), np.float64(0.11451529291956011)), ((0, 32), np.float64(0.48786269985175446)), ((0, 33), np.float64(0.25169991813968584)), ((0, 34), np.float64(0.2034776230591193)), ((0, 35), np.float64(0.6368244812539785)), ((0, 36), np.float64(0.5056948194873102)), ((0, 37), np.float64(0.3870259662416936)), ((0, 38), np.float64(0.6460453233660434)), ((0, 39), np.float64(0.6691304103034853)), ((1, 0), np.float64(0.864200182336505)), ((1, 1), np.float64(0.6127504638827931)), ((1, 2), np.float64(0.5034476172990057)), ((1, 3), np.float64(0.44797793829461013)), ((1, 4), np.float64(0.6244979600207472)), ((1, 5), np.float64(0.33332780039527293)), ((1, 6), np.float64(0.06560993174904658)), ((1, 7), np.float64(0.30250851052911243)), ((1, 8), np.float64(0.05953916187205359)), ((1, 9), np.float64(0.5050066424849652)), ((1, 10), np.float64(0.7512105849020243)), ((1, 11), np.float64(0.1609804880335559)), ((1, 12), np.float64(0.15654901886731273)), ((1, 13), np.float64(0.2811307088843652)), ((1, 14), np.float64(0.46554166308502765)), ((1, 15), np.float64(0.1631167683621516)), ((1, 16), np.float64(0.6365030668841476)), ((1, 17), np.float64(0.5373619028779814)), ((1, 18), np.float64(0.24982973946583406)), ((1, 19), np.float64(0.5980462618154959)), ((1, 20), np.float64(0.20260672445593716)), ((1, 21), np.float64(0.5741095729658204)), ((1, 22), np.float64(0.2700791773182872)), ((1, 23), np.float64(0.2280613858446922)), ((1, 24), np.float64(0.7137761283787601)), ((1, 25), np.float64(0.2008977252371952)), ((1, 26), np.float64(0.6065597915701093)), ((1, 27), np.float64(0.33267800303512124)), ((1, 28), np.float64(0.8162930848349613)), ((1, 29), np.float64(0.7255064748934268)), ((1, 30), np.float64(0.12892489754091707)), ((1, 31), np.float64(0.12874045915276144)), ((1, 32), np.float64(0.5484653305348414)), ((1, 33), np.float64(0.2829662502175792)), ((1, 34), np.float64(0.2287537494083385)), ((1, 35), np.float64(0.7159312439950334)), ((1, 36), np.float64(0.5685125679912483)), ((1, 37), np.float64(0.435102590472317)), ((1, 38), np.float64(0.7262975052778493)), ((1, 39), np.float64(0.7522502371456822)), ((0, 0), np.float64(0.19941811559715206)), ((0, 1), np.float64(0.2407889487399261)), ((0, 2), np.float64(0.36517330056807135)), ((0, 3), np.float64(0.5012643176257546)), ((0, 4), np.float64(0.6644019494355401)), ((0, 5), np.float64(0.5514749289104769)), ((0, 6), np.float64(0.14471497186871443)), ((0, 7), np.float64(0.4432304766596169)), ((0, 8), np.float64(0.427196040107131)), ((0, 9), np.float64(0.18131352637307688)), ((0, 10), np.float64(0.013650216117629638)), ((0, 11), np.float64(0.4965914325705212)), ((0, 12), np.float64(0.07060512853972162)), ((0, 13), np.float64(0.10700438189570032)), ((0, 14), np.float64(0.38391388883436056)), ((0, 15), np.float64(0.049695451306025866)), ((0, 16), np.float64(0.5265739729334048)), ((0, 17), np.float64(0.3064595972306107)), ((0, 18), np.float64(0.3038154456490996)), ((0, 19), np.float64(0.6079284591887884)), ((0, 20), np.float64(0.6109188287167145)), ((0, 21), np.float64(0.17181693168246262)), ((0, 22), np.float64(0.15919150657542433)), ((0, 23), np.float64(0.44796897854925805)), ((0, 24), np.float64(0.17795716941766018)), ((0, 25), np.float64(0.6496559622662063)), ((0, 26), np.float64(0.02345145087078267)), ((0, 27), np.float64(0.5878263869158864)), ((0, 28), np.float64(0.3761840219453095)), ((0, 29), np.float64(0.1959151036447847)), ((0, 30), np.float64(0.20693421649784852)), ((0, 31), np.float64(0.020479613118724666)), ((0, 32), np.float64(0.48536765555234257)), ((0, 33), np.float64(0.680050372286839)), ((0, 34), np.float64(0.3561151131215685)), ((0, 35), np.float64(0.33747699958516914)), ((0, 36), np.float64(0.56410788538792)), ((0, 37), np.float64(0.6552972632747761)), ((0, 38), np.float64(0.3187285066998802)), ((0, 39), np.float64(0.21398967483882594)), ((1, 0), np.float64(0.06016618190021935)), ((1, 1), np.float64(0.07264812249412252)), ((1, 2), np.float64(0.1101759645120016)), ((1, 3), np.float64(0.15123580936491005)), ((1, 4), np.float64(0.200455853395748)), ((1, 5), np.float64(0.16638478799622228)), ((1, 6), np.float64(0.04366176711210757)), ((1, 7), np.float64(0.13372649421828295)), ((1, 8), np.float64(0.12888876509123987)), ((1, 9), np.float64(0.0547038696863935)), ((1, 10), np.float64(0.004118389061351354)), ((1, 11), np.float64(0.14982595925480297)), ((1, 12), np.float64(0.02130218207151651)), ((1, 13), np.float64(0.032284153753929)), ((1, 14), np.float64(0.11583016317479737)), ((1, 15), np.float64(0.014993550380006432)), ((1, 16), np.float64(0.15887195275394966)), ((1, 17), np.float64(0.0924615289680744)), ((1, 18), np.float64(0.09166376541209773)), ((1, 19), np.float64(0.18341730964784567)), ((1, 20), np.float64(0.18431953017293345)), ((1, 21), np.float64(0.05183866437705041)), ((1, 22), np.float64(0.04802946368691757)), ((1, 23), np.float64(0.13515614149868657)), ((1, 24), np.float64(0.05369122756761224)), ((1, 25), np.float64(0.1960068606667188)), ((1, 26), np.float64(0.0070755069302024754)), ((1, 27), np.float64(0.17735233940519207)), ((1, 28), np.float64(0.1134979950268913)), ((1, 29), np.float64(0.05910929269186607)), ((1, 30), np.float64(0.0624338549880808)), ((1, 31), np.float64(0.006178877603258747)), ((1, 32), np.float64(0.1464396479978688)), ((1, 33), np.float64(0.2051771188279455)), ((1, 34), np.float64(0.10744303048561892)), ((1, 35), np.float64(0.10181974934112513)), ((1, 36), np.float64(0.17019626096638532)), ((1, 37), np.float64(0.19770889030238722)), ((1, 38), np.float64(0.09616316578594798)), ((1, 39), np.float64(0.06456254820464999))])\n",
            "aa (1, [((0, 0), np.float64(0.41468477290073746)), ((0, 1), np.float64(0.11180420666681867)), ((0, 2), np.float64(0.07007370588173374)), ((0, 3), np.float64(0.1197097657335407)), ((0, 4), np.float64(0.15303045853047445)), ((0, 5), np.float64(0.37160192516505175)), ((0, 6), np.float64(0.046209368669235286)), ((0, 7), np.float64(0.5052974434242192)), ((0, 8), np.float64(0.21376495368676823)), ((0, 9), np.float64(0.24238267886536197)), ((0, 10), np.float64(0.3331259722887028)), ((0, 11), np.float64(0.3340690435355284)), ((0, 12), np.float64(0.44022539841350083)), ((0, 13), np.float64(0.3928609996227962)), ((0, 14), np.float64(0.2816546473340861)), ((0, 15), np.float64(0.08964115229443066)), ((0, 16), np.float64(0.4333080299953424)), ((0, 17), np.float64(0.029765644942373222)), ((0, 18), np.float64(0.3048275711739159)), ((0, 19), np.float64(0.23260303691280002)), ((0, 20), np.float64(0.024991213033664406)), ((0, 21), np.float64(0.23443417797146482)), ((0, 22), np.float64(0.14263537358325287)), ((0, 23), np.float64(0.46984843367714574)), ((0, 24), np.float64(0.3558758534579805)), ((0, 25), np.float64(0.33796964534417095)), ((0, 26), np.float64(0.38532355633550114)), ((0, 27), np.float64(0.3576607192329328)), ((0, 28), np.float64(0.2808078108732031)), ((0, 29), np.float64(0.3501426729882629)), ((0, 30), np.float64(0.10442132398770712)), ((0, 31), np.float64(0.4360271442998557)), ((0, 32), np.float64(0.07565743954019985)), ((0, 33), np.float64(0.11105438381490519)), ((0, 34), np.float64(0.451636636491233)), ((0, 35), np.float64(0.44660567179120236)), ((0, 36), np.float64(0.5040462597482623)), ((0, 37), np.float64(0.4688647234591903)), ((0, 38), np.float64(0.11285461097669972)), ((0, 39), np.float64(0.05288945558270554)), ((1, 0), np.float64(0.09904137691990583)), ((1, 1), np.float64(0.02670279522506129)), ((1, 2), np.float64(0.016736077063694545)), ((1, 3), np.float64(0.02859092207817151)), ((1, 4), np.float64(0.036549080926033164)), ((1, 5), np.float64(0.08875167052069272)), ((1, 6), np.float64(0.011036430075758106)), ((1, 7), np.float64(0.1206828844974787)), ((1, 8), np.float64(0.05105462446151896)), ((1, 9), np.float64(0.05788954845975758)), ((1, 10), np.float64(0.07956225340146036)), ((1, 11), np.float64(0.07978749213922695)), ((1, 12), np.float64(0.10514138078666287)), ((1, 13), np.float64(0.0938290887041711)), ((1, 14), np.float64(0.06726908223016828)), ((1, 15), np.float64(0.021409474695258578)), ((1, 16), np.float64(0.10348926877877712)), ((1, 17), np.float64(0.007109087800306912)), ((1, 18), np.float64(0.07280359527317849)), ((1, 19), np.float64(0.05555382439159349)), ((1, 20), np.float64(0.005968784752907473)), ((1, 21), np.float64(0.05599116558094106)), ((1, 22), np.float64(0.034066367323673206)), ((1, 23), np.float64(0.1122164083564854)), ((1, 24), np.float64(0.08499572890625987)), ((1, 25), np.float64(0.08071909368138606)), ((1, 26), np.float64(0.09202888090679413)), ((1, 27), np.float64(0.0854220179226902)), ((1, 28), np.float64(0.06706682775980241)), ((1, 29), np.float64(0.083626442824499)), ((1, 30), np.float64(0.024939501962416313)), ((1, 31), np.float64(0.10413868935633488)), ((1, 32), np.float64(0.018069669966130058)), ((1, 33), np.float64(0.026523711032555145)), ((1, 34), np.float64(0.10786678766300839)), ((1, 35), np.float64(0.10666521552029135)), ((1, 36), np.float64(0.12038405762428618)), ((1, 37), np.float64(0.11198146359640904)), ((1, 38), np.float64(0.02695366889096781)), ((1, 39), np.float64(0.012631870875830854))])\n",
            "240 key-value pairs were sent over a network.\n",
            "[(0, [((0, 1), np.float64(0.8976378081904712)), ((0, 2), np.float64(0.8830662215128858)), ((0, 4), np.float64(1.3729265182875066)), ((0, 5), np.float64(1.2195736271311852)), ((0, 8), np.float64(0.6939213809700318)), ((0, 9), np.float64(0.8729021811303532)), ((0, 11), np.float64(0.9738534386200486)), ((0, 12), np.float64(0.6500816751147174)), ((0, 15), np.float64(0.2844297983273697)), ((0, 16), np.float64(1.5260547168379555)), ((0, 18), np.float64(0.8308678401864307)), ((0, 19), np.float64(1.3724966863918118)), ((0, 22), np.float64(0.5420636814378971)), ((0, 23), np.float64(1.120679174375755)), ((0, 25), np.float64(1.1663251555521188)), ((0, 26), np.float64(0.9483130254951404)), ((0, 29), np.float64(1.1913994744506304)), ((0, 32), np.float64(1.048887794944297)), ((0, 33), np.float64(1.04280467424143)), ((0, 36), np.float64(1.5738489646234926)), ((0, 39), np.float64(0.9360095407250167)), ((1, 0), np.float64(1.0234077411566302)), ((1, 1), np.float64(0.7121013816019769)), ((1, 3), np.float64(0.6278046697376917)), ((1, 4), np.float64(0.8615028943425284)), ((1, 7), np.float64(0.5569178892448741)), ((1, 10), np.float64(0.834891227364836)), ((1, 11), np.float64(0.3905939394275858)), ((1, 14), np.float64(0.6486409084899932)), ((1, 17), np.float64(0.6369325196463627)), ((1, 18), np.float64(0.41429710015111026)), ((1, 21), np.float64(0.6819394029238119)), ((1, 24), np.float64(0.8524630848526322)), ((1, 25), np.float64(0.47762367958530005)), ((1, 27), np.float64(0.5954523603630035)), ((1, 28), np.float64(0.996857907621655)), ((1, 31), np.float64(0.23905802611235508)), ((1, 32), np.float64(0.7129746484988402)), ((1, 34), np.float64(0.4440635675569658)), ((1, 35), np.float64(0.9244162088564498)), ((1, 38), np.float64(0.8494143399547651)), ((1, 39), np.float64(0.829444656226163))]), (1, [((0, 0), np.float64(1.3828133441905541)), ((0, 3), np.float64(1.0194527369458553)), ((0, 6), np.float64(0.24928470838283368)), ((0, 7), np.float64(1.217610778121461)), ((0, 10), np.float64(1.0149818227535996)), ((0, 13), np.float64(0.7499325763105862)), ((0, 14), np.float64(1.079670212248243)), ((0, 17), np.float64(0.8142113866752837)), ((0, 20), np.float64(0.8161297531855667)), ((0, 21), np.float64(0.9169244935207139)), ((0, 24), np.float64(1.1687405178325592)), ((0, 27), np.float64(1.2414058811491184)), ((0, 28), np.float64(1.3830886817288253)), ((0, 30), np.float64(0.4260348922890459)), ((0, 31), np.float64(0.5710220503381405)), ((0, 34), np.float64(1.0112293726719208)), ((0, 35), np.float64(1.42090715263035)), ((0, 37), np.float64(1.51118795297566)), ((0, 38), np.float64(1.0776284410426233)), ((1, 2), np.float64(0.6303596588747018)), ((1, 5), np.float64(0.588464258912188)), ((1, 6), np.float64(0.12030812893691226)), ((1, 8), np.float64(0.23948255142481242)), ((1, 9), np.float64(0.6176000606311163)), ((1, 12), np.float64(0.28299258172549213)), ((1, 13), np.float64(0.4072439513424653)), ((1, 15), np.float64(0.19951979343741663)), ((1, 16), np.float64(0.8988642884168745)), ((1, 19), np.float64(0.8370173958549351)), ((1, 20), np.float64(0.3928950393817781)), ((1, 22), np.float64(0.35217500832887794)), ((1, 23), np.float64(0.47543393569986414)), ((1, 26), np.float64(0.7056641794071059)), ((1, 29), np.float64(0.8682422104097919)), ((1, 30), np.float64(0.21629825449141418)), ((1, 33), np.float64(0.5146670800780798)), ((1, 36), np.float64(0.8590928865819197)), ((1, 37), np.float64(0.7447929443711132))])]\n",
            "[((0, 1), np.float64(0.8976378081904712)), ((0, 2), np.float64(0.8830662215128858)), ((0, 4), np.float64(1.3729265182875066)), ((0, 5), np.float64(1.2195736271311852)), ((0, 8), np.float64(0.6939213809700318)), ((0, 9), np.float64(0.8729021811303532)), ((0, 11), np.float64(0.9738534386200486)), ((0, 12), np.float64(0.6500816751147174)), ((0, 15), np.float64(0.2844297983273697)), ((0, 16), np.float64(1.5260547168379555)), ((0, 18), np.float64(0.8308678401864307)), ((0, 19), np.float64(1.3724966863918118)), ((0, 22), np.float64(0.5420636814378971)), ((0, 23), np.float64(1.120679174375755)), ((0, 25), np.float64(1.1663251555521188)), ((0, 26), np.float64(0.9483130254951404)), ((0, 29), np.float64(1.1913994744506304)), ((0, 32), np.float64(1.048887794944297)), ((0, 33), np.float64(1.04280467424143)), ((0, 36), np.float64(1.5738489646234926)), ((0, 39), np.float64(0.9360095407250167)), ((1, 0), np.float64(1.0234077411566302)), ((1, 1), np.float64(0.7121013816019769)), ((1, 3), np.float64(0.6278046697376917)), ((1, 4), np.float64(0.8615028943425284)), ((1, 7), np.float64(0.5569178892448741)), ((1, 10), np.float64(0.834891227364836)), ((1, 11), np.float64(0.3905939394275858)), ((1, 14), np.float64(0.6486409084899932)), ((1, 17), np.float64(0.6369325196463627)), ((1, 18), np.float64(0.41429710015111026)), ((1, 21), np.float64(0.6819394029238119)), ((1, 24), np.float64(0.8524630848526322)), ((1, 25), np.float64(0.47762367958530005)), ((1, 27), np.float64(0.5954523603630035)), ((1, 28), np.float64(0.996857907621655)), ((1, 31), np.float64(0.23905802611235508)), ((1, 32), np.float64(0.7129746484988402)), ((1, 34), np.float64(0.4440635675569658)), ((1, 35), np.float64(0.9244162088564498)), ((1, 38), np.float64(0.8494143399547651)), ((1, 39), np.float64(0.829444656226163)), ((0, 0), np.float64(1.3828133441905541)), ((0, 3), np.float64(1.0194527369458553)), ((0, 6), np.float64(0.24928470838283368)), ((0, 7), np.float64(1.217610778121461)), ((0, 10), np.float64(1.0149818227535996)), ((0, 13), np.float64(0.7499325763105862)), ((0, 14), np.float64(1.079670212248243)), ((0, 17), np.float64(0.8142113866752837)), ((0, 20), np.float64(0.8161297531855667)), ((0, 21), np.float64(0.9169244935207139)), ((0, 24), np.float64(1.1687405178325592)), ((0, 27), np.float64(1.2414058811491184)), ((0, 28), np.float64(1.3830886817288253)), ((0, 30), np.float64(0.4260348922890459)), ((0, 31), np.float64(0.5710220503381405)), ((0, 34), np.float64(1.0112293726719208)), ((0, 35), np.float64(1.42090715263035)), ((0, 37), np.float64(1.51118795297566)), ((0, 38), np.float64(1.0776284410426233)), ((1, 2), np.float64(0.6303596588747018)), ((1, 5), np.float64(0.588464258912188)), ((1, 6), np.float64(0.12030812893691226)), ((1, 8), np.float64(0.23948255142481242)), ((1, 9), np.float64(0.6176000606311163)), ((1, 12), np.float64(0.28299258172549213)), ((1, 13), np.float64(0.4072439513424653)), ((1, 15), np.float64(0.19951979343741663)), ((1, 16), np.float64(0.8988642884168745)), ((1, 19), np.float64(0.8370173958549351)), ((1, 20), np.float64(0.3928950393817781)), ((1, 22), np.float64(0.35217500832887794)), ((1, 23), np.float64(0.47543393569986414)), ((1, 26), np.float64(0.7056641794071059)), ((1, 29), np.float64(0.8682422104097919)), ((1, 30), np.float64(0.21629825449141418)), ((1, 33), np.float64(0.5146670800780798)), ((1, 36), np.float64(0.8590928865819197)), ((1, 37), np.float64(0.7447929443711132))]\n",
            "True\n"
          ]
        }
      ],
      "source": [
        "I, J, K = 2, 3, 40\n",
        "\n",
        "maps = 3\n",
        "reducers = 2\n",
        "\n",
        "small_mat = np.random.rand(I, J)\n",
        "big_mat = np.random.rand(J, K)\n",
        "\n",
        "reference_solution = np.matmul(small_mat, big_mat)\n",
        "\n",
        "def flatten(nested_iterable):\n",
        "  for iterable in nested_iterable:\n",
        "    for element in iterable:\n",
        "      yield element\n",
        "\n",
        "def groupbykey(iterable):\n",
        "  t = {}\n",
        "  for (k2, v2) in iterable:\n",
        "    t[k2] = t.get(k2, []) + [v2]\n",
        "  return t.items()\n",
        "\n",
        "def groupbykey_distributed(map_partitions, PARTITIONER):\n",
        "  global reducers\n",
        "  partitions = [dict() for _ in range(reducers)]\n",
        "  for map_partition in map_partitions:\n",
        "    for (k2, v2) in map_partition:\n",
        "      p = partitions[PARTITIONER(k2)]\n",
        "      p[k2] = p.get(k2, []) + [v2]\n",
        "  return [(partition_id, sorted(partition.items(), key=lambda x: x[0])) for (partition_id, partition) in enumerate(partitions)]\n",
        "\n",
        "def PARTITIONER(obj):\n",
        "  global reducers\n",
        "  return hash(obj) % reducers\n",
        "\n",
        "def MapReduceDistributed(INPUTFORMAT, MAP, REDUCE, PARTITIONER=PARTITIONER, COMBINER=None):\n",
        "  map_partitions = map(lambda record_reader: flatten(map(lambda k1v1: MAP(*k1v1), record_reader)), INPUTFORMAT())\n",
        "\n",
        "  if COMBINER != None:\n",
        "    map_partitions = map(lambda map_partition: flatten(map(lambda k2v2: COMBINER(*k2v2), groupbykey(map_partition))), map_partitions)\n",
        "\n",
        "  reduce_partitions = groupbykey_distributed(map_partitions, PARTITIONER)\n",
        "\n",
        "  reduce_outputs = map(lambda reduce_partition: (reduce_partition[0], flatten(map(lambda reduce_input_group: REDUCE(*reduce_input_group), reduce_partition[1]))), reduce_partitions)\n",
        "\n",
        "  print(\"{} key-value pairs were sent over a network.\".format(sum([len(vs) for (k,vs) in flatten([partition for (partition_id, partition) in reduce_partitions])])))\n",
        "  return reduce_outputs\n",
        "\n",
        "def asmatrix(reduce_output):\n",
        "  reduce_output = list(reduce_output)\n",
        "  I = max(i for ((i,k), vw) in reduce_output) + 1\n",
        "  K = max(k for ((i,k), vw) in reduce_output) + 1\n",
        "  mat = np.empty(shape=(I,K))\n",
        "  for ((i,k), vw) in reduce_output:\n",
        "    mat[i,k] = vw\n",
        "  return mat\n",
        "\n",
        "def INPUTFORMAT():\n",
        "  first_mat = []\n",
        "\n",
        "  for i in range(small_mat.shape[0]):\n",
        "    for j in range(small_mat.shape[1]):\n",
        "      first_mat.append(((0, i, j), small_mat[i,j]))  \n",
        "\n",
        "  global maps\n",
        "  split_size = int(np.ceil(len(first_mat)/maps))\n",
        "\n",
        "  for i in range(0, len(first_mat), split_size):\n",
        "    yield first_mat[i:i+split_size]\n",
        "\n",
        "  second_mat = []\n",
        "\n",
        "  for j in range(big_mat.shape[0]):\n",
        "    for k in range(big_mat.shape[1]):\n",
        "      second_mat.append(((1, j, k), big_mat[j,k]))  \n",
        "\n",
        "  split_size = int(np.ceil(len(second_mat)/maps))\n",
        "\n",
        "  for i in range(0, len(second_mat), split_size):\n",
        "    yield second_mat[i:i+split_size]\n",
        "\n",
        "def MAP_JOIN(k1, v1):\n",
        "  (mat_num, i, j) = k1\n",
        "  w = v1\n",
        "  if mat_num == 0:\n",
        "    yield (j, (mat_num, i, w))\n",
        "  else:\n",
        "    yield (i, (mat_num, j, w))\n",
        "\n",
        "def REDUCE_JOIN(key, values):\n",
        "  from_first_mat = [v for v in values if v[0] == 0]\n",
        "  from_second_mat = [v for v in values if v[0] == 1]\n",
        "\n",
        "  for f in from_first_mat:\n",
        "    for s in from_second_mat:\n",
        "      yield ((f[1], s[1]), f[2] * s[2])\n",
        "\n",
        "def GET_JOINED():\n",
        "  for j in joined:\n",
        "    print(\"aa\", j)\n",
        "    yield j[1]\n",
        "\n",
        "def MAP_MUL(k1, v1):\n",
        "  yield (k1, v1)\n",
        "\n",
        "def REDUCE_MUL(key, values):\n",
        "  res_val = 0\n",
        "\n",
        "  for v in values:\n",
        "    res_val += v\n",
        "  yield (key, res_val)\n",
        "\n",
        "\n",
        "partitioned_output = MapReduceDistributed(INPUTFORMAT, MAP_JOIN, REDUCE_JOIN, COMBINER=None)\n",
        "joined = [(partition_id, list(partition)) for (partition_id, partition) in partitioned_output]\n",
        "print(joined)\n",
        "\n",
        "mul_output = MapReduceDistributed(GET_JOINED, MAP_MUL, REDUCE_MUL, COMBINER=None)\n",
        "pre_result = [(partition_id, list(partition)) for (partition_id, partition) in mul_output]\n",
        "print(pre_result)\n",
        "\n",
        "solution = [v for p in pre_result for v in p[1]]\n",
        "\n",
        "print(solution)\n",
        "\n",
        "assert np.allclose(reference_solution, asmatrix(solution)), \"False\"\n",
        "print(\"True\")"
      ]
    }
  ],
  "metadata": {
    "colab": {
      "provenance": []
    },
    "kernelspec": {
      "display_name": "Python 3",
      "name": "python3"
    },
    "language_info": {
      "codemirror_mode": {
        "name": "ipython",
        "version": 3
      },
      "file_extension": ".py",
      "mimetype": "text/x-python",
      "name": "python",
      "nbconvert_exporter": "python",
      "pygments_lexer": "ipython3",
      "version": "3.10.0"
    }
  },
  "nbformat": 4,
  "nbformat_minor": 0
}
